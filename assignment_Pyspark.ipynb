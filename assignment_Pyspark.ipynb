{
 "cells": [
  {
   "cell_type": "markdown",
   "metadata": {},
   "source": [
    "# BDTT Coursework \n",
    "\n",
    "## Pyspark Implementation (2/4)\n",
    "\n",
    "### Name :        Karishma Prasad \n",
    "### Student ID :  @00572026\n",
    "\n",
    "#### Invoke Jupyter Notebook using the following code\n",
    "pyspark --jars /home/cloudera/Downloads/commons-csv-1.4.jar,/home/cloudera/Downloads/spark-csv_2.10-1.5.0.jar\n",
    "\n",
    "#### Aim:-\n",
    "The aim of the current study is to analyse and visualise the real-life medical data provided using the Big data tools and techniques. \n",
    "The current study involves mainly two implementations:- 1) SQL using Hive/Impala, 2) Spark using Pyspark.\n",
    "\n",
    "Current Jupyter notebook comprises of Spark implementation with RDD and Dataframes\n",
    "\n",
    "##### This coursework comprises of the following :- \n",
    "* 1. Impala bash script\n",
    "* 2. Jupyter Notebook - Pyspark Implementation (RDD and Dataframe)\n",
    "* 3. Jupyter Notebook - Impala visualisation \n",
    "* 4. Databricks Notebook"
   ]
  },
  {
   "cell_type": "markdown",
   "metadata": {},
   "source": [
    "## 1. Setting Up the Directories  "
   ]
  },
  {
   "cell_type": "code",
   "execution_count": 1,
   "metadata": {},
   "outputs": [],
   "source": [
    "assert sc.version == \"1.6.0\", \"This notebook must be run on the VM (use of Spark 1.x is assumed)\""
   ]
  },
  {
   "cell_type": "markdown",
   "metadata": {},
   "source": [
    "--> Check if the data exists in 'Downloads' file"
   ]
  },
  {
   "cell_type": "code",
   "execution_count": 2,
   "metadata": {},
   "outputs": [
    {
     "name": "stdout",
     "output_type": "stream",
     "text": [
      "Required file exists\n"
     ]
    }
   ],
   "source": [
    "assert os.path.exists('/home/cloudera/Downloads/data.tgz'), \"You need to download data.tgz file into the /home/cloudera/Downloads directory on your VM\"\n",
    "if os.path.exists('/home/cloudera/Downloads/data.tgz'):\n",
    "    print 'Required file exists'"
   ]
  },
  {
   "cell_type": "markdown",
   "metadata": {},
   "source": [
    "-->  Checking if the directory 'assignment' exists, if it doesnt the directory is created and the intention is to copy the data file to 'assignment' directory."
   ]
  },
  {
   "cell_type": "code",
   "execution_count": 3,
   "metadata": {},
   "outputs": [],
   "source": [
    "if not os.path.exists('/home/cloudera/Desktop/assignment'):\n",
    "    os.system('mkdir /home/cloudera/Desktop/assignment')\n",
    "    print 'The Directory has been created'"
   ]
  },
  {
   "cell_type": "code",
   "execution_count": 4,
   "metadata": {},
   "outputs": [
    {
     "name": "stdout",
     "output_type": "stream",
     "text": [
      "db_setup.sql\n",
      "diagnoses.sql\n",
      "hearing_evaluation.sql\n",
      "imaging.sql\n",
      "Safe mode is OFF\n"
     ]
    }
   ],
   "source": [
    "# Checking the current directory \n",
    "import os\n",
    "os.getcwd()\n",
    "\n",
    "# Copying 'data.tgz' to assignment\n",
    "! cp /home/cloudera/Downloads/data.tgz /home/cloudera/Desktop/assignment\n",
    "! tar xzvf data.tgz\n",
    "\n",
    "# Existing hdfs safe mode\n",
    "! hdfs dfsadmin -safemode leave"
   ]
  },
  {
   "cell_type": "markdown",
   "metadata": {},
   "source": [
    "## 2. Data Pre-Processing \n",
    "\n",
    "The data provided were in the form of  ‘sql’ files where ‘db_setup.sql’ sets up the database ‘assignment’ and creates the tables ‘diagnoses’ , ‘hearing evaluation’ and ‘imaging’ on MySQL server. The files named imaging.sql , diagnoses.sql and hearing_evaluation.sql inserts the data into the tables created. \n",
    "However, in order to insert the data in the table, it should comply to the primary key constraints provided by the table schema.\n",
    "Primary key is an entity that is unique to each row. The primary key constraints imposes unique values (or non-repetitive) where no NULL values are allowed."
   ]
  },
  {
   "cell_type": "code",
   "execution_count": 5,
   "metadata": {},
   "outputs": [
    {
     "name": "stdout",
     "output_type": "stream",
     "text": [
      "+------------+------------------+--------------------------+-------------------------+-----------------------------+--------------------------------+\n",
      "| patient_id | evaluation_age   | severity_of_hearing_loss | unilateral_or_bilateral | has_conductive_hearing_loss | has_sensorineural_hearing_loss |\n",
      "+------------+------------------+--------------------------+-------------------------+-----------------------------+--------------------------------+\n",
      "| 000J1TN48  | 2.11859389559818 | Normal                   | Insufficient Data       | f                           | f                              |\n",
      "| 000JE5P7L  | 3.38154832047061 | Normal                   | Insufficient Data       | f                           | f                              |\n",
      "| 001M87HBZ  | 5.19128693100837 | Normal                   | Insufficient Data       | t                           | f                              |\n",
      "| 001M87HBZ  | 8.24376339137186 | Mild                     | Insufficient Data       | t                           | f                              |\n",
      "| 002ANH0GH  | 7.35543953897321 | Normal                   | Normal                  | f                           | f                              |\n",
      "+------------+------------------+--------------------------+-------------------------+-----------------------------+--------------------------------+\n",
      "+------------+-------------------+----------+\n",
      "| patient_id | imaging_age       | modality |\n",
      "+------------+-------------------+----------+\n",
      "| 00R99YUB4  |  8.15341238568207 | CT       |\n",
      "| 0263DNQG8  | 0.078671260881339 | CT       |\n",
      "| 02AQQ4CLC  |  5.47329158513104 | MR       |\n",
      "| 02AQQ4CLC  |  5.58251725238167 | MR       |\n",
      "| 02AQQ4CLC  |  5.72791714662045 | MR       |\n",
      "+------------+-------------------+----------+\n",
      "+------------+----------------+------------------+\n",
      "| patient_id | diagnosis_code | diagnosis_age    |\n",
      "+------------+----------------+------------------+\n",
      "| 00008RINR  | 315.320000     | 2.18430371791803 |\n",
      "| 00008RINR  | 315.320000     | 2.80033330216659 |\n",
      "| 00008RINR  | 315.320000     |  2.8222365762732 |\n",
      "| 00008RINR  | 315.320000     | 5.64822705794013 |\n",
      "| 00008RINR  | 315.320000     | 5.68655778752176 |\n",
      "+------------+----------------+------------------+\n"
     ]
    }
   ],
   "source": [
    "# a. Running the db_setup\n",
    "! mysql -uroot -pcloudera < db_setup.sql  # Set up the database and the tables using\n",
    "\n",
    "\n",
    "# b. DATA PRE PROCESSING\n",
    "\n",
    "# Hearing evaluation \n",
    "! cat hearing_evaluation.sql | sort -u -t ',' -k 1,2 -s | grep -v 'NULL' | mysql -uroot -pcloudera assignment\n",
    "\n",
    "# Imaging\n",
    "! cat imaging.sql | sort -u -t ',' -k 1,3 -s | grep -v 'NULL' | mysql -uroot -pcloudera assignment\n",
    "\n",
    "# Diagnoses\n",
    "! cat diagnoses.sql | sort -u -t ',' -k 1,3 -s | grep -v 'NULL' | mysql -uroot -pcloudera assignment\n",
    "\n",
    "\n",
    "# c. Checking the output using query \n",
    "! mysql -uroot -pcloudera assignment -e \"SELECT * FROM hearing_evaluation LIMIT 5;\"\n",
    "! mysql -uroot -pcloudera assignment -e \"SELECT * FROM imaging LIMIT 5;\"\n",
    "! mysql -uroot -pcloudera assignment -e \"SELECT * FROM diagnoses LIMIT 5;\""
   ]
  },
  {
   "cell_type": "markdown",
   "metadata": {},
   "source": [
    "## 3. Converting tables to csv file\n",
    "The tables in MySQL server are now dumped into .csv files for Pyspark implementation"
   ]
  },
  {
   "cell_type": "code",
   "execution_count": 6,
   "metadata": {},
   "outputs": [
    {
     "data": {
      "text/plain": [
       "0"
      ]
     },
     "execution_count": 6,
     "metadata": {},
     "output_type": "execute_result"
    }
   ],
   "source": [
    "# -------  a.DUMPTING TABLES TO .csv FILE  ----------------\n",
    "\n",
    "# Hearing Evaluation\n",
    "! mysql -uroot -pcloudera assignment -e \"SELECT 'patient_id','evaluation_age' , 'severity_of_hearing_loss','unilateral_or_bilateral','has_conductive_hearing_loss','has_sensorineural_hearing_loss' UNION SELECT * INTO OUTFILE '/tmp/hearing_evaluation.csv' FIELDS TERMINATED BY ',' OPTIONALLY ENCLOSED BY '' LINES TERMINATED BY '\\n' FROM hearing_evaluation;\"\n",
    "\n",
    "# Imaging\n",
    "! mysql -uroot -pcloudera assignment -e \"SELECT 'patient_id', 'imaging_age', 'modality' UNION SELECT * INTO OUTFILE '/tmp/imaging.csv' FIELDS TERMINATED BY ',' OPTIONALLY ENCLOSED BY '' LINES TERMINATED BY '\\n' FROM imaging; \"\n",
    "\n",
    "# Diagnoses\n",
    "! mysql -uroot -pcloudera assignment -e \"SELECT 'patient_id','diagnosis_code','diagnosis_age' UNION SELECT * INTO OUTFILE '/tmp/diagnoses.csv' FIELDS TERMINATED BY ',' OPTIONALLY ENCLOSED BY '' LINES TERMINATED BY '\\n' FROM diagnoses;\" \n",
    "\n",
    "\n",
    "# -------  b.Moving all the files from tmp to LFS  ----------------\n",
    "\n",
    "os.system('sudo mv /tmp/hearing_evaluation.csv ~/Desktop/assignment/')\n",
    "os.system('sudo mv /tmp/imaging.csv ~/Desktop/assignment/')\n",
    "os.system('sudo mv /tmp/diagnoses.csv ~/Desktop/assignment/')\n"
   ]
  },
  {
   "cell_type": "markdown",
   "metadata": {},
   "source": [
    "#### ------------------------\n",
    "## 4. RDD \n",
    "#### ------------------------"
   ]
  },
  {
   "cell_type": "code",
   "execution_count": 1,
   "metadata": {},
   "outputs": [],
   "source": [
    "# ============================================\n",
    "#  Assigning variable to path of .csv files (change path before submitting)\n",
    "# ============================================\n",
    "path_hearing_evaluation = \"file:/home/cloudera/Desktop/assignment/hearing_evaluation.csv\"\n",
    "path_imaging = \"file:/home/cloudera/Desktop/assignment/imaging.csv\"\n",
    "path_diagnoses = \"file:/home/cloudera/Desktop/assignment/diagnoses.csv\""
   ]
  },
  {
   "cell_type": "code",
   "execution_count": 2,
   "metadata": {},
   "outputs": [],
   "source": [
    "# ---------  Creating definition 1 ---------------- \n",
    "\n",
    "def rdd_from_file(filename):             \n",
    "    newRDD = sc.textFile(filename)                     \n",
    "    header = newRDD.first()\n",
    "    newRDD = newRDD.filter(lambda row: row != header)\n",
    "    splitRDD = newRDD.map(lambda line: line.split(\",\"))\n",
    "    return splitRDD\n",
    "\n",
    "# -------------------------------------------------"
   ]
  },
  {
   "cell_type": "code",
   "execution_count": 3,
   "metadata": {},
   "outputs": [
    {
     "name": "stdout",
     "output_type": "stream",
     "text": [
      "Safe mode is OFF\r\n"
     ]
    }
   ],
   "source": [
    "# --------  Creating RDD by using Definition  -----------------------\n",
    "\n",
    "# a. Hearing Evaluation RDD\n",
    "hearing_evaluation_RDD = rdd_from_file(path_hearing_evaluation)\n",
    "hearing_evaluation_RDD.take(2)\n",
    "\n",
    "# b. imaging RDD\n",
    "imaging_RDD = rdd_from_file(path_imaging)\n",
    "imaging_RDD.take(2)\n",
    "\n",
    "# c. diagnosis RDD\n",
    "diagnoses_RDD = rdd_from_file(path_diagnoses)\n",
    "diagnoses_RDD.take(2)\n",
    "\n",
    "! hdfs dfsadmin -safemode leave\n",
    "# ------------------------------------------------------------------"
   ]
  },
  {
   "cell_type": "markdown",
   "metadata": {},
   "source": [
    "Creating folder inside assignment to store all the output data from RDD operations"
   ]
  },
  {
   "cell_type": "code",
   "execution_count": 4,
   "metadata": {},
   "outputs": [],
   "source": [
    "if not os.path.exists('/home/cloudera/Desktop/assignment/data_result_rdd'):\n",
    "    os.system('mkdir /home/cloudera/Desktop/assignment/data_result_rdd')\n",
    "    print 'The Directory has been created'"
   ]
  },
  {
   "cell_type": "markdown",
   "metadata": {},
   "source": [
    "Checking if the RDDs are loaded correctly"
   ]
  },
  {
   "cell_type": "code",
   "execution_count": 5,
   "metadata": {},
   "outputs": [],
   "source": [
    "from pyspark.rdd import RDD\n",
    "assert isinstance(hearing_evaluation_RDD, RDD), \"Result should be an RDD\"\n",
    "assert isinstance(imaging_RDD, RDD), \"Result should be an RDD\"\n",
    "assert isinstance(diagnoses_RDD, RDD), \"Result should be an RDD\""
   ]
  },
  {
   "cell_type": "markdown",
   "metadata": {},
   "source": [
    "----------------------------------------------------------------------\n",
    "### Statement 1 :-  The 5 most common diagnosis codes along with their frequencies (RDD)\n",
    "#### 1.1 DATA ANALYSIS\n",
    "Approach adapted:-\n",
    "* Step1:- Extracting all diagnosis code from diagnosis_RDD.\n",
    "* Step2:- Count the frequency of each code.\n",
    "* Step3:- Present the top 5 most frequent diagnosis code"
   ]
  },
  {
   "cell_type": "markdown",
   "metadata": {},
   "source": [
    "####  Step 1:- Extracting Diagnosis code from te Diagnosis RDD"
   ]
  },
  {
   "cell_type": "code",
   "execution_count": 6,
   "metadata": {},
   "outputs": [
    {
     "data": {
      "text/plain": [
       "[[u'315.320000'],\n",
       " [u'315.320000'],\n",
       " [u'315.320000'],\n",
       " [u'315.320000'],\n",
       " [u'315.320000']]"
      ]
     },
     "execution_count": 6,
     "metadata": {},
     "output_type": "execute_result"
    }
   ],
   "source": [
    "diagnosis_codeRDD = diagnoses_RDD.map (lambda record: [record[i] for i in [1]])\n",
    "diagnosis_codeRDD.take(5)  # Checking the output"
   ]
  },
  {
   "cell_type": "markdown",
   "metadata": {},
   "source": [
    "##### Definition 1.1 'count_RDD'.\n",
    "It counts the number of occurances of each element in the RDD"
   ]
  },
  {
   "cell_type": "code",
   "execution_count": 13,
   "metadata": {},
   "outputs": [],
   "source": [
    "#---------- Definition 1.1 ------------------------------------------------------------------------\n",
    "#    COUNTING THE RECORDS IN RDD (Q1-Q7)\n",
    "\n",
    "def count_RDD (RDD):\n",
    "    key_valRDD = RDD.map(lambda k: (k,1))                  # a Assigning values to the key \n",
    "    tuple_RDD = key_valRDD.map(lambda(k,v): (tuple(k),v))  # b Converting list to tupples.\n",
    "    count_RDD = tuple_RDD.reduceByKey(lambda v1,v2: v1+v2) # c Reducing by key to obtain the count\n",
    "    return count_RDD\n",
    "\n",
    "# --> Reason for conversion from List to tupple:\n",
    "#-----------------------------------------------\n",
    "# Reduce by key to attain the count was giving error 'unbashable type:list in RDD'. Hence it was converted into tupple\n",
    "# which is unmutable.\n",
    "\n",
    "# ----------------------------------------------------------------------------------------------------\n"
   ]
  },
  {
   "cell_type": "markdown",
   "metadata": {},
   "source": [
    "#### Step2 :- Counting frequency of each diagnosis code by using definition 1.1"
   ]
  },
  {
   "cell_type": "code",
   "execution_count": 14,
   "metadata": {},
   "outputs": [
    {
     "data": {
      "text/plain": [
       "[((u'746.800000',), 6),\n",
       " ((u'G40.803',), 32),\n",
       " ((u'488.100000',), 43),\n",
       " ((u'45.900000',), 20),\n",
       " ((u'H02.206',), 4)]"
      ]
     },
     "execution_count": 14,
     "metadata": {},
     "output_type": "execute_result"
    }
   ],
   "source": [
    "diagnosis_code_countRDD = count_RDD(diagnosis_codeRDD)\n",
    "diagnosis_code_countRDD.take(5)"
   ]
  },
  {
   "cell_type": "markdown",
   "metadata": {},
   "source": [
    "#### Step3:- Sorting the RDD by Key in Decreasing order"
   ]
  },
  {
   "cell_type": "code",
   "execution_count": 15,
   "metadata": {},
   "outputs": [
    {
     "data": {
      "text/plain": [
       "[((u'V20.2',), 476228),\n",
       " ((u'382.900000',), 272497),\n",
       " ((u'389.900000',), 256345),\n",
       " ((u'381.810000',), 213910),\n",
       " ((u'465.900000',), 175831)]"
      ]
     },
     "execution_count": 15,
     "metadata": {},
     "output_type": "execute_result"
    }
   ],
   "source": [
    "sort_diagnosis_RDD_Decr = diagnosis_code_countRDD.sortBy(lambda\n",
    "                                                         a: -a[1]).map(lambda fields: \n",
    "                                                                       (fields[0],fields[1]))\n",
    "sort_diagnosis_RDD_Decr.take(5)"
   ]
  },
  {
   "cell_type": "markdown",
   "metadata": {},
   "source": [
    "#### 1.2 DATA VISUALISATION\n",
    "Approach: \n",
    "* Step 1:-Creating definition (Converting RDD to pandas dataframe.\n",
    "* Step 2:-Creating pandas dataframe\n",
    "* Step 3:-Plotting from pandas dataframe\n",
    "* Step 4:-Saving the solutions in pandas df to csv file"
   ]
  },
  {
   "cell_type": "code",
   "execution_count": 16,
   "metadata": {},
   "outputs": [],
   "source": [
    "import pandas as pd    # Importing pandas library "
   ]
  },
  {
   "cell_type": "markdown",
   "metadata": {},
   "source": [
    "##### Definition 1.2 'converting RDD to pandas dataframe'.\n",
    "It counts the number of occurances of each element in the RDD"
   ]
  },
  {
   "cell_type": "code",
   "execution_count": 17,
   "metadata": {},
   "outputs": [],
   "source": [
    "# ---------------- Definition 1.2 ----------------------\n",
    "#     CONVERTING RDD to PANDAS DATAFRAME (Q1 to Q6)\n",
    "\n",
    "def spark_pandas (RDD,a,b):           \n",
    "    DF_spark = RDD.toDF()              # --> RDD to Spark Dataframe\n",
    "    DF_pandas = DF_spark.toPandas()    # --> Spark Dataframe to \n",
    "    DF_pandas_rename = DF_pandas.rename(columns={\"_1\": a, \"_2\": b}) # --> Renaming the columns\n",
    "    return DF_pandas_rename\n",
    "\n",
    "# -------------------------------------------------------"
   ]
  },
  {
   "cell_type": "markdown",
   "metadata": {},
   "source": [
    "####  Step 2:-  Creating Dataframe pandas_df_1"
   ]
  },
  {
   "cell_type": "code",
   "execution_count": 18,
   "metadata": {},
   "outputs": [
    {
     "data": {
      "text/html": [
       "<div>\n",
       "<style scoped>\n",
       "    .dataframe tbody tr th:only-of-type {\n",
       "        vertical-align: middle;\n",
       "    }\n",
       "\n",
       "    .dataframe tbody tr th {\n",
       "        vertical-align: top;\n",
       "    }\n",
       "\n",
       "    .dataframe thead th {\n",
       "        text-align: right;\n",
       "    }\n",
       "</style>\n",
       "<table border=\"1\" class=\"dataframe\">\n",
       "  <thead>\n",
       "    <tr style=\"text-align: right;\">\n",
       "      <th></th>\n",
       "      <th>diagnosis_code</th>\n",
       "      <th>count</th>\n",
       "    </tr>\n",
       "  </thead>\n",
       "  <tbody>\n",
       "    <tr>\n",
       "      <th>0</th>\n",
       "      <td>(V20.2,)</td>\n",
       "      <td>476228</td>\n",
       "    </tr>\n",
       "    <tr>\n",
       "      <th>1</th>\n",
       "      <td>(382.900000,)</td>\n",
       "      <td>272497</td>\n",
       "    </tr>\n",
       "    <tr>\n",
       "      <th>2</th>\n",
       "      <td>(389.900000,)</td>\n",
       "      <td>256345</td>\n",
       "    </tr>\n",
       "    <tr>\n",
       "      <th>3</th>\n",
       "      <td>(381.810000,)</td>\n",
       "      <td>213910</td>\n",
       "    </tr>\n",
       "    <tr>\n",
       "      <th>4</th>\n",
       "      <td>(465.900000,)</td>\n",
       "      <td>175831</td>\n",
       "    </tr>\n",
       "  </tbody>\n",
       "</table>\n",
       "</div>"
      ],
      "text/plain": [
       "  diagnosis_code   count\n",
       "0       (V20.2,)  476228\n",
       "1  (382.900000,)  272497\n",
       "2  (389.900000,)  256345\n",
       "3  (381.810000,)  213910\n",
       "4  (465.900000,)  175831"
      ]
     },
     "execution_count": 18,
     "metadata": {},
     "output_type": "execute_result"
    }
   ],
   "source": [
    "pandas_df_1 = spark_pandas(sort_diagnosis_RDD_Decr, 'diagnosis_code','count') # --> using definition 1.2\n",
    "pandas_df_1_2 = pandas_df_1.nlargest(5,'count')                               # --> extracting top 5\n",
    "pandas_df_1_2"
   ]
  },
  {
   "cell_type": "markdown",
   "metadata": {},
   "source": [
    "####  Step 3 :-  Visualisation using Bar plots"
   ]
  },
  {
   "cell_type": "code",
   "execution_count": 19,
   "metadata": {},
   "outputs": [
    {
     "data": {
      "text/plain": [
       "<matplotlib.axes._subplots.AxesSubplot at 0x7ff092f39150>"
      ]
     },
     "execution_count": 19,
     "metadata": {},
     "output_type": "execute_result"
    }
   ],
   "source": [
    "viz_1 = pandas_df_1_2.plot.bar(x= 'diagnosis_code',\n",
    "                               y= 'count',\n",
    "                               rot = 0, \n",
    "                               title = \"5 Most Common Diagnosis codes\",\n",
    "                               figsize = (10,5),\n",
    "                               legend = False)\n",
    "viz_1"
   ]
  },
  {
   "cell_type": "markdown",
   "metadata": {},
   "source": [
    "####  Step 4 :-  Saving the solutions as .csv file"
   ]
  },
  {
   "cell_type": "code",
   "execution_count": 20,
   "metadata": {},
   "outputs": [],
   "source": [
    "filename_1 = \"/home/cloudera/Desktop/assignment/data_result_rdd/RDD_1.csv\"\n",
    "pandas_df_1_2.to_csv(filename_1, index = False, header = True)"
   ]
  },
  {
   "cell_type": "markdown",
   "metadata": {},
   "source": [
    "###  Statement 2 :- Top 5 most common diagnosis codes given to patients at the time of hearing evaluation with their frequencies. (RDD)\n",
    "\n",
    "#### 2.1 DATA ANALYSIS\n",
    "Approach adapted:-\n",
    "* Step1:- Creating two RDDs from diagnoses and hearing_evaluation with desired columns.\n",
    "* Step2:- Inner join of two RDDs where patient_id and age of both RDDs are equal --> (diagnoses_code,1)\n",
    "* Step3:- Counting keys using ReducedByKey(v1+v2) and sorting the values of the keys in decreasing order"
   ]
  },
  {
   "cell_type": "markdown",
   "metadata": {},
   "source": [
    "####  Step 1 :-  Creating two RDDs from diagnosis RDD and hearing evaluation RDD"
   ]
  },
  {
   "cell_type": "code",
   "execution_count": 21,
   "metadata": {},
   "outputs": [
    {
     "data": {
      "text/plain": [
       "[((u'000J1TN48', u'2.11859389559818'), 1),\n",
       " ((u'000JE5P7L', u'3.38154832047061'), 1),\n",
       " ((u'001M87HBZ', u'5.19128693100837'), 1),\n",
       " ((u'001M87HBZ', u'8.24376339137186'), 1),\n",
       " ((u'002ANH0GH', u'7.35543953897321'), 1)]"
      ]
     },
     "execution_count": 21,
     "metadata": {},
     "output_type": "execute_result"
    }
   ],
   "source": [
    "# --> RDD2_1 from diagnosis_RDD\n",
    "RDD2_1 = diagnoses_RDD.map(lambda (patient_id,diagnosis_code,diagnosis_age):\n",
    "                           ((patient_id,diagnosis_age),diagnosis_code))\n",
    "RDD2_1.take(5)\n",
    "\n",
    "# --> RDD2_2 from hearing_evaluation_RDD\n",
    "RDD2_2 = hearing_evaluation_RDD.map (lambda (a,b,c,d,e,f):((a,b),1))\n",
    "RDD2_2.take(5)\n",
    "\n",
    "# -------- < OUTPUT > ----------------------------------\n",
    "# RDD2_1 = [(patient_id,diagnosis_age), diagnosis_code]\n",
    "# RDD2_2 = [(patient_id,evaluation_age), 1]\n",
    "# ------------------------------------------------------"
   ]
  },
  {
   "cell_type": "markdown",
   "metadata": {},
   "source": [
    "####  Step 2 :-  Inner join of two RDDs\n",
    "In order to achieve diagnosis code assigned to patients at the time of hearing evaluation. The diagnosis_age is assumed to be equal to evaluation_age. However, if the RDDs are joined only on the above condition, there can be patients with the same age where one patient underwent hearing evaluation whereas the other hasnt been. \n",
    "Hence, it is essential to add one more condition to the joined RDD where patient_id in both the RDDs are equal, so that only those patients that have been to hearing evaluation are considerd."
   ]
  },
  {
   "cell_type": "code",
   "execution_count": 22,
   "metadata": {},
   "outputs": [
    {
     "data": {
      "text/plain": [
       "[(u'389.180000', 1),\n",
       " (u'381.810000', 1),\n",
       " (u'384.200000', 1),\n",
       " (u'389.050000', 1),\n",
       " (u'389.060000', 1)]"
      ]
     },
     "execution_count": 22,
     "metadata": {},
     "output_type": "execute_result"
    }
   ],
   "source": [
    "RDD2_3 = RDD2_1.join(RDD2_2).map(lambda ((patient_id, diagnosis_age),(diagnosis_code,d)): (diagnosis_code,d))\n",
    "RDD2_3.take(5)\n",
    "\n",
    "# -------- < OUTPUT > ------------\n",
    "# RDD2_3 = [(diagnosis_code), 1]\n",
    "# --------------------------------"
   ]
  },
  {
   "cell_type": "markdown",
   "metadata": {},
   "source": [
    "####  Step 3 :-  Counting Keys using ReducedByKey and sorting in decreasing order"
   ]
  },
  {
   "cell_type": "code",
   "execution_count": 23,
   "metadata": {},
   "outputs": [
    {
     "data": {
      "text/plain": [
       "[(u'389.180000', 13),\n",
       " (u'V20.2', 12),\n",
       " (u'381.810000', 9),\n",
       " (u'493.900000', 9),\n",
       " (u'389.900000', 9)]"
      ]
     },
     "execution_count": 23,
     "metadata": {},
     "output_type": "execute_result"
    }
   ],
   "source": [
    "RDD2_4 = RDD2_3.reduceByKey(lambda v1,v2: v1+v2).sortBy(lambda a: -a[1])\n",
    "RDD2_4.take(5)\n",
    "\n",
    "# -------- < OUTPUT > ------------------------\n",
    "# RDD2_4 = [(diagnosis_code), diagnoses_count]\n",
    "# ---------------------------------------------"
   ]
  },
  {
   "cell_type": "markdown",
   "metadata": {},
   "source": [
    "#### 2.2 DATA VISUALISATION\n",
    "Approach: \n",
    "* Step 1:-Creating pandas dataframe\n",
    "* Step 2:-Plotting from pandas dataframe\n",
    "* Step 3:-Saving the solutions in pandas df to csv file"
   ]
  },
  {
   "cell_type": "markdown",
   "metadata": {},
   "source": [
    "####  Step 1 :-  Creating Dataframe pandas_df_2 using definition 1.2 "
   ]
  },
  {
   "cell_type": "code",
   "execution_count": 24,
   "metadata": {},
   "outputs": [
    {
     "data": {
      "text/html": [
       "<div>\n",
       "<style scoped>\n",
       "    .dataframe tbody tr th:only-of-type {\n",
       "        vertical-align: middle;\n",
       "    }\n",
       "\n",
       "    .dataframe tbody tr th {\n",
       "        vertical-align: top;\n",
       "    }\n",
       "\n",
       "    .dataframe thead th {\n",
       "        text-align: right;\n",
       "    }\n",
       "</style>\n",
       "<table border=\"1\" class=\"dataframe\">\n",
       "  <thead>\n",
       "    <tr style=\"text-align: right;\">\n",
       "      <th></th>\n",
       "      <th>diagnosis_code</th>\n",
       "      <th>count</th>\n",
       "    </tr>\n",
       "  </thead>\n",
       "  <tbody>\n",
       "    <tr>\n",
       "      <th>0</th>\n",
       "      <td>389.180000</td>\n",
       "      <td>13</td>\n",
       "    </tr>\n",
       "    <tr>\n",
       "      <th>1</th>\n",
       "      <td>V20.2</td>\n",
       "      <td>12</td>\n",
       "    </tr>\n",
       "    <tr>\n",
       "      <th>2</th>\n",
       "      <td>381.810000</td>\n",
       "      <td>9</td>\n",
       "    </tr>\n",
       "    <tr>\n",
       "      <th>3</th>\n",
       "      <td>493.900000</td>\n",
       "      <td>9</td>\n",
       "    </tr>\n",
       "    <tr>\n",
       "      <th>4</th>\n",
       "      <td>389.900000</td>\n",
       "      <td>9</td>\n",
       "    </tr>\n",
       "  </tbody>\n",
       "</table>\n",
       "</div>"
      ],
      "text/plain": [
       "  diagnosis_code  count\n",
       "0     389.180000     13\n",
       "1          V20.2     12\n",
       "2     381.810000      9\n",
       "3     493.900000      9\n",
       "4     389.900000      9"
      ]
     },
     "execution_count": 24,
     "metadata": {},
     "output_type": "execute_result"
    }
   ],
   "source": [
    "pandas_df_2 = spark_pandas(RDD2_4, 'diagnosis_code','count')\n",
    "pandas_df_2_1 = pandas_df_2.nlargest(5,'count')  # --> Extracting top 5 results\n",
    "pandas_df_2_1"
   ]
  },
  {
   "cell_type": "markdown",
   "metadata": {},
   "source": [
    "####  Step 2 :-  Plotting Bar Graph"
   ]
  },
  {
   "cell_type": "code",
   "execution_count": 25,
   "metadata": {},
   "outputs": [
    {
     "data": {
      "text/plain": [
       "<matplotlib.axes._subplots.AxesSubplot at 0x7ff09b0bae50>"
      ]
     },
     "execution_count": 25,
     "metadata": {},
     "output_type": "execute_result"
    },
    {
     "data": {
      "image/png": "[encoded data removed]",
      "text/plain": [
       "<Figure size 720x360 with 1 Axes>"
      ]
     },
     "metadata": {
      "needs_background": "light"
     },
     "output_type": "display_data"
    }
   ],
   "source": [
    "viz_2 = pandas_df_2_1.plot.bar(x= 'diagnosis_code',y= 'count',rot = 0, \n",
    "                 title = \"Most Common Diagnosis codes during Hearing Evaluation\",\n",
    "                              figsize = (10,5),\n",
    "                              legend = False)\n",
    "viz_2"
   ]
  },
  {
   "cell_type": "markdown",
   "metadata": {},
   "source": [
    "####  Step 3 :-  Saving the solution as .csv file"
   ]
  },
  {
   "cell_type": "code",
   "execution_count": 26,
   "metadata": {},
   "outputs": [],
   "source": [
    "filename_2 = \"/home/cloudera/Desktop/assignment/data_result_rdd/RDD_2.csv\"\n",
    "pandas_df_2_1.to_csv(filename_2, index = False, header = True)"
   ]
  },
  {
   "cell_type": "markdown",
   "metadata": {},
   "source": [
    "###  Statement 3 :- The highest number of diagnoses assigned to a single patient. (RDD)\n",
    "\n",
    "#### 3.1 DATA ANALYSIS\n",
    "Approach adapted:-\n",
    "* Step1:- Extraction of patient_id from diagnoses_RDD.\n",
    "* Step2:- Count no.of occurence of each patient_id using count_RDD\n",
    "* Step3:- Sort in decreasing order of the keys"
   ]
  },
  {
   "cell_type": "markdown",
   "metadata": {},
   "source": [
    "####  Step 1 :-  Extracting patient_id from the diagnoses RDD"
   ]
  },
  {
   "cell_type": "code",
   "execution_count": 27,
   "metadata": {},
   "outputs": [
    {
     "data": {
      "text/plain": [
       "[[u'00008RINR'],\n",
       " [u'00008RINR'],\n",
       " [u'00008RINR'],\n",
       " [u'00008RINR'],\n",
       " [u'00008RINR']]"
      ]
     },
     "execution_count": 27,
     "metadata": {},
     "output_type": "execute_result"
    }
   ],
   "source": [
    "patientID_RDD = diagnoses_RDD.map (lambda record: [record[i] for i in [0]])\n",
    "patientID_RDD.take(5)  # Checking the output\n",
    "\n",
    "# -------- < OUTPUT > ------------\n",
    "# patientID_RDD = [(patient_id)]\n",
    "# --------------------------------"
   ]
  },
  {
   "cell_type": "markdown",
   "metadata": {},
   "source": [
    "####  Step 2 :-  Count patient_id using count_RDD using definition 1.1"
   ]
  },
  {
   "cell_type": "code",
   "execution_count": 28,
   "metadata": {},
   "outputs": [],
   "source": [
    "patientID_countRDD = count_RDD(patientID_RDD)"
   ]
  },
  {
   "cell_type": "markdown",
   "metadata": {},
   "source": [
    "####  Step 3 :-  Sorting the patient_id count in decreasing order"
   ]
  },
  {
   "cell_type": "code",
   "execution_count": 29,
   "metadata": {},
   "outputs": [
    {
     "data": {
      "text/plain": [
       "[((u'59VKSHG5W',), 8557),\n",
       " ((u'S7ORRS7WB',), 7828),\n",
       " ((u'3SPYXMEMK',), 7592),\n",
       " ((u'T2FMCCLFU',), 6812),\n",
       " ((u'T9WIA97LK',), 6504)]"
      ]
     },
     "execution_count": 29,
     "metadata": {},
     "output_type": "execute_result"
    }
   ],
   "source": [
    "sort_patientID_Decr = patientID_countRDD.sortBy(lambda a: -a[1]) \n",
    "sort_patientID_Decr.take(5)\n",
    "\n",
    "# -------- < OUTPUT > -----------------------------\n",
    "# sort_patientID_Decr = [(patient_id), patient_id_count]\n",
    "# -------------------------------------------------"
   ]
  },
  {
   "cell_type": "markdown",
   "metadata": {},
   "source": [
    "#### 3.2 DATA VISUALISATION\n",
    "Approach: \n",
    "* Step 1:-Creating pandas dataframe\n",
    "* Step 2:-Plotting from pandas dataframe\n",
    "* Step 3:-Saving the solutions in pandas df to csv file"
   ]
  },
  {
   "cell_type": "markdown",
   "metadata": {},
   "source": [
    "####  Step 1 :-  Creating Dataframe pandas_df_3 using definition 1.2 "
   ]
  },
  {
   "cell_type": "code",
   "execution_count": 30,
   "metadata": {},
   "outputs": [
    {
     "data": {
      "text/html": [
       "<div>\n",
       "<style scoped>\n",
       "    .dataframe tbody tr th:only-of-type {\n",
       "        vertical-align: middle;\n",
       "    }\n",
       "\n",
       "    .dataframe tbody tr th {\n",
       "        vertical-align: top;\n",
       "    }\n",
       "\n",
       "    .dataframe thead th {\n",
       "        text-align: right;\n",
       "    }\n",
       "</style>\n",
       "<table border=\"1\" class=\"dataframe\">\n",
       "  <thead>\n",
       "    <tr style=\"text-align: right;\">\n",
       "      <th></th>\n",
       "      <th>patient_id</th>\n",
       "      <th>No.of Diagnoses</th>\n",
       "    </tr>\n",
       "  </thead>\n",
       "  <tbody>\n",
       "    <tr>\n",
       "      <th>0</th>\n",
       "      <td>(59VKSHG5W,)</td>\n",
       "      <td>8557</td>\n",
       "    </tr>\n",
       "    <tr>\n",
       "      <th>1</th>\n",
       "      <td>(S7ORRS7WB,)</td>\n",
       "      <td>7828</td>\n",
       "    </tr>\n",
       "    <tr>\n",
       "      <th>2</th>\n",
       "      <td>(3SPYXMEMK,)</td>\n",
       "      <td>7592</td>\n",
       "    </tr>\n",
       "    <tr>\n",
       "      <th>3</th>\n",
       "      <td>(T2FMCCLFU,)</td>\n",
       "      <td>6812</td>\n",
       "    </tr>\n",
       "    <tr>\n",
       "      <th>4</th>\n",
       "      <td>(T9WIA97LK,)</td>\n",
       "      <td>6504</td>\n",
       "    </tr>\n",
       "  </tbody>\n",
       "</table>\n",
       "</div>"
      ],
      "text/plain": [
       "     patient_id  No.of Diagnoses\n",
       "0  (59VKSHG5W,)             8557\n",
       "1  (S7ORRS7WB,)             7828\n",
       "2  (3SPYXMEMK,)             7592\n",
       "3  (T2FMCCLFU,)             6812\n",
       "4  (T9WIA97LK,)             6504"
      ]
     },
     "execution_count": 30,
     "metadata": {},
     "output_type": "execute_result"
    }
   ],
   "source": [
    "pandas_df_3 = spark_pandas(sort_patientID_Decr, 'patient_id','No.of Diagnoses')\n",
    "pandas_df_3_1 = pandas_df_3.nlargest(5,'No.of Diagnoses')\n",
    "pandas_df_3_1"
   ]
  },
  {
   "cell_type": "markdown",
   "metadata": {},
   "source": [
    "####  Step 2 :-  Plotting Bar Graph"
   ]
  },
  {
   "cell_type": "code",
   "execution_count": 31,
   "metadata": {},
   "outputs": [
    {
     "data": {
      "text/plain": [
       "<matplotlib.axes._subplots.AxesSubplot at 0x7ff092769e90>"
      ]
     },
     "execution_count": 31,
     "metadata": {},
     "output_type": "execute_result"
    },
    {
     "data": {
      "image/png": "[encoded data removed]",
      "text/plain": [
       "<Figure size 720x360 with 1 Axes>"
      ]
     },
     "metadata": {
      "needs_background": "light"
     },
     "output_type": "display_data"
    }
   ],
   "source": [
    "viz_3 = pandas_df_3_1.plot.barh(x= 'patient_id',y= 'No.of Diagnoses',rot = 0,\n",
    "                                title = \"Maximum no. of diagnoses assigned to a patient\",\n",
    "                                figsize = (10,5))\n",
    "viz_3"
   ]
  },
  {
   "cell_type": "markdown",
   "metadata": {},
   "source": [
    "####  Step 3 :-  Saving the solution as .csv file"
   ]
  },
  {
   "cell_type": "code",
   "execution_count": 32,
   "metadata": {},
   "outputs": [],
   "source": [
    "filename_3 = \"/home/cloudera/Desktop/assignment/data_result_rdd/RDD_3.csv\"\n",
    "pandas_df_3_1.to_csv(filename_3, index = False, header = True)"
   ]
  },
  {
   "cell_type": "markdown",
   "metadata": {},
   "source": [
    "###  Statement 4 :- The client is interested in the total number of (different) people with a hearing problem in comparison to the total number of people who have had a hearing evaluation. (RDD)\n",
    "\n",
    "#### 4.1 DATA ANALYSIS\n",
    "Approach adapted:-\n",
    "* Step1:- Extraction patient_id and severity of hearing loss from hearing_evaluation_RDD.\n",
    "* Step2:- Count no.of patient_id occured using def count_RDD from the RDD in (a)\n",
    "* Step3:- Count no. of distict patients evaluated using .count() from RDD in (b)\n",
    "* Step4:- Filter out 'Normal' and 'Insufficient Data' to obtain RDD with hearing problem\n",
    "* Step5:- Calculate no. of distinct patients with hearing problems using (b) and (c)\n",
    "* Step6:- Calculating percentage of patients with and without hearing problems"
   ]
  },
  {
   "cell_type": "markdown",
   "metadata": {},
   "source": [
    "####  Step 1 :-  Extract required columns "
   ]
  },
  {
   "cell_type": "code",
   "execution_count": 33,
   "metadata": {},
   "outputs": [
    {
     "data": {
      "text/plain": [
       "[[u'000J1TN48', u'Normal'],\n",
       " [u'000JE5P7L', u'Normal'],\n",
       " [u'001M87HBZ', u'Normal'],\n",
       " [u'001M87HBZ', u'Mild'],\n",
       " [u'002ANH0GH', u'Normal']]"
      ]
     },
     "execution_count": 33,
     "metadata": {},
     "output_type": "execute_result"
    }
   ],
   "source": [
    "RDD4_1 = hearing_evaluation_RDD.map (lambda record: [record[i] for i in [0,2]])\n",
    "RDD4_1.take(5)\n",
    "\n",
    "#-------  < Output >  ----------------------------------\n",
    "# RDD4_1 = [['patient_id','severity of hearing loss']]\n",
    "# -----------------------------------------------------"
   ]
  },
  {
   "cell_type": "markdown",
   "metadata": {},
   "source": [
    "####  Step 2 :-  Calculating No. of patients that have been evaluated"
   ]
  },
  {
   "cell_type": "code",
   "execution_count": 34,
   "metadata": {},
   "outputs": [
    {
     "name": "stdout",
     "output_type": "stream",
     "text": [
      "No. of patients evaluated :- 33892\n"
     ]
    }
   ],
   "source": [
    "RDD4_3 = count_RDD(RDD4_1.map (lambda record: [record[i] for i in [0]]))\n",
    "Patients_evaluated_hearing = RDD4_3.count()\n",
    "print 'No. of patients evaluated :-',Patients_evaluated_hearing"
   ]
  },
  {
   "cell_type": "markdown",
   "metadata": {},
   "source": [
    "####  Step 3 :-  Filtering RDD to obtain records for hearing problem "
   ]
  },
  {
   "cell_type": "code",
   "execution_count": 35,
   "metadata": {},
   "outputs": [
    {
     "data": {
      "text/plain": [
       "[[u'001M87HBZ', u'Mild'],\n",
       " [u'00B0OT59S', u'Moderate'],\n",
       " [u'00HQAUUEY', u'Moderate'],\n",
       " [u'00JEZTXSZ', u'Mild'],\n",
       " [u'00K33OU94', u'Mild'],\n",
       " [u'00KPIFWS0', u'Slight'],\n",
       " [u'00NX57Z6O', u'Slight'],\n",
       " [u'00NX57Z6O', u'Mild'],\n",
       " [u'00ON22812', u'Mild'],\n",
       " [u'00RPIQR31', u'Slight']]"
      ]
     },
     "execution_count": 35,
     "metadata": {},
     "output_type": "execute_result"
    }
   ],
   "source": [
    "RDD4_2 = RDD4_1.filter(lambda (a,b): b != 'Insufficient Data' and b != 'Normal')\n",
    "RDD4_2.take(10)"
   ]
  },
  {
   "cell_type": "markdown",
   "metadata": {},
   "source": [
    "####  Step 4 :-  Calculating No. of distinct patients with hearing problems"
   ]
  },
  {
   "cell_type": "code",
   "execution_count": 36,
   "metadata": {},
   "outputs": [
    {
     "name": "stdout",
     "output_type": "stream",
     "text": [
      "No. of patients with hearing problem :- 11417\n"
     ]
    }
   ],
   "source": [
    "RDD4_4 = count_RDD(RDD4_2.map (lambda record: [record[i] for i in [0]]))\n",
    "Patients_hearing_problem = RDD4_4.count()\n",
    "print 'No. of patients with hearing problem :-', Patients_hearing_problem"
   ]
  },
  {
   "cell_type": "markdown",
   "metadata": {},
   "source": [
    "####  Step 5 :-  Patients with normal hearing  "
   ]
  },
  {
   "cell_type": "code",
   "execution_count": 37,
   "metadata": {},
   "outputs": [
    {
     "name": "stdout",
     "output_type": "stream",
     "text": [
      "No. of patients without any problem :- 22475\n"
     ]
    }
   ],
   "source": [
    "Patients_hearing_normal = int(Patients_evaluated_hearing) - int(Patients_hearing_problem)\n",
    "print 'No. of patients without any problem :-',Patients_hearing_normal"
   ]
  },
  {
   "cell_type": "markdown",
   "metadata": {},
   "source": [
    "####  Step 6 :-  Calculation of percentage"
   ]
  },
  {
   "cell_type": "code",
   "execution_count": 38,
   "metadata": {},
   "outputs": [
    {
     "name": "stdout",
     "output_type": "stream",
     "text": [
      "Patients with hearing problems (%) :- 33.69\n",
      "Patients without hearing problems (%) :- 66.31\n"
     ]
    }
   ],
   "source": [
    "# --> Percentage of Patients with hearing problem\n",
    "Percentage_Patients_hearing_problem = round(float(Patients_hearing_problem)/\n",
    "                                            float(Patients_evaluated_hearing)*100,2)\n",
    "print'Patients with hearing problems (%) :-',Percentage_Patients_hearing_problem\n",
    "\n",
    "# --> Percentage of Patients without hearing problem\n",
    "Percentage_Patients_Normal = round(float(Patients_hearing_normal)/\n",
    "                                   float(Patients_evaluated_hearing)*100,2)\n",
    "print'Patients without hearing problems (%) :-',Percentage_Patients_Normal"
   ]
  },
  {
   "cell_type": "markdown",
   "metadata": {},
   "source": [
    "#### 4.2 DATA VISUALISATION\n",
    "Approach: \n",
    "* Step 1:-Creating pandas dataframe\n",
    "* Step 2:-Plotting from pandas dataframe\n",
    "* Step 3:-Saving the solutions in pandas df to csv file"
   ]
  },
  {
   "cell_type": "markdown",
   "metadata": {},
   "source": [
    "####  Step 1:- Creating pandas dataframe fromthe results found above"
   ]
  },
  {
   "cell_type": "code",
   "execution_count": 39,
   "metadata": {},
   "outputs": [
    {
     "data": {
      "text/html": [
       "<div>\n",
       "<style scoped>\n",
       "    .dataframe tbody tr th:only-of-type {\n",
       "        vertical-align: middle;\n",
       "    }\n",
       "\n",
       "    .dataframe tbody tr th {\n",
       "        vertical-align: top;\n",
       "    }\n",
       "\n",
       "    .dataframe thead th {\n",
       "        text-align: right;\n",
       "    }\n",
       "</style>\n",
       "<table border=\"1\" class=\"dataframe\">\n",
       "  <thead>\n",
       "    <tr style=\"text-align: right;\">\n",
       "      <th></th>\n",
       "      <th>Hearing Condition</th>\n",
       "      <th>Number of Patients</th>\n",
       "      <th>Percentage of Patients</th>\n",
       "    </tr>\n",
       "  </thead>\n",
       "  <tbody>\n",
       "    <tr>\n",
       "      <th>0</th>\n",
       "      <td>With hearing problem</td>\n",
       "      <td>11417</td>\n",
       "      <td>33.69</td>\n",
       "    </tr>\n",
       "    <tr>\n",
       "      <th>1</th>\n",
       "      <td>Without hearing problem</td>\n",
       "      <td>22475</td>\n",
       "      <td>66.31</td>\n",
       "    </tr>\n",
       "  </tbody>\n",
       "</table>\n",
       "</div>"
      ],
      "text/plain": [
       "         Hearing Condition  Number of Patients  Percentage of Patients\n",
       "0     With hearing problem               11417                   33.69\n",
       "1  Without hearing problem               22475                   66.31"
      ]
     },
     "execution_count": 39,
     "metadata": {},
     "output_type": "execute_result"
    }
   ],
   "source": [
    "pandas_df_4_1 = pd.DataFrame({'Hearing Condition': ['With hearing problem','Without hearing problem'],\n",
    "                    'Number of Patients':[Patients_hearing_problem,Patients_hearing_normal],\n",
    "                      'Percentage of Patients':[Percentage_Patients_hearing_problem, \n",
    "                                            Percentage_Patients_Normal]})\n",
    "\n",
    "pandas_df_4_1"
   ]
  },
  {
   "cell_type": "markdown",
   "metadata": {},
   "source": [
    "#### Step 2 :- Visualisation using graphs"
   ]
  },
  {
   "cell_type": "code",
   "execution_count": 40,
   "metadata": {},
   "outputs": [
    {
     "data": {
      "image/png": "[encoded data removed]",
      "text/plain": [
       "<Figure size 432x288 with 1 Axes>"
      ]
     },
     "metadata": {
      "needs_background": "light"
     },
     "output_type": "display_data"
    },
    {
     "data": {
      "image/png": "[encoded data removed]",
      "text/plain": [
       "<Figure size 288x288 with 1 Axes>"
      ]
     },
     "metadata": {},
     "output_type": "display_data"
    }
   ],
   "source": [
    "# --> a. Bar graph\n",
    "viz_4_a = pandas_df_4_1.plot.bar(x= 'Hearing Condition',y= 'Number of Patients',rot = 0,\n",
    "                title = 'Patients with and without Hearing problem',\n",
    "                legend = False)\n",
    "\n",
    "\n",
    "\n",
    "# --> b. Pie Chart \n",
    "viz_4_b = pandas_df_4_1.plot.pie(y= 'Percentage of Patients',\n",
    "               labels = ['Hearing problem','Normal'],\n",
    "                 autopct='%.2f',\n",
    "               figsize=(4, 4),\n",
    "                title = 'Patients with and without Hearing problem (%)',\n",
    "                legend = False)"
   ]
  },
  {
   "cell_type": "markdown",
   "metadata": {},
   "source": [
    "#### Step 4:-  Saving the solution as .csv file"
   ]
  },
  {
   "cell_type": "code",
   "execution_count": 41,
   "metadata": {},
   "outputs": [],
   "source": [
    "filename_4 = \"/home/cloudera/Desktop/assignment/data_result_rdd/RDD_4.csv\"\n",
    "pandas_df_4_1.to_csv(filename_4, index = False, header = True)"
   ]
  },
  {
   "cell_type": "markdown",
   "metadata": {},
   "source": [
    "###  Statement 5 :- Average number of CT / MT / SC investigations performed on patients with hearing loss. (RDD)\n",
    "\n",
    "#### 5.1 DATA ANALYSIS\n",
    "Approach adapted:-\n",
    "* Step1:- Creating new imaging_RDD1 from imaging in such a way that [patient_id,(age, modality)] where 'patient_id' is key.\n",
    "* Step2:- Inner Joining (by key) RDD from (a) and hearing_problem_RDD (Statement 4) \n",
    "* Step3:- Calculate total number of investiagations from join RDD.\n",
    "* Step4:- Calculate Number of patients from join RDD.\n",
    "* Step5:- Calculate avergae number of investigation per patient\n",
    "* Step6:- Investigation percentage"
   ]
  },
  {
   "cell_type": "markdown",
   "metadata": {},
   "source": [
    "#### Step 1 :- Creating new RDD from imaging"
   ]
  },
  {
   "cell_type": "code",
   "execution_count": 42,
   "metadata": {},
   "outputs": [
    {
     "data": {
      "text/plain": [
       "[(u'00R99YUB4', (u'8.15341238568207', u'CT')),\n",
       " (u'0263DNQG8', (u'0.078671260881339', u'CT')),\n",
       " (u'02AQQ4CLC', (u'5.47329158513104', u'MR')),\n",
       " (u'02AQQ4CLC', (u'5.58251725238167', u'MR')),\n",
       " (u'02AQQ4CLC', (u'5.72791714662045', u'MR'))]"
      ]
     },
     "execution_count": 42,
     "metadata": {},
     "output_type": "execute_result"
    }
   ],
   "source": [
    "imaging_RDD1 = imaging_RDD.map(lambda fields: (fields[0],(fields[1],fields[2])))\n",
    "imaging_RDD1.take(5) \n",
    "\n",
    "#-------  < Output 5.a >  ----------------------------------\n",
    "# imaging_RDD1 = ['patient_id',('imaging_age', 'modality)]\n",
    "# ----------------------------------------------------------"
   ]
  },
  {
   "cell_type": "markdown",
   "metadata": {},
   "source": [
    "#### Step 2: Creating Inner join"
   ]
  },
  {
   "cell_type": "code",
   "execution_count": 43,
   "metadata": {},
   "outputs": [
    {
     "data": {
      "text/plain": [
       "[(u'N3QKPK7TH', u'0.260101380016059', u'CT'),\n",
       " (u'ORDWBUHBJ', u'6.14926446989035', u'CT')]"
      ]
     },
     "execution_count": 43,
     "metadata": {},
     "output_type": "execute_result"
    }
   ],
   "source": [
    "hearing_imaging_joinRDD = RDD4_2.join(imaging_RDD1).map(lambda fields: \n",
    "                                                        (fields[0],\n",
    "                                                         fields[1][1][0],\n",
    "                                                         fields[1][1][1]))\n",
    "hearing_imaging_joinRDD.take(2)     # --> patientid,modality\n",
    "\n",
    "#-------  < Output 5.b >  ----------------------------------\n",
    "# joinRDD = [('17HHKTNKT', ('Moderate', ('5.29806539227812', 'CT')))\n",
    "# hearing_imaging_joinRDD = ['patient_id','age','modality']\n",
    "# ----------------------------------------------------------"
   ]
  },
  {
   "cell_type": "markdown",
   "metadata": {},
   "source": [
    "#### Step 3:-  Calculation No. of investigations\n",
    "* Total number of investigations done on patients with hearing loss\n",
    "* CT_ count \n",
    "* MR_count\n",
    "* SC_count"
   ]
  },
  {
   "cell_type": "code",
   "execution_count": 44,
   "metadata": {},
   "outputs": [
    {
     "name": "stdout",
     "output_type": "stream",
     "text": [
      "Total investigations: 1418\n",
      "No. of CTs to patients with hearing problem :- 813\n",
      "No. of MRs to patients with hearing problem :- 602\n",
      "No. of SCs to patients with hearing problem :- 3\n"
     ]
    }
   ],
   "source": [
    "# --------------------\n",
    "# Total investigation\n",
    "# --------------------\n",
    "total_investigations = hearing_imaging_joinRDD.count()\n",
    "print 'Total investigations:', total_investigations\n",
    "\n",
    "# -------------\n",
    "#   CT_count\n",
    "# -------------\n",
    "# --> Retaining CT only from joined RDD\n",
    "CT_RDD = hearing_imaging_joinRDD.filter(lambda fields: fields[2] == 'CT')\n",
    "#CT_RDD.take(2)\n",
    "\n",
    "# --> Counting Number of CT\n",
    "CT_count = CT_RDD.count()\n",
    "print 'No. of CTs to patients with hearing problem :-',CT_count\n",
    "\n",
    "# -------------\n",
    "#   MR_count\n",
    "# -------------\n",
    "# --> Retaining MR only from joined RDD\n",
    "MR_RDD = hearing_imaging_joinRDD.filter(lambda fields: fields[2] == 'MR')\n",
    "#MR_RDD.take(2)\n",
    "\n",
    "# --> Counting Number of MR\n",
    "MR_count = MR_RDD.count()\n",
    "print 'No. of MRs to patients with hearing problem :-',MR_count\n",
    "\n",
    "# -----------\n",
    "#   SC_count\n",
    "# -----------\n",
    "# --> Retaining SC only from joined RDD\n",
    "SC_RDD = hearing_imaging_joinRDD.filter(lambda fields: fields[2] == 'SC')\n",
    "#SC_RDD.take(2)\n",
    "\n",
    "# --> Counting Number of SC\n",
    "SC_count = SC_RDD.count()\n",
    "print 'No. of SCs to patients with hearing problem :-',SC_count"
   ]
  },
  {
   "cell_type": "markdown",
   "metadata": {},
   "source": [
    "#### Step 4 :- Calculating Number of patients"
   ]
  },
  {
   "cell_type": "code",
   "execution_count": 45,
   "metadata": {},
   "outputs": [
    {
     "name": "stdout",
     "output_type": "stream",
     "text": [
      "Number of patients 460\n"
     ]
    }
   ],
   "source": [
    "RDD5_3 = hearing_imaging_joinRDD.map (lambda record: [record[i] for i in [0]])\n",
    "Patients_count = count_RDD(RDD5_3).count()\n",
    "print 'Number of patients',Patients_count"
   ]
  },
  {
   "cell_type": "markdown",
   "metadata": {},
   "source": [
    "#### Step 5 :-  Calculation of Average Investigation per patient\n",
    "* Average CT per patient\n",
    "* Average MR per patient\n",
    "* Average SC per patient"
   ]
  },
  {
   "cell_type": "code",
   "execution_count": 46,
   "metadata": {},
   "outputs": [
    {
     "name": "stdout",
     "output_type": "stream",
     "text": [
      "Average CT per patient :- 1.767\n",
      "Average MR per patient :- 1.309\n",
      "Average SC per patient :- 0.007\n"
     ]
    }
   ],
   "source": [
    "# --> i Average CT per patient \n",
    "CT_per_patient = round(float(CT_count)/float(Patients_count),3)\n",
    "print'Average CT per patient :-', CT_per_patient\n",
    "\n",
    "# --> ii Average MR per patient\n",
    "MR_per_patient = round(float(MR_count)/float(Patients_count),3)\n",
    "print 'Average MR per patient :-', MR_per_patient\n",
    "\n",
    "# --> iii Average SC per patient \n",
    "SC_per_patient = round(float(SC_count)/float(Patients_count),3)\n",
    "print 'Average SC per patient :-',SC_per_patient"
   ]
  },
  {
   "cell_type": "markdown",
   "metadata": {},
   "source": [
    "#### Step 6 :- Investiagtion Percentage\n",
    "* Percentage of CT of total investigation\n",
    "* Percentage of MR of total investigation\n",
    "* Percentage of SC of total investigation"
   ]
  },
  {
   "cell_type": "code",
   "execution_count": 47,
   "metadata": {},
   "outputs": [
    {
     "name": "stdout",
     "output_type": "stream",
     "text": [
      "Percentage of CT :- 57.33\n",
      "Percentage of MR :- 42.45\n",
      "Percentage of SC :- 0.21\n"
     ]
    }
   ],
   "source": [
    "# --> i. CT percentage\n",
    "CT_percentage = round(float(CT_count)/ float(total_investigations)*100,2)\n",
    "print 'Percentage of CT :-',CT_percentage\n",
    "\n",
    "# --> ii. MR percentage\n",
    "MR_percentage = round(float(MR_count)/float(total_investigations)*100,2)\n",
    "print 'Percentage of MR :-',MR_percentage\n",
    "\n",
    "# --> iii. SC percentage\n",
    "SC_percentage = round(float(SC_count)/ float(total_investigations)*100,2)\n",
    "print 'Percentage of SC :-',SC_percentage"
   ]
  },
  {
   "cell_type": "markdown",
   "metadata": {},
   "source": [
    "#### 5.2 DATA VISUALISATION\n",
    "Approach: \n",
    "* Step 1:-Creating pandas dataframe\n",
    "* Step 2:-Plotting from pandas dataframe\n",
    "* Step 3:-Saving the solutions in pandas df to csv file"
   ]
  },
  {
   "cell_type": "markdown",
   "metadata": {},
   "source": [
    "#### Step 1 :-  Creating Pandas Dataframe"
   ]
  },
  {
   "cell_type": "code",
   "execution_count": 48,
   "metadata": {},
   "outputs": [
    {
     "data": {
      "text/html": [
       "<div>\n",
       "<style scoped>\n",
       "    .dataframe tbody tr th:only-of-type {\n",
       "        vertical-align: middle;\n",
       "    }\n",
       "\n",
       "    .dataframe tbody tr th {\n",
       "        vertical-align: top;\n",
       "    }\n",
       "\n",
       "    .dataframe thead th {\n",
       "        text-align: right;\n",
       "    }\n",
       "</style>\n",
       "<table border=\"1\" class=\"dataframe\">\n",
       "  <thead>\n",
       "    <tr style=\"text-align: right;\">\n",
       "      <th></th>\n",
       "      <th>Average_per_patient</th>\n",
       "      <th>Count</th>\n",
       "      <th>Evaluation</th>\n",
       "      <th>Percentage</th>\n",
       "    </tr>\n",
       "  </thead>\n",
       "  <tbody>\n",
       "    <tr>\n",
       "      <th>0</th>\n",
       "      <td>1.767</td>\n",
       "      <td>813</td>\n",
       "      <td>CT</td>\n",
       "      <td>57.33</td>\n",
       "    </tr>\n",
       "    <tr>\n",
       "      <th>1</th>\n",
       "      <td>1.309</td>\n",
       "      <td>602</td>\n",
       "      <td>MR</td>\n",
       "      <td>42.45</td>\n",
       "    </tr>\n",
       "    <tr>\n",
       "      <th>2</th>\n",
       "      <td>0.007</td>\n",
       "      <td>3</td>\n",
       "      <td>SC</td>\n",
       "      <td>0.21</td>\n",
       "    </tr>\n",
       "  </tbody>\n",
       "</table>\n",
       "</div>"
      ],
      "text/plain": [
       "   Average_per_patient  Count Evaluation  Percentage\n",
       "0                1.767    813         CT       57.33\n",
       "1                1.309    602         MR       42.45\n",
       "2                0.007      3         SC        0.21"
      ]
     },
     "execution_count": 48,
     "metadata": {},
     "output_type": "execute_result"
    }
   ],
   "source": [
    "pandas_df_5_1 =  pd.DataFrame({'Evaluation':['CT','MR','SC'],\n",
    "                    'Count':[CT_count,MR_count,SC_count],\n",
    "                      'Average_per_patient': [CT_per_patient,\n",
    "                                                   MR_per_patient,\n",
    "                                                   SC_per_patient],\n",
    "                      'Percentage':[CT_percentage, MR_percentage, SC_percentage]})\n",
    "pandas_df_5_1"
   ]
  },
  {
   "cell_type": "markdown",
   "metadata": {},
   "source": [
    "#### Step 2:- Visualisation using plots\n",
    "* Bar chart \n",
    "* Pie Chart"
   ]
  },
  {
   "cell_type": "code",
   "execution_count": 49,
   "metadata": {},
   "outputs": [
    {
     "data": {
      "text/plain": [
       "<matplotlib.axes._subplots.AxesSubplot at 0x7ff0909b8490>"
      ]
     },
     "execution_count": 49,
     "metadata": {},
     "output_type": "execute_result"
    },
    {
     "data": {
      "image/png": "[encoded data removed]",
      "text/plain": [
       "<Figure size 432x288 with 1 Axes>"
      ]
     },
     "metadata": {
      "needs_background": "light"
     },
     "output_type": "display_data"
    },
    {
     "data": {
      "image/png": "[encoded data removed]",
      "text/plain": [
       "<Figure size 288x288 with 1 Axes>"
      ]
     },
     "metadata": {},
     "output_type": "display_data"
    }
   ],
   "source": [
    "# --> b Ploting Bar chart\n",
    "pandas_df_5_1.plot.bar(x= 'Evaluation',y= 'Average_per_patient',rot = 0, \n",
    "               legend = False,\n",
    "                title = 'Average of Investigation per patient'\n",
    "                )\n",
    "\n",
    "\n",
    "# --> c Ploting pie chart\n",
    "pandas_df_5_1.plot.pie(y= 'Percentage', figsize=(4,4),\n",
    "               autopct='%.2f', legend = False,\n",
    "               labels = ['CT','MR','SC'],\n",
    "                title = 'Percenatge of investigation encounter (%)')"
   ]
  },
  {
   "cell_type": "markdown",
   "metadata": {},
   "source": [
    "#### Step 3:- Saving the solution as .csv file "
   ]
  },
  {
   "cell_type": "code",
   "execution_count": 50,
   "metadata": {},
   "outputs": [],
   "source": [
    "filename_5 = \"/home/cloudera/Desktop/assignment/data_result_rdd/RDD_5.csv\"\n",
    "pandas_df_5_1.to_csv(filename_5, index = False, header = True)"
   ]
  },
  {
   "cell_type": "markdown",
   "metadata": {},
   "source": [
    "###  Statement 6 :- The client would like to know the year group (i.e. you will need to group the ages of encounter into years) which is given the greatest number of CTs. (RDD)\n",
    "\n",
    "#### 6.1 DATA ANALYSIS\n",
    "Approach adapted:-\n",
    "* Step1:- Change imaging RDD, string age -> float age -> int age.\n",
    "* Step2:- Filtering RDD (from a) including CT only \n",
    "* Step3:- Extracting age from filtered RDD (c).\n",
    "* Step4:- Counting number of times each year_group occured using def count_RDD.This implies no. of times CT occured in each year group "
   ]
  },
  {
   "cell_type": "code",
   "execution_count": 51,
   "metadata": {},
   "outputs": [],
   "source": [
    "from pyspark.sql import functions as F"
   ]
  },
  {
   "cell_type": "markdown",
   "metadata": {},
   "source": [
    "#### Step 1 :-  Converting age from string -> float -> integer (age -> year_group)"
   ]
  },
  {
   "cell_type": "code",
   "execution_count": 52,
   "metadata": {},
   "outputs": [
    {
     "data": {
      "text/plain": [
       "[(u'00R99YUB4', 8, u'CT'),\n",
       " (u'0263DNQG8', 0, u'CT'),\n",
       " (u'02AQQ4CLC', 5, u'MR'),\n",
       " (u'02AQQ4CLC', 5, u'MR'),\n",
       " (u'02AQQ4CLC', 5, u'MR')]"
      ]
     },
     "execution_count": 52,
     "metadata": {},
     "output_type": "execute_result"
    }
   ],
   "source": [
    "RDD6_1 = imaging_RDD.map(lambda (patient_id, age, modality): (patient_id,float(age),modality))\n",
    "RDD6_2 = RDD6_1.map(lambda (patient_id, age, modality): (patient_id,int(age),modality))\n",
    "RDD6_2.take(5)\n",
    "# ----------   | ERROR |   -----------------------------------------------\n",
    "# ERROR (When age was directly converted from string to int)\n",
    "# ValueError: invalid literal for int() with base 10: '8.15341238568207'\n",
    "# -----------------------------------------------------------------------"
   ]
  },
  {
   "cell_type": "markdown",
   "metadata": {},
   "source": [
    "#### Step 2 :- Filtering - including modality = CT"
   ]
  },
  {
   "cell_type": "code",
   "execution_count": 53,
   "metadata": {},
   "outputs": [
    {
     "data": {
      "text/plain": [
       "[(u'00R99YUB4', 8, u'CT'),\n",
       " (u'0263DNQG8', 0, u'CT'),\n",
       " (u'03L1A3ZBB', 2, u'CT'),\n",
       " (u'04T2TBJU0', 8, u'CT'),\n",
       " (u'05S8KKZXZ', 2, u'CT')]"
      ]
     },
     "execution_count": 53,
     "metadata": {},
     "output_type": "execute_result"
    }
   ],
   "source": [
    "RDD6_3 = RDD6_2.filter(lambda(patient_id, age, modality): modality == 'CT')\n",
    "RDD6_3.take(5)"
   ]
  },
  {
   "cell_type": "markdown",
   "metadata": {},
   "source": [
    "#### Step 3 :- Extracting age from filtered RDD 6_3 (where modality = CT)"
   ]
  },
  {
   "cell_type": "code",
   "execution_count": 54,
   "metadata": {},
   "outputs": [
    {
     "data": {
      "text/plain": [
       "[[8], [0], [2], [8], [2], [1]]"
      ]
     },
     "execution_count": 54,
     "metadata": {},
     "output_type": "execute_result"
    }
   ],
   "source": [
    "age_RDD6_4 = RDD6_3.map(lambda record: [record[i] for i in [1]])\n",
    "age_RDD6_4.take(6)\n",
    "\n",
    "#-------  < Output 6.c >  ------\n",
    "# age_RDD6_4 = [imaging_age]\n",
    "# ------------------------------"
   ]
  },
  {
   "cell_type": "markdown",
   "metadata": {},
   "source": [
    "#### Step 4 :- Counting number of times each year_group occured using def count_RDD. This implies no. of times CT occured in each year group  "
   ]
  },
  {
   "cell_type": "code",
   "execution_count": 55,
   "metadata": {},
   "outputs": [
    {
     "data": {
      "text/plain": [
       "[[(0,), 160], [(1,), 94], [(2,), 213], [(3,), 210], [(4,), 81]]"
      ]
     },
     "execution_count": 55,
     "metadata": {},
     "output_type": "execute_result"
    }
   ],
   "source": [
    "RDD6_5 = count_RDD(age_RDD6_4).sortByKey(lambda a: -a[1])\n",
    "RDD6_6 = RDD6_5.map(lambda((a),b) : [a,b])\n",
    "RDD6_6.take(5)"
   ]
  },
  {
   "cell_type": "markdown",
   "metadata": {},
   "source": [
    "#### 6.2 DATA VISUALISATION\n",
    "Approach: \n",
    "* Step 1:-Creating pandas dataframe\n",
    "* Step 2:-Plotting from pandas dataframe (line graph)\n",
    "* Step 3:-Saving the solutions in pandas df to csv file"
   ]
  },
  {
   "cell_type": "markdown",
   "metadata": {},
   "source": [
    "#### Step 1 :- Creating Pandas Dataframe"
   ]
  },
  {
   "cell_type": "code",
   "execution_count": 56,
   "metadata": {},
   "outputs": [
    {
     "data": {
      "text/html": [
       "<div>\n",
       "<style scoped>\n",
       "    .dataframe tbody tr th:only-of-type {\n",
       "        vertical-align: middle;\n",
       "    }\n",
       "\n",
       "    .dataframe tbody tr th {\n",
       "        vertical-align: top;\n",
       "    }\n",
       "\n",
       "    .dataframe thead th {\n",
       "        text-align: right;\n",
       "    }\n",
       "</style>\n",
       "<table border=\"1\" class=\"dataframe\">\n",
       "  <thead>\n",
       "    <tr style=\"text-align: right;\">\n",
       "      <th></th>\n",
       "      <th>Year_group</th>\n",
       "      <th>count</th>\n",
       "    </tr>\n",
       "  </thead>\n",
       "  <tbody>\n",
       "    <tr>\n",
       "      <th>0</th>\n",
       "      <td>(0,)</td>\n",
       "      <td>160</td>\n",
       "    </tr>\n",
       "    <tr>\n",
       "      <th>1</th>\n",
       "      <td>(1,)</td>\n",
       "      <td>94</td>\n",
       "    </tr>\n",
       "    <tr>\n",
       "      <th>2</th>\n",
       "      <td>(2,)</td>\n",
       "      <td>213</td>\n",
       "    </tr>\n",
       "    <tr>\n",
       "      <th>3</th>\n",
       "      <td>(3,)</td>\n",
       "      <td>210</td>\n",
       "    </tr>\n",
       "    <tr>\n",
       "      <th>4</th>\n",
       "      <td>(4,)</td>\n",
       "      <td>81</td>\n",
       "    </tr>\n",
       "    <tr>\n",
       "      <th>5</th>\n",
       "      <td>(5,)</td>\n",
       "      <td>202</td>\n",
       "    </tr>\n",
       "    <tr>\n",
       "      <th>6</th>\n",
       "      <td>(6,)</td>\n",
       "      <td>66</td>\n",
       "    </tr>\n",
       "    <tr>\n",
       "      <th>7</th>\n",
       "      <td>(7,)</td>\n",
       "      <td>115</td>\n",
       "    </tr>\n",
       "    <tr>\n",
       "      <th>8</th>\n",
       "      <td>(8,)</td>\n",
       "      <td>119</td>\n",
       "    </tr>\n",
       "    <tr>\n",
       "      <th>9</th>\n",
       "      <td>(9,)</td>\n",
       "      <td>95</td>\n",
       "    </tr>\n",
       "    <tr>\n",
       "      <th>10</th>\n",
       "      <td>(10,)</td>\n",
       "      <td>100</td>\n",
       "    </tr>\n",
       "    <tr>\n",
       "      <th>11</th>\n",
       "      <td>(11,)</td>\n",
       "      <td>68</td>\n",
       "    </tr>\n",
       "    <tr>\n",
       "      <th>12</th>\n",
       "      <td>(12,)</td>\n",
       "      <td>76</td>\n",
       "    </tr>\n",
       "    <tr>\n",
       "      <th>13</th>\n",
       "      <td>(13,)</td>\n",
       "      <td>84</td>\n",
       "    </tr>\n",
       "    <tr>\n",
       "      <th>14</th>\n",
       "      <td>(14,)</td>\n",
       "      <td>56</td>\n",
       "    </tr>\n",
       "    <tr>\n",
       "      <th>15</th>\n",
       "      <td>(15,)</td>\n",
       "      <td>39</td>\n",
       "    </tr>\n",
       "    <tr>\n",
       "      <th>16</th>\n",
       "      <td>(16,)</td>\n",
       "      <td>50</td>\n",
       "    </tr>\n",
       "    <tr>\n",
       "      <th>17</th>\n",
       "      <td>(17,)</td>\n",
       "      <td>39</td>\n",
       "    </tr>\n",
       "    <tr>\n",
       "      <th>18</th>\n",
       "      <td>(18,)</td>\n",
       "      <td>17</td>\n",
       "    </tr>\n",
       "    <tr>\n",
       "      <th>19</th>\n",
       "      <td>(19,)</td>\n",
       "      <td>10</td>\n",
       "    </tr>\n",
       "    <tr>\n",
       "      <th>20</th>\n",
       "      <td>(20,)</td>\n",
       "      <td>7</td>\n",
       "    </tr>\n",
       "    <tr>\n",
       "      <th>21</th>\n",
       "      <td>(21,)</td>\n",
       "      <td>1</td>\n",
       "    </tr>\n",
       "    <tr>\n",
       "      <th>22</th>\n",
       "      <td>(22,)</td>\n",
       "      <td>5</td>\n",
       "    </tr>\n",
       "    <tr>\n",
       "      <th>23</th>\n",
       "      <td>(25,)</td>\n",
       "      <td>3</td>\n",
       "    </tr>\n",
       "    <tr>\n",
       "      <th>24</th>\n",
       "      <td>(26,)</td>\n",
       "      <td>1</td>\n",
       "    </tr>\n",
       "  </tbody>\n",
       "</table>\n",
       "</div>"
      ],
      "text/plain": [
       "   Year_group  count\n",
       "0        (0,)    160\n",
       "1        (1,)     94\n",
       "2        (2,)    213\n",
       "3        (3,)    210\n",
       "4        (4,)     81\n",
       "5        (5,)    202\n",
       "6        (6,)     66\n",
       "7        (7,)    115\n",
       "8        (8,)    119\n",
       "9        (9,)     95\n",
       "10      (10,)    100\n",
       "11      (11,)     68\n",
       "12      (12,)     76\n",
       "13      (13,)     84\n",
       "14      (14,)     56\n",
       "15      (15,)     39\n",
       "16      (16,)     50\n",
       "17      (17,)     39\n",
       "18      (18,)     17\n",
       "19      (19,)     10\n",
       "20      (20,)      7\n",
       "21      (21,)      1\n",
       "22      (22,)      5\n",
       "23      (25,)      3\n",
       "24      (26,)      1"
      ]
     },
     "execution_count": 56,
     "metadata": {},
     "output_type": "execute_result"
    }
   ],
   "source": [
    "pandas_df_6 = spark_pandas(RDD6_5, 'Year_group','count')\n",
    "pandas_df_6"
   ]
  },
  {
   "cell_type": "markdown",
   "metadata": {},
   "source": [
    "#### Step 2 :-  Plot line chart"
   ]
  },
  {
   "cell_type": "code",
   "execution_count": 57,
   "metadata": {},
   "outputs": [
    {
     "data": {
      "text/plain": [
       "<matplotlib.axes._subplots.AxesSubplot at 0x7ff090a9b690>"
      ]
     },
     "execution_count": 57,
     "metadata": {},
     "output_type": "execute_result"
    },
    {
     "data": {
      "image/png": "[encoded data removed]",
      "text/plain": [
       "<Figure size 432x288 with 1 Axes>"
      ]
     },
     "metadata": {
      "needs_background": "light"
     },
     "output_type": "display_data"
    }
   ],
   "source": [
    "viz_RDD_6 = pandas_df_6.plot(\n",
    "    x='Year_group', linestyle='-', marker='o',\n",
    "    figsize = (6,4),\n",
    "    title = 'Number of CT investigations with year_group')\n",
    "viz_RDD_6"
   ]
  },
  {
   "cell_type": "markdown",
   "metadata": {},
   "source": [
    "#### Step 3 :- Saving the solution as .csv file"
   ]
  },
  {
   "cell_type": "code",
   "execution_count": 58,
   "metadata": {},
   "outputs": [],
   "source": [
    "filename_6 = \"/home/cloudera/Desktop/assignment/data_result_rdd/RDD_6.csv\"\n",
    "pandas_df_6.to_csv(filename_6, index = False, header = True)"
   ]
  },
  {
   "cell_type": "markdown",
   "metadata": {},
   "source": [
    "###  Statement 7 :- For each year group, the client would like to visualize the most frequent diagnosis code (with its frequency). (RDD)\n",
    "\n",
    "#### 7.1 DATA ANALYSIS\n",
    "Approach adapted:-\n",
    "* Step1:- Convert the age from decimal to int.\n",
    "* Step2:- Finding diagnosis_code count for each diagnosis_code and year_age ( df_a) \n",
    "* Step3:- Finding maximum code count for each year group (df_b).\n",
    "* Step4:- Inner join (df_a) and (df_b) where code_count = max_code_count & year_group = year_group\n",
    "--> [Year_group, diagnosis_code, mx_count]"
   ]
  },
  {
   "cell_type": "markdown",
   "metadata": {},
   "source": [
    "#### Step 1 :-  Convering diagnosis_age to float and to string"
   ]
  },
  {
   "cell_type": "code",
   "execution_count": 59,
   "metadata": {},
   "outputs": [
    {
     "data": {
      "text/plain": [
       "[(u'00008RINR', u'315.320000', 2),\n",
       " (u'00008RINR', u'315.320000', 2),\n",
       " (u'00008RINR', u'315.320000', 2),\n",
       " (u'00008RINR', u'315.320000', 5),\n",
       " (u'00008RINR', u'315.320000', 5)]"
      ]
     },
     "execution_count": 59,
     "metadata": {},
     "output_type": "execute_result"
    }
   ],
   "source": [
    "RDD7_1 = diagnoses_RDD.map(lambda (patient_id, diagnosis_code, diagnosis_age): \n",
    "                           (patient_id,diagnosis_code,float(diagnosis_age)))\n",
    "\n",
    "RDD7_2 = RDD7_1.map(lambda (patient_id, diagnosis_code, diagnosis_age): \n",
    "                    (patient_id, diagnosis_code, int(diagnosis_age)))\n",
    "RDD7_2.take(5)"
   ]
  },
  {
   "cell_type": "markdown",
   "metadata": {},
   "source": [
    "#### Step 2 :- Creating a new RDD [year_group, diagnosis_code]"
   ]
  },
  {
   "cell_type": "code",
   "execution_count": 60,
   "metadata": {},
   "outputs": [
    {
     "data": {
      "text/plain": [
       "[[2, u'315.320000'],\n",
       " [2, u'315.320000'],\n",
       " [2, u'315.320000'],\n",
       " [5, u'315.320000'],\n",
       " [5, u'315.320000']]"
      ]
     },
     "execution_count": 60,
     "metadata": {},
     "output_type": "execute_result"
    }
   ],
   "source": [
    "RDD7_3 = RDD7_2.map(lambda record: [record[i] for i in [2,1]])\n",
    "RDD7_3.take(5)\n",
    "#-------  < Output 7.b >  -------------\n",
    "# RDD7_3= [year_group, diagnosis_code]\n",
    "# -------------------------------------"
   ]
  },
  {
   "cell_type": "markdown",
   "metadata": {},
   "source": [
    "#### Step 3 :-  Counting RDD using count_RDD [year_group, diagnosis_code]"
   ]
  },
  {
   "cell_type": "code",
   "execution_count": 61,
   "metadata": {},
   "outputs": [
    {
     "data": {
      "text/plain": [
       "[(3, u'259.900000', 59),\n",
       " (16, u'325.000000', 23),\n",
       " (5, u'T45.1X5D', 26),\n",
       " (9, u'398.900000', 13),\n",
       " (2, u'531.700000', 2)]"
      ]
     },
     "execution_count": 61,
     "metadata": {},
     "output_type": "execute_result"
    }
   ],
   "source": [
    "RDD7_4 = count_RDD(RDD7_3).map(lambda ((year_group,diagnosis_code)\n",
    "                                       ,frequency):\n",
    "                               (year_group,diagnosis_code,frequency))\n",
    "RDD7_4.take(5)   \n",
    "\n",
    "#-------  < Output 7.c >  -------------------------\n",
    "# RDD7_4 = [year_group, diagnosis_code, frequency]\n",
    "# -------------------------------------------------"
   ]
  },
  {
   "cell_type": "markdown",
   "metadata": {},
   "source": [
    "####   Step 4:-  Extracting [year_group, frequency] from RDD7_4"
   ]
  },
  {
   "cell_type": "code",
   "execution_count": 62,
   "metadata": {},
   "outputs": [
    {
     "data": {
      "text/plain": [
       "[(3, 59), (16, 23), (5, 26), (9, 13), (2, 2)]"
      ]
     },
     "execution_count": 62,
     "metadata": {},
     "output_type": "execute_result"
    }
   ],
   "source": [
    "RDD7_5 = RDD7_4.map(lambda (a,b,c): (a,c))\n",
    "RDD7_5.take(5)"
   ]
  },
  {
   "cell_type": "markdown",
   "metadata": {},
   "source": [
    "####  Step 5 :- Getting maximum frequency per year group"
   ]
  },
  {
   "cell_type": "code",
   "execution_count": 63,
   "metadata": {},
   "outputs": [
    {
     "data": {
      "text/plain": [
       "[((0, 148071), 1), ((70, 8), 1), ((42, 33), 1), ((14, 4170), 1), ((84, 10), 1)]"
      ]
     },
     "execution_count": 63,
     "metadata": {},
     "output_type": "execute_result"
    }
   ],
   "source": [
    "RDD7_6 = RDD7_5.reduceByKey(max).map(lambda (k,v):((k,v),1))\n",
    "RDD7_6.take(5)\n",
    "#-------  < Output 7.e >  -------------------------\n",
    "# RDD7_6 = [((year_group,max_frequency),1)]\n",
    "# making year_group and max_frequency as keys\n",
    "# -------------------------------------------------"
   ]
  },
  {
   "cell_type": "markdown",
   "metadata": {},
   "source": [
    "#### Step 6 :-   Extracting from RDD7_4 [(year_group,frequency), diagnosis_code]"
   ]
  },
  {
   "cell_type": "code",
   "execution_count": 64,
   "metadata": {},
   "outputs": [
    {
     "data": {
      "text/plain": [
       "[((3, 59), u'259.900000'),\n",
       " ((16, 23), u'325.000000'),\n",
       " ((5, 26), u'T45.1X5D'),\n",
       " ((9, 13), u'398.900000'),\n",
       " ((2, 2), u'531.700000')]"
      ]
     },
     "execution_count": 64,
     "metadata": {},
     "output_type": "execute_result"
    }
   ],
   "source": [
    "RDD7_7 = RDD7_4.map(lambda fields: ((fields[0], fields[2]),fields[1]))\n",
    "RDD7_7.take(5)"
   ]
  },
  {
   "cell_type": "markdown",
   "metadata": {},
   "source": [
    "#### Step 7 :-  Inner join RDD7_7 and RDD7_6"
   ]
  },
  {
   "cell_type": "code",
   "execution_count": 65,
   "metadata": {},
   "outputs": [
    {
     "data": {
      "text/plain": [
       "[(40, u'282.490000', 42),\n",
       " (84, u'389.100000', 10),\n",
       " (84, u'381.700000', 10),\n",
       " (48, u'277.020000', 30),\n",
       " (20, u'389.180000', 646)]"
      ]
     },
     "execution_count": 65,
     "metadata": {},
     "output_type": "execute_result"
    }
   ],
   "source": [
    "Year_group_code_RDD = RDD7_7.join(RDD7_6).map(lambda ((k1,v1),(k2,v2)): \n",
    "                                              ((k1,k2,v1))).filter(lambda fields: \n",
    "                                                                   fields[0] >= 0)\n",
    "Year_group_code_RDD.take(5)\n",
    "\n",
    "#-------  < Output 7.g >  ---------------------------------------\n",
    "# Year_group_code_RDD  = (year_group, diagnosis_code,frequency)\n",
    "# --------------------------------------------------------------"
   ]
  },
  {
   "cell_type": "markdown",
   "metadata": {},
   "source": [
    "#### 7.2 DATA VISUALISATION\n",
    "Approach: \n",
    "* Step 1:-Creating pandas dataframe\n",
    "* Step 2:-Plotting from pandas dataframe\n",
    "* Step 3:-Saving the solutions in pandas df to csv file\n",
    "* Step 4:-Plotting the bar graphs using multiple age range "
   ]
  },
  {
   "cell_type": "code",
   "execution_count": 66,
   "metadata": {},
   "outputs": [],
   "source": [
    "import seaborn as sns\n",
    "import matplotlib.pyplot as plt\n",
    "import seaborn as sns\n",
    "import numpy as np"
   ]
  },
  {
   "cell_type": "markdown",
   "metadata": {},
   "source": [
    "##### Definition 7.1 \n",
    "Creating pandas dataframes from RDD with 3 columns"
   ]
  },
  {
   "cell_type": "code",
   "execution_count": 67,
   "metadata": {},
   "outputs": [],
   "source": [
    "# ------------ Definition 7.1 ----------------\n",
    "def spark_pandas_1(RDD,a,b,c):\n",
    "    DF_spark = RDD.toDF()\n",
    "    DF_pandas = DF_spark.toPandas()\n",
    "    DF_pandas_rename_1 = DF_pandas.rename(\n",
    "        columns={\"_1\": a, \"_2\": b, \"_3\":c})\n",
    "    return DF_pandas_rename_1\n",
    "# --------------------------------------------"
   ]
  },
  {
   "cell_type": "markdown",
   "metadata": {},
   "source": [
    "#### Step 1 :- Creating pandas dataframe using definition 7.1"
   ]
  },
  {
   "cell_type": "code",
   "execution_count": 68,
   "metadata": {},
   "outputs": [
    {
     "data": {
      "text/html": [
       "<div>\n",
       "<style scoped>\n",
       "    .dataframe tbody tr th:only-of-type {\n",
       "        vertical-align: middle;\n",
       "    }\n",
       "\n",
       "    .dataframe tbody tr th {\n",
       "        vertical-align: top;\n",
       "    }\n",
       "\n",
       "    .dataframe thead th {\n",
       "        text-align: right;\n",
       "    }\n",
       "</style>\n",
       "<table border=\"1\" class=\"dataframe\">\n",
       "  <thead>\n",
       "    <tr style=\"text-align: right;\">\n",
       "      <th></th>\n",
       "      <th>Year_group</th>\n",
       "      <th>diagnosis_code</th>\n",
       "      <th>code_count</th>\n",
       "    </tr>\n",
       "  </thead>\n",
       "  <tbody>\n",
       "    <tr>\n",
       "      <th>0</th>\n",
       "      <td>40</td>\n",
       "      <td>282.490000</td>\n",
       "      <td>42</td>\n",
       "    </tr>\n",
       "    <tr>\n",
       "      <th>1</th>\n",
       "      <td>84</td>\n",
       "      <td>389.100000</td>\n",
       "      <td>10</td>\n",
       "    </tr>\n",
       "    <tr>\n",
       "      <th>2</th>\n",
       "      <td>84</td>\n",
       "      <td>381.700000</td>\n",
       "      <td>10</td>\n",
       "    </tr>\n",
       "    <tr>\n",
       "      <th>3</th>\n",
       "      <td>48</td>\n",
       "      <td>277.020000</td>\n",
       "      <td>30</td>\n",
       "    </tr>\n",
       "    <tr>\n",
       "      <th>4</th>\n",
       "      <td>20</td>\n",
       "      <td>389.180000</td>\n",
       "      <td>646</td>\n",
       "    </tr>\n",
       "    <tr>\n",
       "      <th>5</th>\n",
       "      <td>85</td>\n",
       "      <td>H69.00</td>\n",
       "      <td>6</td>\n",
       "    </tr>\n",
       "    <tr>\n",
       "      <th>6</th>\n",
       "      <td>85</td>\n",
       "      <td>381.700000</td>\n",
       "      <td>6</td>\n",
       "    </tr>\n",
       "    <tr>\n",
       "      <th>7</th>\n",
       "      <td>57</td>\n",
       "      <td>H69.93</td>\n",
       "      <td>2</td>\n",
       "    </tr>\n",
       "    <tr>\n",
       "      <th>8</th>\n",
       "      <td>57</td>\n",
       "      <td>724.400000</td>\n",
       "      <td>2</td>\n",
       "    </tr>\n",
       "    <tr>\n",
       "      <th>9</th>\n",
       "      <td>57</td>\n",
       "      <td>381.810000</td>\n",
       "      <td>2</td>\n",
       "    </tr>\n",
       "    <tr>\n",
       "      <th>10</th>\n",
       "      <td>57</td>\n",
       "      <td>427.810000</td>\n",
       "      <td>2</td>\n",
       "    </tr>\n",
       "    <tr>\n",
       "      <th>11</th>\n",
       "      <td>57</td>\n",
       "      <td>R42</td>\n",
       "      <td>2</td>\n",
       "    </tr>\n",
       "    <tr>\n",
       "      <th>12</th>\n",
       "      <td>57</td>\n",
       "      <td>389.030000</td>\n",
       "      <td>2</td>\n",
       "    </tr>\n",
       "    <tr>\n",
       "      <th>13</th>\n",
       "      <td>57</td>\n",
       "      <td>M79.1</td>\n",
       "      <td>2</td>\n",
       "    </tr>\n",
       "    <tr>\n",
       "      <th>14</th>\n",
       "      <td>57</td>\n",
       "      <td>M26.69</td>\n",
       "      <td>2</td>\n",
       "    </tr>\n",
       "    <tr>\n",
       "      <th>15</th>\n",
       "      <td>57</td>\n",
       "      <td>Z01.10</td>\n",
       "      <td>2</td>\n",
       "    </tr>\n",
       "    <tr>\n",
       "      <th>16</th>\n",
       "      <td>57</td>\n",
       "      <td>784.700000</td>\n",
       "      <td>2</td>\n",
       "    </tr>\n",
       "    <tr>\n",
       "      <th>17</th>\n",
       "      <td>57</td>\n",
       "      <td>K21.9</td>\n",
       "      <td>2</td>\n",
       "    </tr>\n",
       "    <tr>\n",
       "      <th>18</th>\n",
       "      <td>57</td>\n",
       "      <td>724.200000</td>\n",
       "      <td>2</td>\n",
       "    </tr>\n",
       "    <tr>\n",
       "      <th>19</th>\n",
       "      <td>57</td>\n",
       "      <td>H92.09</td>\n",
       "      <td>2</td>\n",
       "    </tr>\n",
       "    <tr>\n",
       "      <th>20</th>\n",
       "      <td>57</td>\n",
       "      <td>724.300000</td>\n",
       "      <td>2</td>\n",
       "    </tr>\n",
       "    <tr>\n",
       "      <th>21</th>\n",
       "      <td>57</td>\n",
       "      <td>H69.83</td>\n",
       "      <td>2</td>\n",
       "    </tr>\n",
       "    <tr>\n",
       "      <th>22</th>\n",
       "      <td>57</td>\n",
       "      <td>H90.71</td>\n",
       "      <td>2</td>\n",
       "    </tr>\n",
       "    <tr>\n",
       "      <th>23</th>\n",
       "      <td>57</td>\n",
       "      <td>H83.12</td>\n",
       "      <td>2</td>\n",
       "    </tr>\n",
       "    <tr>\n",
       "      <th>24</th>\n",
       "      <td>67</td>\n",
       "      <td>381.810000</td>\n",
       "      <td>8</td>\n",
       "    </tr>\n",
       "    <tr>\n",
       "      <th>25</th>\n",
       "      <td>79</td>\n",
       "      <td>H93.13</td>\n",
       "      <td>4</td>\n",
       "    </tr>\n",
       "    <tr>\n",
       "      <th>26</th>\n",
       "      <td>79</td>\n",
       "      <td>H90.3</td>\n",
       "      <td>4</td>\n",
       "    </tr>\n",
       "    <tr>\n",
       "      <th>27</th>\n",
       "      <td>38</td>\n",
       "      <td>384.200000</td>\n",
       "      <td>26</td>\n",
       "    </tr>\n",
       "    <tr>\n",
       "      <th>28</th>\n",
       "      <td>39</td>\n",
       "      <td>282.490000</td>\n",
       "      <td>65</td>\n",
       "    </tr>\n",
       "    <tr>\n",
       "      <th>29</th>\n",
       "      <td>32</td>\n",
       "      <td>277.020000</td>\n",
       "      <td>96</td>\n",
       "    </tr>\n",
       "    <tr>\n",
       "      <th>...</th>\n",
       "      <td>...</td>\n",
       "      <td>...</td>\n",
       "      <td>...</td>\n",
       "    </tr>\n",
       "    <tr>\n",
       "      <th>101</th>\n",
       "      <td>72</td>\n",
       "      <td>H83.12</td>\n",
       "      <td>6</td>\n",
       "    </tr>\n",
       "    <tr>\n",
       "      <th>102</th>\n",
       "      <td>72</td>\n",
       "      <td>H93.292</td>\n",
       "      <td>6</td>\n",
       "    </tr>\n",
       "    <tr>\n",
       "      <th>103</th>\n",
       "      <td>72</td>\n",
       "      <td>H90.8</td>\n",
       "      <td>6</td>\n",
       "    </tr>\n",
       "    <tr>\n",
       "      <th>104</th>\n",
       "      <td>22</td>\n",
       "      <td>277.000000</td>\n",
       "      <td>747</td>\n",
       "    </tr>\n",
       "    <tr>\n",
       "      <th>105</th>\n",
       "      <td>4</td>\n",
       "      <td>382.900000</td>\n",
       "      <td>12547</td>\n",
       "    </tr>\n",
       "    <tr>\n",
       "      <th>106</th>\n",
       "      <td>31</td>\n",
       "      <td>277.020000</td>\n",
       "      <td>110</td>\n",
       "    </tr>\n",
       "    <tr>\n",
       "      <th>107</th>\n",
       "      <td>46</td>\n",
       "      <td>275.020000</td>\n",
       "      <td>13</td>\n",
       "    </tr>\n",
       "    <tr>\n",
       "      <th>108</th>\n",
       "      <td>21</td>\n",
       "      <td>277.000000</td>\n",
       "      <td>388</td>\n",
       "    </tr>\n",
       "    <tr>\n",
       "      <th>109</th>\n",
       "      <td>78</td>\n",
       "      <td>H69.02</td>\n",
       "      <td>1</td>\n",
       "    </tr>\n",
       "    <tr>\n",
       "      <th>110</th>\n",
       "      <td>78</td>\n",
       "      <td>381.700000</td>\n",
       "      <td>1</td>\n",
       "    </tr>\n",
       "    <tr>\n",
       "      <th>111</th>\n",
       "      <td>2</td>\n",
       "      <td>382.900000</td>\n",
       "      <td>72800</td>\n",
       "    </tr>\n",
       "    <tr>\n",
       "      <th>112</th>\n",
       "      <td>25</td>\n",
       "      <td>E84.0</td>\n",
       "      <td>221</td>\n",
       "    </tr>\n",
       "    <tr>\n",
       "      <th>113</th>\n",
       "      <td>54</td>\n",
       "      <td>H90.6</td>\n",
       "      <td>8</td>\n",
       "    </tr>\n",
       "    <tr>\n",
       "      <th>114</th>\n",
       "      <td>43</td>\n",
       "      <td>275.020000</td>\n",
       "      <td>83</td>\n",
       "    </tr>\n",
       "    <tr>\n",
       "      <th>115</th>\n",
       "      <td>24</td>\n",
       "      <td>277.020000</td>\n",
       "      <td>482</td>\n",
       "    </tr>\n",
       "    <tr>\n",
       "      <th>116</th>\n",
       "      <td>76</td>\n",
       "      <td>H90.3</td>\n",
       "      <td>6</td>\n",
       "    </tr>\n",
       "    <tr>\n",
       "      <th>117</th>\n",
       "      <td>11</td>\n",
       "      <td>V20.2</td>\n",
       "      <td>10563</td>\n",
       "    </tr>\n",
       "    <tr>\n",
       "      <th>118</th>\n",
       "      <td>50</td>\n",
       "      <td>275.020000</td>\n",
       "      <td>35</td>\n",
       "    </tr>\n",
       "    <tr>\n",
       "      <th>119</th>\n",
       "      <td>65</td>\n",
       "      <td>381.810000</td>\n",
       "      <td>14</td>\n",
       "    </tr>\n",
       "    <tr>\n",
       "      <th>120</th>\n",
       "      <td>55</td>\n",
       "      <td>H72.92</td>\n",
       "      <td>9</td>\n",
       "    </tr>\n",
       "    <tr>\n",
       "      <th>121</th>\n",
       "      <td>64</td>\n",
       "      <td>389.180000</td>\n",
       "      <td>8</td>\n",
       "    </tr>\n",
       "    <tr>\n",
       "      <th>122</th>\n",
       "      <td>0</td>\n",
       "      <td>V20.2</td>\n",
       "      <td>148071</td>\n",
       "    </tr>\n",
       "    <tr>\n",
       "      <th>123</th>\n",
       "      <td>60</td>\n",
       "      <td>389.200000</td>\n",
       "      <td>11</td>\n",
       "    </tr>\n",
       "    <tr>\n",
       "      <th>124</th>\n",
       "      <td>59</td>\n",
       "      <td>384.200000</td>\n",
       "      <td>6</td>\n",
       "    </tr>\n",
       "    <tr>\n",
       "      <th>125</th>\n",
       "      <td>59</td>\n",
       "      <td>381.810000</td>\n",
       "      <td>6</td>\n",
       "    </tr>\n",
       "    <tr>\n",
       "      <th>126</th>\n",
       "      <td>59</td>\n",
       "      <td>389.020000</td>\n",
       "      <td>6</td>\n",
       "    </tr>\n",
       "    <tr>\n",
       "      <th>127</th>\n",
       "      <td>59</td>\n",
       "      <td>389.030000</td>\n",
       "      <td>6</td>\n",
       "    </tr>\n",
       "    <tr>\n",
       "      <th>128</th>\n",
       "      <td>59</td>\n",
       "      <td>385.320000</td>\n",
       "      <td>6</td>\n",
       "    </tr>\n",
       "    <tr>\n",
       "      <th>129</th>\n",
       "      <td>59</td>\n",
       "      <td>H69.83</td>\n",
       "      <td>6</td>\n",
       "    </tr>\n",
       "    <tr>\n",
       "      <th>130</th>\n",
       "      <td>49</td>\n",
       "      <td>191.900000</td>\n",
       "      <td>40</td>\n",
       "    </tr>\n",
       "  </tbody>\n",
       "</table>\n",
       "<p>131 rows × 3 columns</p>\n",
       "</div>"
      ],
      "text/plain": [
       "     Year_group diagnosis_code  code_count\n",
       "0            40     282.490000          42\n",
       "1            84     389.100000          10\n",
       "2            84     381.700000          10\n",
       "3            48     277.020000          30\n",
       "4            20     389.180000         646\n",
       "5            85         H69.00           6\n",
       "6            85     381.700000           6\n",
       "7            57         H69.93           2\n",
       "8            57     724.400000           2\n",
       "9            57     381.810000           2\n",
       "10           57     427.810000           2\n",
       "11           57            R42           2\n",
       "12           57     389.030000           2\n",
       "13           57          M79.1           2\n",
       "14           57         M26.69           2\n",
       "15           57         Z01.10           2\n",
       "16           57     784.700000           2\n",
       "17           57          K21.9           2\n",
       "18           57     724.200000           2\n",
       "19           57         H92.09           2\n",
       "20           57     724.300000           2\n",
       "21           57         H69.83           2\n",
       "22           57         H90.71           2\n",
       "23           57         H83.12           2\n",
       "24           67     381.810000           8\n",
       "25           79         H93.13           4\n",
       "26           79          H90.3           4\n",
       "27           38     384.200000          26\n",
       "28           39     282.490000          65\n",
       "29           32     277.020000          96\n",
       "..          ...            ...         ...\n",
       "101          72         H83.12           6\n",
       "102          72        H93.292           6\n",
       "103          72          H90.8           6\n",
       "104          22     277.000000         747\n",
       "105           4     382.900000       12547\n",
       "106          31     277.020000         110\n",
       "107          46     275.020000          13\n",
       "108          21     277.000000         388\n",
       "109          78         H69.02           1\n",
       "110          78     381.700000           1\n",
       "111           2     382.900000       72800\n",
       "112          25          E84.0         221\n",
       "113          54          H90.6           8\n",
       "114          43     275.020000          83\n",
       "115          24     277.020000         482\n",
       "116          76          H90.3           6\n",
       "117          11          V20.2       10563\n",
       "118          50     275.020000          35\n",
       "119          65     381.810000          14\n",
       "120          55         H72.92           9\n",
       "121          64     389.180000           8\n",
       "122           0          V20.2      148071\n",
       "123          60     389.200000          11\n",
       "124          59     384.200000           6\n",
       "125          59     381.810000           6\n",
       "126          59     389.020000           6\n",
       "127          59     389.030000           6\n",
       "128          59     385.320000           6\n",
       "129          59         H69.83           6\n",
       "130          49     191.900000          40\n",
       "\n",
       "[131 rows x 3 columns]"
      ]
     },
     "execution_count": 68,
     "metadata": {},
     "output_type": "execute_result"
    }
   ],
   "source": [
    "pandas_df_7 = spark_pandas_1(Year_group_code_RDD, 'Year_group','diagnosis_code','code_count')\n",
    "\n",
    "pandas_df_7"
   ]
  },
  {
   "cell_type": "markdown",
   "metadata": {},
   "source": [
    "#### Step 2 :-  Visualisation using the whole data"
   ]
  },
  {
   "cell_type": "code",
   "execution_count": 69,
   "metadata": {},
   "outputs": [
    {
     "data": {
      "text/plain": [
       "<matplotlib.axes._subplots.AxesSubplot at 0x7ff08acba990>"
      ]
     },
     "execution_count": 69,
     "metadata": {},
     "output_type": "execute_result"
    },
    {
     "data": {
      "image/png": "[encoded data removed]",
      "text/plain": [
       "<Figure size 864x288 with 1 Axes>"
      ]
     },
     "metadata": {
      "needs_background": "light"
     },
     "output_type": "display_data"
    }
   ],
   "source": [
    "viz_7_1 = pandas_df_7.plot.scatter (x = 'Year_group',\n",
    "                           y = 'code_count',\n",
    "                             figsize=(12,4),\n",
    "                             title = 'Maximum number of diagnoses assigned with year_group')\n",
    "viz_7_1"
   ]
  },
  {
   "cell_type": "markdown",
   "metadata": {},
   "source": [
    "#### Step 3 :- Saving the solution as .csv file"
   ]
  },
  {
   "cell_type": "code",
   "execution_count": 70,
   "metadata": {},
   "outputs": [],
   "source": [
    "filename_7 = \"/home/cloudera/Desktop/assignment/data_result_rdd/RDD_7.csv\"\n",
    "pandas_df_7.to_csv(filename_7, index = False, header = True)"
   ]
  },
  {
   "cell_type": "markdown",
   "metadata": {},
   "source": [
    "##### Definition 7.2 \n",
    "Creating multiple pandas dataframe based on age range for visualisation"
   ]
  },
  {
   "cell_type": "code",
   "execution_count": 71,
   "metadata": {},
   "outputs": [],
   "source": [
    "# ------------- Definition 7.2 --------------------------\n",
    "def age_filter_1(pandas_df,age) :\n",
    "    bol_age_df = pandas_df['Year_group'] >= age\n",
    "    age_df = pandas_df[bol_age_df]\n",
    "    return (age_df)\n",
    "\n",
    "def age_filter_2(pandas_df,age1,age2):\n",
    "    bol_age1_df = pandas_df['Year_group'] >= age1\n",
    "    bol_age2_df = pandas_df['Year_group'] <= age2\n",
    "    age_df = pandas_df[bol_age1_df & bol_age2_df ]\n",
    "    return age_df\n",
    "\n",
    "def age_filter_3(pandas_df,age) :\n",
    "    bol_age_df = pandas_df['Year_group'] <= age\n",
    "    age_df = pandas_df[bol_age_df]\n",
    "    return (age_df)"
   ]
  },
  {
   "cell_type": "markdown",
   "metadata": {},
   "source": [
    "#### Step 4 :- Creating multiple dataframes based on age range using definition 7.2"
   ]
  },
  {
   "cell_type": "code",
   "execution_count": 72,
   "metadata": {},
   "outputs": [
    {
     "data": {
      "image/png": "[encoded data removed]",
      "text/plain": [
       "<Figure size 864x288 with 1 Axes>"
      ]
     },
     "metadata": {
      "needs_background": "light"
     },
     "output_type": "display_data"
    }
   ],
   "source": [
    "# --> a.ii Under 15 years\n",
    "under15years = age_filter_2(pandas_df_7,0,15)\n",
    "\n",
    "# --> Plot graph\n",
    "plt.figure(figsize=(12, 4))\n",
    "sns.barplot(x=\"Year_group\", y=\"code_count\",\n",
    "            hue=\"diagnosis_code\",\n",
    "            data=under15years\n",
    "           ).set_title(\"Maximum number of diagnoses assigned to patients under 15 years\");"
   ]
  },
  {
   "cell_type": "code",
   "execution_count": 73,
   "metadata": {},
   "outputs": [
    {
     "data": {
      "image/png": "[encoded data removed]",
      "text/plain": [
       "<Figure size 864x288 with 1 Axes>"
      ]
     },
     "metadata": {
      "needs_background": "light"
     },
     "output_type": "display_data"
    }
   ],
   "source": [
    "# --> a.iii 15 to 35 years\n",
    "Age15to35 = age_filter_2(pandas_df_7,16,35)\n",
    "\n",
    "plt.figure(figsize=(12, 4))\n",
    "sns.barplot(x=\"Year_group\", y=\"code_count\",\n",
    "            hue=\"diagnosis_code\",\n",
    "            data=Age15to35\n",
    "           ).set_title(\"Maximum number of diagnoses assigned to patients between the age 15 to 35 years\");"
   ]
  },
  {
   "cell_type": "code",
   "execution_count": 74,
   "metadata": {},
   "outputs": [
    {
     "data": {
      "image/png": "[encoded data removed]",
      "text/plain": [
       "<Figure size 864x360 with 1 Axes>"
      ]
     },
     "metadata": {
      "needs_background": "light"
     },
     "output_type": "display_data"
    }
   ],
   "source": [
    "# --> a.iv 36 to 50 years\n",
    "Age36to50 = age_filter_2(pandas_df_7,36,50)\n",
    "\n",
    "plt.figure(figsize=(12, 5))\n",
    "sns.barplot(x=\"Year_group\", y=\"code_count\",\n",
    "            hue=\"diagnosis_code\",\n",
    "            data=Age36to50\n",
    "           ).set_title(\"Maximum number of diagnoses assigned to patients between the age 36 to 50 years\");\n"
   ]
  },
  {
   "cell_type": "code",
   "execution_count": 75,
   "metadata": {},
   "outputs": [
    {
     "data": {
      "image/png": "[encoded data removed]",
      "text/plain": [
       "<Figure size 864x288 with 1 Axes>"
      ]
     },
     "metadata": {
      "needs_background": "light"
     },
     "output_type": "display_data"
    }
   ],
   "source": [
    "# --> a.v 51 to 56 years\n",
    "Age51to56 = age_filter_2(pandas_df_7,51,56)\n",
    "#print(DF7_7_Age25to34)\n",
    "\n",
    "plt.figure(figsize=(12, 4))\n",
    "sns.barplot(x=\"Year_group\", y=\"code_count\",\n",
    "            hue=\"diagnosis_code\",\n",
    "            data=Age51to56\n",
    "           ).set_title(\"Maximum number of diagnoses assigned to patients between the age 51 to 56 years\");"
   ]
  },
  {
   "cell_type": "code",
   "execution_count": 76,
   "metadata": {},
   "outputs": [
    {
     "data": {
      "image/png": "[encoded data removed]",
      "text/plain": [
       "<Figure size 864x432 with 1 Axes>"
      ]
     },
     "metadata": {
      "needs_background": "light"
     },
     "output_type": "display_data"
    }
   ],
   "source": [
    "# --> a.v 57 to 58 years\n",
    "Age57to58 = age_filter_2(pandas_df_7,57,58)\n",
    "#print(DF7_7_Age25to34)\n",
    "\n",
    "plt.figure(figsize=(12, 6))\n",
    "sns.barplot(x=\"Year_group\", y=\"code_count\",\n",
    "            hue=\"diagnosis_code\",\n",
    "            data=Age57to58\n",
    "           ).set_title(\"Maximum number of diagnoses assigned to patients between the age 51 to 56 years\");"
   ]
  },
  {
   "cell_type": "code",
   "execution_count": 77,
   "metadata": {},
   "outputs": [
    {
     "data": {
      "image/png": "[encoded data removed]",
      "text/plain": [
       "<Figure size 864x360 with 1 Axes>"
      ]
     },
     "metadata": {
      "needs_background": "light"
     },
     "output_type": "display_data"
    }
   ],
   "source": [
    "# --> a.vii 59 to 68 years\n",
    "Age59to68 = age_filter_2(pandas_df_7,59,68)\n",
    "\n",
    "plt.figure(figsize=(12, 5))\n",
    "sns.barplot(x=\"Year_group\", y=\"code_count\",\n",
    "            hue=\"diagnosis_code\",\n",
    "            data=Age59to68\n",
    "           ).set_title(\"Maximum number of diagnoses assigned to patients between the age 59 to 68 years\");\n"
   ]
  },
  {
   "cell_type": "code",
   "execution_count": 78,
   "metadata": {},
   "outputs": [
    {
     "data": {
      "image/png": "[encoded data removed]",
      "text/plain": [
       "<Figure size 864x360 with 1 Axes>"
      ]
     },
     "metadata": {
      "needs_background": "light"
     },
     "output_type": "display_data"
    }
   ],
   "source": [
    "# --> a.vii 69 to 74 years\n",
    "Age69to74 = age_filter_2(pandas_df_7,69,74)\n",
    "#print(DF7_7_Age69to74)\n",
    "\n",
    "plt.figure(figsize=(12, 5))\n",
    "sns.barplot(x=\"Year_group\", y=\"code_count\",\n",
    "            hue=\"diagnosis_code\",\n",
    "            data=Age69to74\n",
    "           ).set_title(\"Maximum number of diagnoses assigned to patients between the age 69 to 74 years\");\n"
   ]
  },
  {
   "cell_type": "code",
   "execution_count": 79,
   "metadata": {},
   "outputs": [
    {
     "data": {
      "image/png": "[encoded data removed]",
      "text/plain": [
       "<Figure size 864x360 with 1 Axes>"
      ]
     },
     "metadata": {
      "needs_background": "light"
     },
     "output_type": "display_data"
    }
   ],
   "source": [
    "# --> a.ix Above 75 years\n",
    "Above75years = age_filter_1(pandas_df_7,75)\n",
    "\n",
    "plt.figure(figsize=(12, 5))\n",
    "sns.barplot(x=\"Year_group\", y=\"code_count\",\n",
    "            hue=\"diagnosis_code\",\n",
    "            data=Above75years\n",
    "           ).set_title(\"Maximum number of diagnoses assigned to patients above 75 years\");# --> a.ix Above 75 years\n"
   ]
  },
  {
   "cell_type": "markdown",
   "metadata": {},
   "source": [
    "##### ------------------------------------\n",
    "## 5. Dataframes (DF)\n",
    "##### ------------------------------------"
   ]
  },
  {
   "cell_type": "code",
   "execution_count": 7,
   "metadata": {},
   "outputs": [
    {
     "name": "stdout",
     "output_type": "stream",
     "text": [
      "Safe mode is OFF\r\n"
     ]
    }
   ],
   "source": [
    "# ============================================\n",
    "#               INITIALISATION \n",
    "# ============================================\n",
    "\n",
    "# -------> |Creating paths for .csv file| <------\n",
    "\n",
    "# a. path for hearing evaluation csv file\n",
    "path_hearing_evaluation = \"file:/home/cloudera/Desktop/assignment/hearing_evaluation.csv\"\n",
    "\n",
    "# b. path for imaging csv file\n",
    "path_imaging = \"file:/home/cloudera/Desktop/assignment/imaging.csv\"\n",
    "\n",
    "# c. path for diagnoses csv file\n",
    "path_diagnoses = \"file:/home/cloudera/Desktop/assignment/diagnoses.csv\"\n",
    "\n",
    "\n",
    "# ---------> |Uploading .csv files as dataframes | <--------\n",
    "\n",
    "# a. hdfs safe mode off\n",
    "! hdfs dfsadmin -safemode leave   \n",
    "\n",
    "# b. imaging dataframe\n",
    "imaging_df = diagnoses_df = sqlContext.read.format('com.databricks.spark.csv').options(header='true',inferschema='true').load(path_imaging)\n",
    "\n",
    "# c. hearing evaluation dataframe\n",
    "hearing_evaluation_df = sqlContext.read.format('com.databricks.spark.csv').options(header='true',inferschema='true').load(path_hearing_evaluation)\n",
    "\n",
    "# d. Diagnosis dataframe\n",
    "diagnoses_df = sqlContext.read.format('com.databricks.spark.csv').options(header='true',inferschema='true').load(path_diagnoses)"
   ]
  },
  {
   "cell_type": "markdown",
   "metadata": {},
   "source": [
    "Creating necessary directories to save all the output as .csv files in the created directory"
   ]
  },
  {
   "cell_type": "code",
   "execution_count": 8,
   "metadata": {},
   "outputs": [],
   "source": [
    "if not os.path.exists('/home/cloudera/Desktop/assignment/data_result_df'):\n",
    "    os.system('mkdir /home/cloudera/Desktop/assignment/data_result_df')\n",
    "    print 'The Directory has been created'"
   ]
  },
  {
   "cell_type": "markdown",
   "metadata": {},
   "source": [
    "Checking if the dataframes are correctly loaded"
   ]
  },
  {
   "cell_type": "code",
   "execution_count": 9,
   "metadata": {},
   "outputs": [],
   "source": [
    "from pyspark.sql import DataFrame\n",
    "assert isinstance(imaging_df, DataFrame), \"Your answer should be a dataframe\"\n",
    "assert isinstance(hearing_evaluation_df, DataFrame), \"Your answer should be a dataframe\"\n",
    "assert isinstance(diagnoses_df, DataFrame), \"Your answer should be a dataframe\""
   ]
  },
  {
   "cell_type": "markdown",
   "metadata": {},
   "source": [
    "Checking the imported dataframes"
   ]
  },
  {
   "cell_type": "code",
   "execution_count": 10,
   "metadata": {},
   "outputs": [
    {
     "name": "stdout",
     "output_type": "stream",
     "text": [
      "+----------+----------------+------------------------+-----------------------+---------------------------+------------------------------+\n",
      "|patient_id|  evaluation_age|severity_of_hearing_loss|unilateral_or_bilateral|has_conductive_hearing_loss|has_sensorineural_hearing_loss|\n",
      "+----------+----------------+------------------------+-----------------------+---------------------------+------------------------------+\n",
      "| 000J1TN48|2.11859389559818|                  Normal|      Insufficient Data|                          f|                             f|\n",
      "| 000JE5P7L|3.38154832047061|                  Normal|      Insufficient Data|                          f|                             f|\n",
      "| 001M87HBZ|5.19128693100837|                  Normal|      Insufficient Data|                          t|                             f|\n",
      "| 001M87HBZ|8.24376339137186|                    Mild|      Insufficient Data|                          t|                             f|\n",
      "| 002ANH0GH|7.35543953897321|                  Normal|                 Normal|                          f|                             f|\n",
      "+----------+----------------+------------------------+-----------------------+---------------------------+------------------------------+\n",
      "only showing top 5 rows\n",
      "\n",
      "+----------+-----------------+--------+\n",
      "|patient_id|      imaging_age|modality|\n",
      "+----------+-----------------+--------+\n",
      "| 00R99YUB4| 8.15341238568207|      CT|\n",
      "| 0263DNQG8|0.078671260881339|      CT|\n",
      "+----------+-----------------+--------+\n",
      "only showing top 2 rows\n",
      "\n",
      "+----------+--------------+----------------+\n",
      "|patient_id|diagnosis_code|   diagnosis_age|\n",
      "+----------+--------------+----------------+\n",
      "| 00008RINR|    315.320000|2.18430371791803|\n",
      "| 00008RINR|    315.320000|2.80033330216659|\n",
      "+----------+--------------+----------------+\n",
      "only showing top 2 rows\n",
      "\n"
     ]
    }
   ],
   "source": [
    "hearing_evaluation_df.show(5)\n",
    "imaging_df.show(2)\n",
    "diagnoses_df.show(2)"
   ]
  },
  {
   "cell_type": "code",
   "execution_count": 11,
   "metadata": {},
   "outputs": [],
   "source": [
    "# Importing libraries for visualisation \n",
    "import pandas as pd\n",
    "import numpy as np\n",
    "import matplotlib.pyplot as plt"
   ]
  },
  {
   "cell_type": "markdown",
   "metadata": {},
   "source": [
    "----------------------------------------------------------------------\n",
    "### Statement 1 :-  The 5 most common diagnosis codes along with their frequencies (DF)\n",
    "#### 1.1 DATA ANALYSIS\n",
    "Approach adapted:-\n",
    "* Step1:- Count diagnosis code, group by diagnosis code,sort in decreasing order"
   ]
  },
  {
   "cell_type": "code",
   "execution_count": 12,
   "metadata": {},
   "outputs": [],
   "source": [
    "from pyspark.sql import SQLContext\n",
    "sqlCtx = SQLContext(sc)\n",
    "from pyspark.sql.functions import col"
   ]
  },
  {
   "cell_type": "markdown",
   "metadata": {},
   "source": [
    "#### Step 1 :- Count diagnosis code, group by diagnosis code,sort in decreasing order."
   ]
  },
  {
   "cell_type": "code",
   "execution_count": 13,
   "metadata": {},
   "outputs": [
    {
     "name": "stdout",
     "output_type": "stream",
     "text": [
      "The 5 most common diagnosis codes\n",
      "+--------------+------+\n",
      "|diagnosis_code| count|\n",
      "+--------------+------+\n",
      "|         V20.2|476228|\n",
      "|    382.900000|272497|\n",
      "|    389.900000|256345|\n",
      "|    381.810000|213910|\n",
      "|    465.900000|175831|\n",
      "+--------------+------+\n",
      "only showing top 5 rows\n",
      "\n"
     ]
    }
   ],
   "source": [
    "df1_1 = diagnoses_df.groupby('diagnosis_code').count().sort(col(\"count\").desc()) \n",
    "print ('The 5 most common diagnosis codes')  \n",
    "df1_1.show(5)                        \n",
    "#-----| Output |-----------------\n",
    "# df1_1 = diagnosis_code, count\n",
    "# -------------------------------"
   ]
  },
  {
   "cell_type": "markdown",
   "metadata": {},
   "source": [
    "#### 1.2 DATA VISUALISATION\n",
    "Approach: \n",
    "* Step 1:-Creating pandas dataframe\n",
    "* Step 2:-Plotting from pandas dataframe\n",
    "* Step 3:-Saving the solutions in pandas df to csv file"
   ]
  },
  {
   "cell_type": "markdown",
   "metadata": {},
   "source": [
    "#### Step 1 :-  Converting spark dataframe to pandas dataframe and extracting 5 largest count"
   ]
  },
  {
   "cell_type": "code",
   "execution_count": 14,
   "metadata": {},
   "outputs": [
    {
     "data": {
      "text/html": [
       "<div>\n",
       "<style scoped>\n",
       "    .dataframe tbody tr th:only-of-type {\n",
       "        vertical-align: middle;\n",
       "    }\n",
       "\n",
       "    .dataframe tbody tr th {\n",
       "        vertical-align: top;\n",
       "    }\n",
       "\n",
       "    .dataframe thead th {\n",
       "        text-align: right;\n",
       "    }\n",
       "</style>\n",
       "<table border=\"1\" class=\"dataframe\">\n",
       "  <thead>\n",
       "    <tr style=\"text-align: right;\">\n",
       "      <th></th>\n",
       "      <th>diagnosis_code</th>\n",
       "      <th>count</th>\n",
       "    </tr>\n",
       "  </thead>\n",
       "  <tbody>\n",
       "    <tr>\n",
       "      <th>0</th>\n",
       "      <td>V20.2</td>\n",
       "      <td>476228</td>\n",
       "    </tr>\n",
       "    <tr>\n",
       "      <th>1</th>\n",
       "      <td>382.900000</td>\n",
       "      <td>272497</td>\n",
       "    </tr>\n",
       "    <tr>\n",
       "      <th>2</th>\n",
       "      <td>389.900000</td>\n",
       "      <td>256345</td>\n",
       "    </tr>\n",
       "    <tr>\n",
       "      <th>3</th>\n",
       "      <td>381.810000</td>\n",
       "      <td>213910</td>\n",
       "    </tr>\n",
       "    <tr>\n",
       "      <th>4</th>\n",
       "      <td>465.900000</td>\n",
       "      <td>175831</td>\n",
       "    </tr>\n",
       "  </tbody>\n",
       "</table>\n",
       "</div>"
      ],
      "text/plain": [
       "  diagnosis_code   count\n",
       "0          V20.2  476228\n",
       "1     382.900000  272497\n",
       "2     389.900000  256345\n",
       "3     381.810000  213910\n",
       "4     465.900000  175831"
      ]
     },
     "execution_count": 14,
     "metadata": {},
     "output_type": "execute_result"
    }
   ],
   "source": [
    "pd_df_1 = df1_1.toPandas().nlargest(5,'count')  # Extract 5 largest by 'count'\n",
    "pd_df_1           "
   ]
  },
  {
   "cell_type": "markdown",
   "metadata": {},
   "source": [
    "#### Step 2 :- Plotting graphs (Bar plot)"
   ]
  },
  {
   "cell_type": "code",
   "execution_count": 15,
   "metadata": {},
   "outputs": [
    {
     "data": {
      "text/plain": [
       "<matplotlib.axes._subplots.AxesSubplot at 0x7f3896a6ce90>"
      ]
     },
     "execution_count": 15,
     "metadata": {},
     "output_type": "execute_result"
    },
    {
     "data": {
      "image/png": "[encoded data removed]",
      "text/plain": [
       "<Figure size 432x288 with 1 Axes>"
      ]
     },
     "metadata": {
      "needs_background": "light"
     },
     "output_type": "display_data"
    }
   ],
   "source": [
    "viz_DF_1 = pd_df_1.plot.bar(x= 'diagnosis_code',y= 'count',rot = 0, \n",
    "                            title = \"5 Most Common Diagnosis codes\",\n",
    "                           legend = False)\n",
    "viz_DF_1"
   ]
  },
  {
   "cell_type": "markdown",
   "metadata": {},
   "source": [
    "#### Step 3 :-  Saving the solution as .csv file"
   ]
  },
  {
   "cell_type": "code",
   "execution_count": null,
   "metadata": {},
   "outputs": [],
   "source": [
    "filename_1 = \"/home/cloudera/Desktop/assignment/data_result_df/DF_1.csv\"\n",
    "pd_df_1.to_csv(filename_1, index = False, header = True)"
   ]
  },
  {
   "cell_type": "markdown",
   "metadata": {},
   "source": [
    "--------------------------------------------------\n",
    "###  Statement 2 :- Top 5 most common diagnosis codes given to patients at the time of hearing evaluation with their frequencies. (DF)\n",
    "\n",
    "#### 2.1 DATA ANALYSIS\n",
    "Approach adapted:-\n",
    "* Step1:- Inner join 'diagnosis' and 'hearing evaluation' \n",
    "Condition :- age and patient_id.\n",
    "* Step2:- Count diagnosis_code, group by 'diagnosis_code' and sort in decreasing order"
   ]
  },
  {
   "cell_type": "markdown",
   "metadata": {},
   "source": [
    "#### Step 1 :- Inner join 'diagnosis' and 'hearing evaluation' "
   ]
  },
  {
   "cell_type": "code",
   "execution_count": 16,
   "metadata": {},
   "outputs": [
    {
     "name": "stdout",
     "output_type": "stream",
     "text": [
      "+----------+--------------+----------------+----------+----------------+------------------------+-----------------------+---------------------------+------------------------------+\n",
      "|patient_id|diagnosis_code|   diagnosis_age|patient_id|  evaluation_age|severity_of_hearing_loss|unilateral_or_bilateral|has_conductive_hearing_loss|has_sensorineural_hearing_loss|\n",
      "+----------+--------------+----------------+----------+----------------+------------------------+-----------------------+---------------------------+------------------------------+\n",
      "| PPLIKTJ46|    389.100000|4.08640492198418| PPLIKTJ46|4.08640492198418|                  Normal|                 Normal|                          f|                             f|\n",
      "| PPLIKTJ46|    389.150000|4.08640492198418| PPLIKTJ46|4.08640492198418|                  Normal|                 Normal|                          f|                             f|\n",
      "| PPLIKTJ46|    474.100000|4.08640492198418| PPLIKTJ46|4.08640492198418|                  Normal|                 Normal|                          f|                             f|\n",
      "| PPLIKTJ46|        V72.19|4.08640492198418| PPLIKTJ46|4.08640492198418|                  Normal|                 Normal|                          f|                             f|\n",
      "| Q2TPA0EDK|    382.000000|7.11724143306377| Q2TPA0EDK|7.11724143306377|                  Normal|      Insufficient Data|                          t|                             f|\n",
      "+----------+--------------+----------------+----------+----------------+------------------------+-----------------------+---------------------------+------------------------------+\n",
      "only showing top 5 rows\n",
      "\n"
     ]
    }
   ],
   "source": [
    "df2_1  = diagnoses_df.join(hearing_evaluation_df, [(diagnoses_df.diagnosis_age == hearing_evaluation_df.evaluation_age) & (diagnoses_df.patient_id == hearing_evaluation_df.patient_id)], how = \"inner\")\n",
    "df2_1.show(5)"
   ]
  },
  {
   "cell_type": "markdown",
   "metadata": {},
   "source": [
    "#### Step 2 :- Dataframe with diagnosis_code and frequency, sorted in decreasing order"
   ]
  },
  {
   "cell_type": "code",
   "execution_count": 17,
   "metadata": {},
   "outputs": [],
   "source": [
    "df2_2 = df2_1.groupby('diagnosis_code').count().sort(col(\"count\").desc())\n",
    "#df2_2.show(5)\n",
    "\n",
    "#-----| Output |-----------------\n",
    "# df2_1 = diagnosis_code, count\n",
    "# -------------------------------"
   ]
  },
  {
   "cell_type": "markdown",
   "metadata": {},
   "source": [
    "#### 2.2 DATA VISUALISATION\n",
    "Approach: \n",
    "* Step 1:-Creating pandas dataframe\n",
    "* Step 2:-Plotting from pandas dataframe\n",
    "* Step 3:-Saving the solutions in pandas df to csv file"
   ]
  },
  {
   "cell_type": "markdown",
   "metadata": {},
   "source": [
    "#### Step 1 :- Creating pandas dataframe"
   ]
  },
  {
   "cell_type": "code",
   "execution_count": 18,
   "metadata": {},
   "outputs": [
    {
     "data": {
      "text/html": [
       "<div>\n",
       "<style scoped>\n",
       "    .dataframe tbody tr th:only-of-type {\n",
       "        vertical-align: middle;\n",
       "    }\n",
       "\n",
       "    .dataframe tbody tr th {\n",
       "        vertical-align: top;\n",
       "    }\n",
       "\n",
       "    .dataframe thead th {\n",
       "        text-align: right;\n",
       "    }\n",
       "</style>\n",
       "<table border=\"1\" class=\"dataframe\">\n",
       "  <thead>\n",
       "    <tr style=\"text-align: right;\">\n",
       "      <th></th>\n",
       "      <th>diagnosis_code</th>\n",
       "      <th>count</th>\n",
       "    </tr>\n",
       "  </thead>\n",
       "  <tbody>\n",
       "    <tr>\n",
       "      <th>0</th>\n",
       "      <td>389.180000</td>\n",
       "      <td>13</td>\n",
       "    </tr>\n",
       "    <tr>\n",
       "      <th>1</th>\n",
       "      <td>V20.2</td>\n",
       "      <td>12</td>\n",
       "    </tr>\n",
       "    <tr>\n",
       "      <th>2</th>\n",
       "      <td>493.900000</td>\n",
       "      <td>9</td>\n",
       "    </tr>\n",
       "    <tr>\n",
       "      <th>3</th>\n",
       "      <td>315.390000</td>\n",
       "      <td>9</td>\n",
       "    </tr>\n",
       "    <tr>\n",
       "      <th>4</th>\n",
       "      <td>389.900000</td>\n",
       "      <td>9</td>\n",
       "    </tr>\n",
       "  </tbody>\n",
       "</table>\n",
       "</div>"
      ],
      "text/plain": [
       "  diagnosis_code  count\n",
       "0     389.180000     13\n",
       "1          V20.2     12\n",
       "2     493.900000      9\n",
       "3     315.390000      9\n",
       "4     389.900000      9"
      ]
     },
     "execution_count": 18,
     "metadata": {},
     "output_type": "execute_result"
    }
   ],
   "source": [
    "pd_df_2 = df2_2.toPandas().nlargest(5,'count')\n",
    "pd_df_2"
   ]
  },
  {
   "cell_type": "markdown",
   "metadata": {},
   "source": [
    "#### Step 2 :- Plot (bar plot)"
   ]
  },
  {
   "cell_type": "code",
   "execution_count": 19,
   "metadata": {},
   "outputs": [
    {
     "data": {
      "text/plain": [
       "<matplotlib.axes._subplots.AxesSubplot at 0x7f3896adaa50>"
      ]
     },
     "execution_count": 19,
     "metadata": {},
     "output_type": "execute_result"
    },
    {
     "data": {
      "image/png": "[encoded data removed]",
      "text/plain": [
       "<Figure size 432x288 with 1 Axes>"
      ]
     },
     "metadata": {
      "needs_background": "light"
     },
     "output_type": "display_data"
    }
   ],
   "source": [
    "viz_DF_2 = pd_df_2.plot.bar(x= 'diagnosis_code',y= 'count',rot = 0, \n",
    "                 title = \"Most Common Diagnosis codes during Hearing Evaluation\",\n",
    "                           legend = False)\n",
    "\n",
    "viz_DF_2"
   ]
  },
  {
   "cell_type": "markdown",
   "metadata": {},
   "source": [
    "#### Steo 3 :- Saving the solution as .csv file"
   ]
  },
  {
   "cell_type": "code",
   "execution_count": null,
   "metadata": {},
   "outputs": [],
   "source": [
    "filename_2 = \"/home/cloudera/Desktop/assignment/data_result_df/DF_2.csv\"\n",
    "pd_df_2.to_csv(filename_2, index = False, header = True)"
   ]
  },
  {
   "cell_type": "markdown",
   "metadata": {},
   "source": [
    "###  Statement 3 :- The highest number of diagnoses assigned to a single patient (DF)\n",
    "\n",
    "#### 3.1 DATA ANALYSIS\n",
    "Approach adapted:-\n",
    "* Count patient_id, group by patient_id,sort in decreasing order."
   ]
  },
  {
   "cell_type": "code",
   "execution_count": 20,
   "metadata": {},
   "outputs": [
    {
     "name": "stdout",
     "output_type": "stream",
     "text": [
      "+----------+-----+\n",
      "|patient_id|count|\n",
      "+----------+-----+\n",
      "| 59VKSHG5W| 8557|\n",
      "| S7ORRS7WB| 7828|\n",
      "| 3SPYXMEMK| 7592|\n",
      "| T2FMCCLFU| 6812|\n",
      "| T9WIA97LK| 6504|\n",
      "+----------+-----+\n",
      "only showing top 5 rows\n",
      "\n"
     ]
    }
   ],
   "source": [
    "df3_1 = diagnoses_df.groupby('patient_id').count().sort(col(\"count\").desc())\n",
    "df3_1.show(5)\n",
    "\n",
    "#-----| Output |-----------------\n",
    "# df3_1 = patient_id, count\n",
    "# -------------------------------"
   ]
  },
  {
   "cell_type": "markdown",
   "metadata": {},
   "source": [
    "#### 3.2 DATA VISUALISATION\n",
    "Approach: \n",
    "* Step 1:-Creating pandas dataframe\n",
    "* Step 2:-Plotting from pandas dataframe\n",
    "* Step 3:-Saving the solutions in pandas df to csv file"
   ]
  },
  {
   "cell_type": "markdown",
   "metadata": {},
   "source": [
    "#### Step 1:-  Changing into pandas and Renaming the column to 'No of Diagnoses'"
   ]
  },
  {
   "cell_type": "code",
   "execution_count": 21,
   "metadata": {},
   "outputs": [
    {
     "data": {
      "text/html": [
       "<div>\n",
       "<style scoped>\n",
       "    .dataframe tbody tr th:only-of-type {\n",
       "        vertical-align: middle;\n",
       "    }\n",
       "\n",
       "    .dataframe tbody tr th {\n",
       "        vertical-align: top;\n",
       "    }\n",
       "\n",
       "    .dataframe thead th {\n",
       "        text-align: right;\n",
       "    }\n",
       "</style>\n",
       "<table border=\"1\" class=\"dataframe\">\n",
       "  <thead>\n",
       "    <tr style=\"text-align: right;\">\n",
       "      <th></th>\n",
       "      <th>patient_id</th>\n",
       "      <th>No.of Diagnoses</th>\n",
       "    </tr>\n",
       "  </thead>\n",
       "  <tbody>\n",
       "    <tr>\n",
       "      <th>0</th>\n",
       "      <td>59VKSHG5W</td>\n",
       "      <td>8557</td>\n",
       "    </tr>\n",
       "    <tr>\n",
       "      <th>1</th>\n",
       "      <td>S7ORRS7WB</td>\n",
       "      <td>7828</td>\n",
       "    </tr>\n",
       "    <tr>\n",
       "      <th>2</th>\n",
       "      <td>3SPYXMEMK</td>\n",
       "      <td>7592</td>\n",
       "    </tr>\n",
       "    <tr>\n",
       "      <th>3</th>\n",
       "      <td>T2FMCCLFU</td>\n",
       "      <td>6812</td>\n",
       "    </tr>\n",
       "    <tr>\n",
       "      <th>4</th>\n",
       "      <td>T9WIA97LK</td>\n",
       "      <td>6504</td>\n",
       "    </tr>\n",
       "  </tbody>\n",
       "</table>\n",
       "</div>"
      ],
      "text/plain": [
       "  patient_id  No.of Diagnoses\n",
       "0  59VKSHG5W             8557\n",
       "1  S7ORRS7WB             7828\n",
       "2  3SPYXMEMK             7592\n",
       "3  T2FMCCLFU             6812\n",
       "4  T9WIA97LK             6504"
      ]
     },
     "execution_count": 21,
     "metadata": {},
     "output_type": "execute_result"
    }
   ],
   "source": [
    "pd_df_3 = df3_1.toPandas().nlargest(5,'count').rename(columns = {\"count\": \"No.of Diagnoses\"})\n",
    "pd_df_3 "
   ]
  },
  {
   "cell_type": "markdown",
   "metadata": {},
   "source": [
    "#### Step 2 :-  Plotting bar plot"
   ]
  },
  {
   "cell_type": "code",
   "execution_count": 22,
   "metadata": {},
   "outputs": [
    {
     "data": {
      "text/plain": [
       "<matplotlib.axes._subplots.AxesSubplot at 0x7f3896f271d0>"
      ]
     },
     "execution_count": 22,
     "metadata": {},
     "output_type": "execute_result"
    },
    {
     "data": {
      "image/png": "[encoded data removed]",
      "text/plain": [
       "<Figure size 432x288 with 1 Axes>"
      ]
     },
     "metadata": {
      "needs_background": "light"
     },
     "output_type": "display_data"
    }
   ],
   "source": [
    "viz_DF_3 = pd_df_3.plot.barh(x= 'patient_id',y= 'No.of Diagnoses',rot = 0,\n",
    "                            title = 'Number of Diagnosis per patient',\n",
    "                            legend = False)\n",
    "viz_DF_3"
   ]
  },
  {
   "cell_type": "markdown",
   "metadata": {},
   "source": [
    "#### Step 3 :-  Saving the solution as .csv file"
   ]
  },
  {
   "cell_type": "code",
   "execution_count": 23,
   "metadata": {},
   "outputs": [],
   "source": [
    "filename_3 = \"/home/cloudera/Desktop/assignment/data_result_df/DF_3.csv\"\n",
    "pd_df_3.to_csv(filename_3, index = False, header = True)"
   ]
  },
  {
   "cell_type": "markdown",
   "metadata": {},
   "source": [
    "###  Statement 4 :- The client is interested in the total number of (different) people with a hearing problem in comparison to the total number of people who have had a hearing evaluation. (DF)\n",
    "\n",
    "#### 4.1 DATA ANALYSIS\n",
    "Approach adapted:-\n",
    "* Step1:- Filtering where severity_of_hearing is not 'normal' and not 'insufficient data'.\n",
    "* Step2:- Calculate No.of patients : i)evaluated (hearing_evaluation_df),ii) with hearing problem (hearing_problem_df)),iii) without hearing problem.\n",
    "* Step3:- Calculate percentage of patients with hearing_problem and without hearing problem"
   ]
  },
  {
   "cell_type": "markdown",
   "metadata": {},
   "source": [
    "#### Step 1:-  Filtering to obtain Dataframe account for patients with hearing problems."
   ]
  },
  {
   "cell_type": "code",
   "execution_count": 24,
   "metadata": {},
   "outputs": [
    {
     "name": "stdout",
     "output_type": "stream",
     "text": [
      "+----------+------------------------+\n",
      "|patient_id|severity_of_hearing_loss|\n",
      "+----------+------------------------+\n",
      "| 001M87HBZ|                    Mild|\n",
      "| 00B0OT59S|                Moderate|\n",
      "| 00HQAUUEY|                Moderate|\n",
      "| 00JEZTXSZ|                    Mild|\n",
      "| 00K33OU94|                    Mild|\n",
      "+----------+------------------------+\n",
      "only showing top 5 rows\n",
      "\n"
     ]
    }
   ],
   "source": [
    "hearing_problem_df = hearing_evaluation_df.select('patient_id','severity_of_hearing_loss').where('severity_of_hearing_loss != \"Normal\" and severity_of_hearing_loss != \"Insufficient Data\"')\n",
    "hearing_problem_df.show(5)"
   ]
  },
  {
   "cell_type": "markdown",
   "metadata": {},
   "source": [
    "#### Step 2 :-  Calculation of the Number of patients\n",
    "* patients evaluated\n",
    "* patients with hearing problems \n",
    "* patients without hearing problems (Normal)"
   ]
  },
  {
   "cell_type": "code",
   "execution_count": 25,
   "metadata": {},
   "outputs": [
    {
     "name": "stdout",
     "output_type": "stream",
     "text": [
      "No. of patients evaluated :- 33892\n",
      "No. of patients with hearing problem :- 11417\n",
      "No. of patients without any problem :- 22475\n"
     ]
    }
   ],
   "source": [
    "# --> Patients_evaluated \n",
    "Patients_evaluated_hearing = hearing_evaluation_df.select('patient_id').distinct().count()\n",
    "print 'No. of patients evaluated :-',Patients_evaluated_hearing\n",
    "\n",
    "# --> Patients_hearing_problem \n",
    "patient_hearing_problem_df = hearing_problem_df.select('patient_id').distinct()\n",
    "Patients_hearing_problem = patient_hearing_problem_df.count()\n",
    "print 'No. of patients with hearing problem :-', Patients_hearing_problem\n",
    "\n",
    "# --> Patients without problem (Normal)\n",
    "Patients_hearing_normal = Patients_evaluated_hearing - Patients_hearing_problem\n",
    "print 'No. of patients without any problem :-',Patients_hearing_normal"
   ]
  },
  {
   "cell_type": "markdown",
   "metadata": {},
   "source": [
    "#### Step 3:- Calculation of percentage \n",
    "* percentage of patients with hearing problems \n",
    "* percentage of patients withouthearing problems"
   ]
  },
  {
   "cell_type": "code",
   "execution_count": 26,
   "metadata": {},
   "outputs": [
    {
     "name": "stdout",
     "output_type": "stream",
     "text": [
      "Patients with hearing problems (%) :- 33.69\n",
      "Patients without hearing problems (%) :- 66.31\n"
     ]
    }
   ],
   "source": [
    "# --> Percentage of Patients with hearing problem\n",
    "Percentage_Patients_hearing_problem = round(float(Patients_hearing_problem)/\n",
    "                                            float(Patients_evaluated_hearing)*100,2)\n",
    "print'Patients with hearing problems (%) :-',Percentage_Patients_hearing_problem\n",
    "\n",
    "# --> Percentage of Patients without hearing problem\n",
    "Percentage_Patients_Normal = round(float(Patients_hearing_normal)/\n",
    "                                   float(Patients_evaluated_hearing)*100,2)\n",
    "print'Patients without hearing problems (%) :-',Percentage_Patients_Normal"
   ]
  },
  {
   "cell_type": "markdown",
   "metadata": {},
   "source": [
    "#### 4.2 DATA VISUALISATION\n",
    "Approach: \n",
    "* Step 1:-Creating pandas dataframe\n",
    "* Step 2:-Plotting from pandas dataframe\n",
    "* Step 3:-Saving the solutions in pandas df to csv file"
   ]
  },
  {
   "cell_type": "markdown",
   "metadata": {},
   "source": [
    "#### Step 1:- Creating pandas dataframe from the results found above"
   ]
  },
  {
   "cell_type": "code",
   "execution_count": 27,
   "metadata": {},
   "outputs": [
    {
     "data": {
      "text/html": [
       "<div>\n",
       "<style scoped>\n",
       "    .dataframe tbody tr th:only-of-type {\n",
       "        vertical-align: middle;\n",
       "    }\n",
       "\n",
       "    .dataframe tbody tr th {\n",
       "        vertical-align: top;\n",
       "    }\n",
       "\n",
       "    .dataframe thead th {\n",
       "        text-align: right;\n",
       "    }\n",
       "</style>\n",
       "<table border=\"1\" class=\"dataframe\">\n",
       "  <thead>\n",
       "    <tr style=\"text-align: right;\">\n",
       "      <th></th>\n",
       "      <th>Hearing Condition</th>\n",
       "      <th>Number of Patients</th>\n",
       "      <th>Percentage of Patients</th>\n",
       "    </tr>\n",
       "  </thead>\n",
       "  <tbody>\n",
       "    <tr>\n",
       "      <th>0</th>\n",
       "      <td>With hearing problem</td>\n",
       "      <td>11417</td>\n",
       "      <td>33.69</td>\n",
       "    </tr>\n",
       "    <tr>\n",
       "      <th>1</th>\n",
       "      <td>Without hearing problem</td>\n",
       "      <td>22475</td>\n",
       "      <td>66.31</td>\n",
       "    </tr>\n",
       "  </tbody>\n",
       "</table>\n",
       "</div>"
      ],
      "text/plain": [
       "         Hearing Condition  Number of Patients  Percentage of Patients\n",
       "0     With hearing problem               11417                   33.69\n",
       "1  Without hearing problem               22475                   66.31"
      ]
     },
     "execution_count": 27,
     "metadata": {},
     "output_type": "execute_result"
    }
   ],
   "source": [
    "pd_df_4 = pd.DataFrame({'Hearing Condition': ['With hearing problem','Without hearing problem'],\n",
    "                    'Number of Patients':[Patients_hearing_problem,Patients_hearing_normal],\n",
    "                      'Percentage of Patients':[Percentage_Patients_hearing_problem, \n",
    "                                            Percentage_Patients_Normal]})\n",
    "\n",
    "pd_df_4"
   ]
  },
  {
   "cell_type": "markdown",
   "metadata": {},
   "source": [
    "#### Step 2:- Visualisation using plots (Bar and pie)"
   ]
  },
  {
   "cell_type": "code",
   "execution_count": 28,
   "metadata": {},
   "outputs": [
    {
     "data": {
      "image/png": "[encoded data removed]",
      "text/plain": [
       "<Figure size 432x288 with 1 Axes>"
      ]
     },
     "metadata": {
      "needs_background": "light"
     },
     "output_type": "display_data"
    },
    {
     "data": {
      "image/png": "[encoded data removed]",
      "text/plain": [
       "<Figure size 288x288 with 1 Axes>"
      ]
     },
     "metadata": {},
     "output_type": "display_data"
    }
   ],
   "source": [
    "# --> b. Bar graph\n",
    "viz_df_4_a = pd_df_4.plot.bar(x= 'Hearing Condition',y= 'Number of Patients',rot = 0,\n",
    "                title = 'Patients with and without Hearing problem',\n",
    "                legend = False)\n",
    "                             \n",
    "\n",
    "# --> c. Pie Chart \n",
    "viz_df_4_b = pd_df_4.plot.pie(y= 'Percentage of Patients',\n",
    "               labels = ['Hearing problem','Normal'],\n",
    "                 autopct='%.2f',\n",
    "               figsize=(4, 4),\n",
    "                title = 'Patients with and without Hearing problem (%)',\n",
    "                legend = False)"
   ]
  },
  {
   "cell_type": "markdown",
   "metadata": {},
   "source": [
    "#### Step 3 :- Saving the solution as .csv file"
   ]
  },
  {
   "cell_type": "code",
   "execution_count": null,
   "metadata": {},
   "outputs": [],
   "source": [
    "filename_4 = \"/home/cloudera/Desktop/assignment/data_result_df/DF_4.csv\"\n",
    "pd_df_4.to_csv(filename_4, index = False, header = True)"
   ]
  },
  {
   "cell_type": "markdown",
   "metadata": {},
   "source": [
    "###  Statement 5 :- Average number of CT / MT / SC investigations performed on patients with hearing loss. (DF)\n",
    "\n",
    "#### 5.1 DATA ANALYSIS\n",
    "Approach adapted:-\n",
    "* Step1:- Inner join, condition on patient_id (hearing_evaluation and imaging).\n",
    "* Step2:- Number of investigation (CT, MR, SC) and Number of patients evaluated\n",
    "* Step3:- Investigation per patients\n",
    "* Step4:- Percentage investigation"
   ]
  },
  {
   "cell_type": "markdown",
   "metadata": {},
   "source": [
    "#### Step 1:-  Creating hearing and imaging join on patient_id "
   ]
  },
  {
   "cell_type": "code",
   "execution_count": 29,
   "metadata": {},
   "outputs": [
    {
     "name": "stdout",
     "output_type": "stream",
     "text": [
      "+----------+----------------+--------+\n",
      "|patient_id|     imaging_age|modality|\n",
      "+----------+----------------+--------+\n",
      "| 2PH8S1G0E|2.18704162718136|      CT|\n",
      "| 2PH8S1G0E|2.23442687701587|      CT|\n",
      "| 2PH8S1G0E|2.35489488460225|      CT|\n",
      "| 2PH8S1G0E|2.96538611244491|      CT|\n",
      "| 2PH8S1G0E|3.43083068721049|      CT|\n",
      "+----------+----------------+--------+\n",
      "only showing top 5 rows\n",
      "\n"
     ]
    }
   ],
   "source": [
    "hearing_imaging_df = hearing_problem_df.join(imaging_df,\n",
    "                                             [(hearing_problem_df.patient_id == imaging_df.patient_id)],\n",
    "                                             how = \"inner\").select(hearing_problem_df.patient_id, \n",
    "                                                                   imaging_df.imaging_age,imaging_df.modality)\n",
    "hearing_imaging_df.show(5)\n",
    "\n",
    "#---------- | Output | ----------------------------------\n",
    "# hearing_imaging_df = patient_id, imaging_age, modality\n",
    "# ......................................................"
   ]
  },
  {
   "cell_type": "markdown",
   "metadata": {},
   "source": [
    "#### Step 2:-  Calculation No. of investigation, CT/MR/SC , patients "
   ]
  },
  {
   "cell_type": "code",
   "execution_count": 30,
   "metadata": {},
   "outputs": [
    {
     "name": "stdout",
     "output_type": "stream",
     "text": [
      "No. of CTs to patients with hearing problem :- 813\n",
      "No. of MRs to patients with hearing problem :- 602\n",
      "No. of SCs to patients with hearing problem :- 3\n",
      "No. of investigations :- 1418\n",
      "Number of patients evaluated with hearing problem :- 460\n"
     ]
    }
   ],
   "source": [
    "# --> i. CT count\n",
    "CT_count = hearing_imaging_df.select('patient_id','modality').where('modality = \"CT\"').count()\n",
    "print 'No. of CTs to patients with hearing problem :-',CT_count\n",
    "\n",
    "# --> ii MR count\n",
    "MR_count = hearing_imaging_df.select('patient_id','modality').where('modality = \"MR\"').count()\n",
    "print 'No. of MRs to patients with hearing problem :-', MR_count\n",
    "\n",
    "# --> iii SC count\n",
    "SC_count = hearing_imaging_df.select('patient_id','modality').where('modality = \"SC\"').count()\n",
    "print 'No. of SCs to patients with hearing problem :-',SC_count\n",
    "\n",
    "# --> i.v Number of investigation \n",
    "Investigation_count = hearing_imaging_df.select('patient_id','modality').count()\n",
    "print 'No. of investigations :-', Investigation_count\n",
    "\n",
    "# --> v Number of patients \n",
    "Patients_count = hearing_imaging_df.select('patient_id').distinct().count()\n",
    "print 'Number of patients evaluated with hearing problem :-',Patients_count"
   ]
  },
  {
   "cell_type": "markdown",
   "metadata": {},
   "source": [
    "#### Step 3:-  Average investigation per patient"
   ]
  },
  {
   "cell_type": "code",
   "execution_count": 31,
   "metadata": {},
   "outputs": [
    {
     "name": "stdout",
     "output_type": "stream",
     "text": [
      "Average CT per patient :- 1.767\n",
      "Average MR per patient :- 1.309\n",
      "Average SC per patient :- 0.007\n"
     ]
    }
   ],
   "source": [
    "# --> i Average CT per patient \n",
    "CT_per_patient = round(float(CT_count)/float(Patients_count),3)\n",
    "print'Average CT per patient :-', CT_per_patient\n",
    "\n",
    "# --> ii Average MR per patient\n",
    "MR_per_patient = round(float(MR_count)/float(Patients_count),3)\n",
    "print 'Average MR per patient :-', MR_per_patient\n",
    "\n",
    "# --> iii Average SC per patient \n",
    "SC_per_patient = round(float(SC_count)/float(Patients_count),3)\n",
    "print 'Average SC per patient :-',SC_per_patient"
   ]
  },
  {
   "cell_type": "markdown",
   "metadata": {},
   "source": [
    "#### Step 4 :-  Percentage of investigation "
   ]
  },
  {
   "cell_type": "code",
   "execution_count": 32,
   "metadata": {},
   "outputs": [
    {
     "name": "stdout",
     "output_type": "stream",
     "text": [
      "Percentage of CT :- 57.33\n",
      "Percentage of MR :- 42.45\n",
      "Percentage of SC :- 0.21\n"
     ]
    }
   ],
   "source": [
    "# Percentage of CT \n",
    "CT_percentage = round(float(CT_count)/float(Investigation_count)*100,2)\n",
    "print 'Percentage of CT :-',CT_percentage\n",
    "\n",
    "# Percentage of MR\n",
    "MR_percentage = round(float(MR_count)/float(Investigation_count)*100,2)\n",
    "print 'Percentage of MR :-', MR_percentage\n",
    "\n",
    "# Percentage of SC\n",
    "SC_percentage = round(float(SC_count)/float(Investigation_count)*100,2)\n",
    "print 'Percentage of SC :-', SC_percentage"
   ]
  },
  {
   "cell_type": "markdown",
   "metadata": {},
   "source": [
    "#### 5.2 DATA VISUALISATION\n",
    "Approach: \n",
    "* Step 1:-Creating pandas dataframe\n",
    "* Step 2:-Plotting from pandas dataframe\n",
    "* Step 3:-Saving the solutions in pandas df to csv file"
   ]
  },
  {
   "cell_type": "markdown",
   "metadata": {},
   "source": [
    "#### Step 1:- Creating pandas dataframe from spark dataframe"
   ]
  },
  {
   "cell_type": "code",
   "execution_count": 33,
   "metadata": {},
   "outputs": [
    {
     "data": {
      "text/html": [
       "<div>\n",
       "<style scoped>\n",
       "    .dataframe tbody tr th:only-of-type {\n",
       "        vertical-align: middle;\n",
       "    }\n",
       "\n",
       "    .dataframe tbody tr th {\n",
       "        vertical-align: top;\n",
       "    }\n",
       "\n",
       "    .dataframe thead th {\n",
       "        text-align: right;\n",
       "    }\n",
       "</style>\n",
       "<table border=\"1\" class=\"dataframe\">\n",
       "  <thead>\n",
       "    <tr style=\"text-align: right;\">\n",
       "      <th></th>\n",
       "      <th>Average_per_patient</th>\n",
       "      <th>Count</th>\n",
       "      <th>Evaluation</th>\n",
       "      <th>Percentage</th>\n",
       "    </tr>\n",
       "  </thead>\n",
       "  <tbody>\n",
       "    <tr>\n",
       "      <th>0</th>\n",
       "      <td>1.767</td>\n",
       "      <td>813</td>\n",
       "      <td>CT</td>\n",
       "      <td>57.33</td>\n",
       "    </tr>\n",
       "    <tr>\n",
       "      <th>1</th>\n",
       "      <td>1.309</td>\n",
       "      <td>602</td>\n",
       "      <td>MR</td>\n",
       "      <td>42.45</td>\n",
       "    </tr>\n",
       "    <tr>\n",
       "      <th>2</th>\n",
       "      <td>0.007</td>\n",
       "      <td>3</td>\n",
       "      <td>SC</td>\n",
       "      <td>0.21</td>\n",
       "    </tr>\n",
       "  </tbody>\n",
       "</table>\n",
       "</div>"
      ],
      "text/plain": [
       "   Average_per_patient  Count Evaluation  Percentage\n",
       "0                1.767    813         CT       57.33\n",
       "1                1.309    602         MR       42.45\n",
       "2                0.007      3         SC        0.21"
      ]
     },
     "execution_count": 33,
     "metadata": {},
     "output_type": "execute_result"
    }
   ],
   "source": [
    "pd_df_5 = pd.DataFrame({'Evaluation':['CT','MR','SC'],\n",
    "                    'Count':[CT_count,MR_count,SC_count],\n",
    "                      'Average_per_patient': [CT_per_patient,\n",
    "                                                   MR_per_patient,\n",
    "                                                   SC_per_patient],\n",
    "                      'Percentage':[CT_percentage, MR_percentage, SC_percentage]})\n",
    "pd_df_5"
   ]
  },
  {
   "cell_type": "markdown",
   "metadata": {},
   "source": [
    "#### Step 2 :- Visualisation"
   ]
  },
  {
   "cell_type": "code",
   "execution_count": 34,
   "metadata": {},
   "outputs": [
    {
     "data": {
      "text/plain": [
       "<matplotlib.axes._subplots.AxesSubplot at 0x7f38944668d0>"
      ]
     },
     "execution_count": 34,
     "metadata": {},
     "output_type": "execute_result"
    },
    {
     "data": {
      "image/png": "[encoded data removed]",
      "text/plain": [
       "<Figure size 432x288 with 1 Axes>"
      ]
     },
     "metadata": {
      "needs_background": "light"
     },
     "output_type": "display_data"
    },
    {
     "data": {
      "image/png": "[encoded data removed]",
      "text/plain": [
       "<Figure size 288x288 with 1 Axes>"
      ]
     },
     "metadata": {},
     "output_type": "display_data"
    }
   ],
   "source": [
    "# --> b Ploting Bar chart\n",
    "pd_df_5.plot.bar(x= 'Evaluation',y= 'Average_per_patient',rot = 0, \n",
    "               legend = False,\n",
    "                title = 'Average of Investigation per patient'\n",
    "                )\n",
    "\n",
    "\n",
    "# --> c Ploting pie chart\n",
    "pd_df_5.plot.pie(y= 'Percentage', figsize=(4,4),\n",
    "               autopct='%.2f', legend = False,\n",
    "               labels = ['CT','MR','SC'],\n",
    "                title = 'Percenatge of investigation encounter (%)')"
   ]
  },
  {
   "cell_type": "markdown",
   "metadata": {},
   "source": [
    "#### Step 3 :- Saving the solution as .csv file"
   ]
  },
  {
   "cell_type": "code",
   "execution_count": null,
   "metadata": {},
   "outputs": [],
   "source": [
    "filename_5 = \"/home/cloudera/Desktop/assignment/data_result_df/DF_5.csv\"\n",
    "pd_df_5.to_csv(filename_5, index = False, header = True)"
   ]
  },
  {
   "cell_type": "markdown",
   "metadata": {},
   "source": [
    "###  Statement 6 :- The client would like to know the year group (i.e. you will need to group the ages of encounter into years) which is given the greatest number of CTs. (DF)\n",
    "\n",
    "#### 6.1 DATA ANALYSIS\n",
    "Approach adapted:-\n",
    "* Step1:- Filtering the dataframe to retain only CT\n",
    "* Step2:- Dropping duplicates\n",
    "* Step3:- Convert the age from decimal to int. -> float age -> int age.\n",
    "* Step2:- Select only patient_id and \n",
    "* Step3:- Sorting by year group in Ascending order\n"
   ]
  },
  {
   "cell_type": "code",
   "execution_count": 35,
   "metadata": {},
   "outputs": [],
   "source": [
    "import pyspark.sql.functions as func"
   ]
  },
  {
   "cell_type": "markdown",
   "metadata": {},
   "source": [
    "#### Step 1:- Filtering to retain only 'CT'"
   ]
  },
  {
   "cell_type": "code",
   "execution_count": 36,
   "metadata": {},
   "outputs": [],
   "source": [
    "imaging_CT_df = imaging_df.where('modality = \"CT\"')"
   ]
  },
  {
   "cell_type": "markdown",
   "metadata": {},
   "source": [
    "#### Step 2 :- Drop Duplicates\n",
    "The intenstion was to not account for a patient that has been evaluated at the same time with CT.\n",
    "However the duplicates is not present in tha table since the presence of primary key ('patient_id','imaging_age','modality') doesnot allow duplicates.\n",
    "This is a validation check on dataframe since dropping of duplicates is a straightforward syntax in DF"
   ]
  },
  {
   "cell_type": "code",
   "execution_count": 37,
   "metadata": {},
   "outputs": [],
   "source": [
    "imagingCT_noDuplicates = imaging_CT_df.dropDuplicates()"
   ]
  },
  {
   "cell_type": "markdown",
   "metadata": {},
   "source": [
    "VALIDATION"
   ]
  },
  {
   "cell_type": "code",
   "execution_count": 38,
   "metadata": {},
   "outputs": [
    {
     "name": "stdout",
     "output_type": "stream",
     "text": [
      "Without dropping the duplicates 1911\n",
      "With dropping the duplicates 1911\n"
     ]
    }
   ],
   "source": [
    "print 'Without dropping the duplicates',imaging_CT_df.count()\n",
    "print 'With dropping the duplicates',imagingCT_noDuplicates.count()"
   ]
  },
  {
   "cell_type": "markdown",
   "metadata": {},
   "source": [
    "#### Step 3:- Converting age to int"
   ]
  },
  {
   "cell_type": "code",
   "execution_count": 39,
   "metadata": {},
   "outputs": [],
   "source": [
    "imaging_CTyeargroup_df = imagingCT_noDuplicates.withColumn(\"Year_group\", imaging_df.imaging_age.cast('int'))\n",
    "imaging_ct_records = imaging_CTyeargroup_df.count()"
   ]
  },
  {
   "cell_type": "markdown",
   "metadata": {},
   "source": [
    "#### Step 5:- Select only patient_id and imaging_age"
   ]
  },
  {
   "cell_type": "code",
   "execution_count": 40,
   "metadata": {},
   "outputs": [],
   "source": [
    "imaging_yeargroup_CT_count = imaging_CTyeargroup_df.select('Year_group','modality').groupby('Year_group').count().sort(col(\"count\").desc())\n",
    "#imaging_yeargroup_CT_count.show(5)  # --> [year_group, modality_count]  \n",
    "#CT_count = imaging_yeargroup_df.select('Year_group','modality').where('modality = \"CT\"').count()"
   ]
  },
  {
   "cell_type": "markdown",
   "metadata": {},
   "source": [
    "#### Step 6:-Sorting by year group"
   ]
  },
  {
   "cell_type": "code",
   "execution_count": 41,
   "metadata": {},
   "outputs": [
    {
     "name": "stdout",
     "output_type": "stream",
     "text": [
      "+----------+-----+\n",
      "|Year_group|count|\n",
      "+----------+-----+\n",
      "|         0|  160|\n",
      "|         1|   94|\n",
      "|         2|  213|\n",
      "|         3|  210|\n",
      "|         4|   81|\n",
      "+----------+-----+\n",
      "only showing top 5 rows\n",
      "\n"
     ]
    }
   ],
   "source": [
    "df_6 = imaging_yeargroup_CT_count.sort(col(\"Year_group\"))\n",
    "df_6.show(5)  # --> [year_group, modality_count]"
   ]
  },
  {
   "cell_type": "markdown",
   "metadata": {},
   "source": [
    "#### 6.2 DATA VISUALISATION\n",
    "Approach: \n",
    "* Step 1:-Creating pandas dataframe\n",
    "* Step 2:-Plotting from pandas dataframe (line graph)\n",
    "* Step 3:-Saving the solutions in pandas df to csv file"
   ]
  },
  {
   "cell_type": "markdown",
   "metadata": {},
   "source": [
    "#### Step 1:- Creating Pandas Dataframe"
   ]
  },
  {
   "cell_type": "code",
   "execution_count": 42,
   "metadata": {},
   "outputs": [
    {
     "data": {
      "text/html": [
       "<div>\n",
       "<style scoped>\n",
       "    .dataframe tbody tr th:only-of-type {\n",
       "        vertical-align: middle;\n",
       "    }\n",
       "\n",
       "    .dataframe tbody tr th {\n",
       "        vertical-align: top;\n",
       "    }\n",
       "\n",
       "    .dataframe thead th {\n",
       "        text-align: right;\n",
       "    }\n",
       "</style>\n",
       "<table border=\"1\" class=\"dataframe\">\n",
       "  <thead>\n",
       "    <tr style=\"text-align: right;\">\n",
       "      <th></th>\n",
       "      <th>Year_group</th>\n",
       "      <th>count</th>\n",
       "    </tr>\n",
       "  </thead>\n",
       "  <tbody>\n",
       "    <tr>\n",
       "      <th>0</th>\n",
       "      <td>0</td>\n",
       "      <td>160</td>\n",
       "    </tr>\n",
       "    <tr>\n",
       "      <th>1</th>\n",
       "      <td>1</td>\n",
       "      <td>94</td>\n",
       "    </tr>\n",
       "    <tr>\n",
       "      <th>2</th>\n",
       "      <td>2</td>\n",
       "      <td>213</td>\n",
       "    </tr>\n",
       "    <tr>\n",
       "      <th>3</th>\n",
       "      <td>3</td>\n",
       "      <td>210</td>\n",
       "    </tr>\n",
       "    <tr>\n",
       "      <th>4</th>\n",
       "      <td>4</td>\n",
       "      <td>81</td>\n",
       "    </tr>\n",
       "    <tr>\n",
       "      <th>5</th>\n",
       "      <td>5</td>\n",
       "      <td>202</td>\n",
       "    </tr>\n",
       "    <tr>\n",
       "      <th>6</th>\n",
       "      <td>6</td>\n",
       "      <td>66</td>\n",
       "    </tr>\n",
       "    <tr>\n",
       "      <th>7</th>\n",
       "      <td>7</td>\n",
       "      <td>115</td>\n",
       "    </tr>\n",
       "    <tr>\n",
       "      <th>8</th>\n",
       "      <td>8</td>\n",
       "      <td>119</td>\n",
       "    </tr>\n",
       "    <tr>\n",
       "      <th>9</th>\n",
       "      <td>9</td>\n",
       "      <td>95</td>\n",
       "    </tr>\n",
       "    <tr>\n",
       "      <th>10</th>\n",
       "      <td>10</td>\n",
       "      <td>100</td>\n",
       "    </tr>\n",
       "    <tr>\n",
       "      <th>11</th>\n",
       "      <td>11</td>\n",
       "      <td>68</td>\n",
       "    </tr>\n",
       "    <tr>\n",
       "      <th>12</th>\n",
       "      <td>12</td>\n",
       "      <td>76</td>\n",
       "    </tr>\n",
       "    <tr>\n",
       "      <th>13</th>\n",
       "      <td>13</td>\n",
       "      <td>84</td>\n",
       "    </tr>\n",
       "    <tr>\n",
       "      <th>14</th>\n",
       "      <td>14</td>\n",
       "      <td>56</td>\n",
       "    </tr>\n",
       "    <tr>\n",
       "      <th>15</th>\n",
       "      <td>15</td>\n",
       "      <td>39</td>\n",
       "    </tr>\n",
       "    <tr>\n",
       "      <th>16</th>\n",
       "      <td>16</td>\n",
       "      <td>50</td>\n",
       "    </tr>\n",
       "    <tr>\n",
       "      <th>17</th>\n",
       "      <td>17</td>\n",
       "      <td>39</td>\n",
       "    </tr>\n",
       "    <tr>\n",
       "      <th>18</th>\n",
       "      <td>18</td>\n",
       "      <td>17</td>\n",
       "    </tr>\n",
       "    <tr>\n",
       "      <th>19</th>\n",
       "      <td>19</td>\n",
       "      <td>10</td>\n",
       "    </tr>\n",
       "    <tr>\n",
       "      <th>20</th>\n",
       "      <td>20</td>\n",
       "      <td>7</td>\n",
       "    </tr>\n",
       "    <tr>\n",
       "      <th>21</th>\n",
       "      <td>21</td>\n",
       "      <td>1</td>\n",
       "    </tr>\n",
       "    <tr>\n",
       "      <th>22</th>\n",
       "      <td>22</td>\n",
       "      <td>5</td>\n",
       "    </tr>\n",
       "    <tr>\n",
       "      <th>23</th>\n",
       "      <td>25</td>\n",
       "      <td>3</td>\n",
       "    </tr>\n",
       "    <tr>\n",
       "      <th>24</th>\n",
       "      <td>26</td>\n",
       "      <td>1</td>\n",
       "    </tr>\n",
       "  </tbody>\n",
       "</table>\n",
       "</div>"
      ],
      "text/plain": [
       "    Year_group  count\n",
       "0            0    160\n",
       "1            1     94\n",
       "2            2    213\n",
       "3            3    210\n",
       "4            4     81\n",
       "5            5    202\n",
       "6            6     66\n",
       "7            7    115\n",
       "8            8    119\n",
       "9            9     95\n",
       "10          10    100\n",
       "11          11     68\n",
       "12          12     76\n",
       "13          13     84\n",
       "14          14     56\n",
       "15          15     39\n",
       "16          16     50\n",
       "17          17     39\n",
       "18          18     17\n",
       "19          19     10\n",
       "20          20      7\n",
       "21          21      1\n",
       "22          22      5\n",
       "23          25      3\n",
       "24          26      1"
      ]
     },
     "execution_count": 42,
     "metadata": {},
     "output_type": "execute_result"
    }
   ],
   "source": [
    "pd_df_6 = df_6.toPandas()\n",
    "pd_df_6"
   ]
  },
  {
   "cell_type": "markdown",
   "metadata": {},
   "source": [
    "#### Step 2:-  Plot line chart"
   ]
  },
  {
   "cell_type": "code",
   "execution_count": 43,
   "metadata": {},
   "outputs": [
    {
     "data": {
      "text/plain": [
       "<matplotlib.axes._subplots.AxesSubplot at 0x7f388fff2850>"
      ]
     },
     "execution_count": 43,
     "metadata": {},
     "output_type": "execute_result"
    },
    {
     "data": {
      "image/png": "[encoded data removed]",
      "text/plain": [
       "<Figure size 432x288 with 1 Axes>"
      ]
     },
     "metadata": {
      "needs_background": "light"
     },
     "output_type": "display_data"
    }
   ],
   "source": [
    "viz_6 = pd_df_6.plot(\n",
    "    x='Year_group', linestyle='-', marker='o',\n",
    "    figsize = (6,4),\n",
    "    title = 'Number of CT investigations with year_group')\n",
    "viz_6"
   ]
  },
  {
   "cell_type": "markdown",
   "metadata": {},
   "source": [
    "#### Step 3 :-  Saving the solution as .csv file"
   ]
  },
  {
   "cell_type": "code",
   "execution_count": 44,
   "metadata": {},
   "outputs": [],
   "source": [
    "filename_6 = \"/home/cloudera/Desktop/assignment/data_result_df/DF_6.csv\"\n",
    "pd_df_6.to_csv(filename_6, index = False, header = True)"
   ]
  },
  {
   "cell_type": "code",
   "execution_count": 45,
   "metadata": {},
   "outputs": [
    {
     "data": {
      "text/html": [
       "<div>\n",
       "<style scoped>\n",
       "    .dataframe tbody tr th:only-of-type {\n",
       "        vertical-align: middle;\n",
       "    }\n",
       "\n",
       "    .dataframe tbody tr th {\n",
       "        vertical-align: top;\n",
       "    }\n",
       "\n",
       "    .dataframe thead th {\n",
       "        text-align: right;\n",
       "    }\n",
       "</style>\n",
       "<table border=\"1\" class=\"dataframe\">\n",
       "  <thead>\n",
       "    <tr style=\"text-align: right;\">\n",
       "      <th></th>\n",
       "      <th>type</th>\n",
       "      <th>count</th>\n",
       "      <th>names</th>\n",
       "    </tr>\n",
       "  </thead>\n",
       "  <tbody>\n",
       "    <tr>\n",
       "      <th>0</th>\n",
       "      <td>double</td>\n",
       "      <td>1</td>\n",
       "      <td>imaging_age</td>\n",
       "    </tr>\n",
       "    <tr>\n",
       "      <th>1</th>\n",
       "      <td>string</td>\n",
       "      <td>2</td>\n",
       "      <td>modality | patient_id</td>\n",
       "    </tr>\n",
       "  </tbody>\n",
       "</table>\n",
       "</div>"
      ],
      "text/plain": [
       "     type  count                  names\n",
       "0  double  1      imaging_age          \n",
       "1  string  2      modality | patient_id"
      ]
     },
     "execution_count": 45,
     "metadata": {},
     "output_type": "execute_result"
    }
   ],
   "source": [
    "#===========================================================\n",
    "# To check the datatype of each column \n",
    "# https://stackoverflow.com/questions/45033315/get-datatype-of-column-using-pyspark\n",
    "#===========================================================\n",
    "import pandas as pd\n",
    "pd.set_option('max_colwidth', -1) # to prevent truncating of columns in jupyter\n",
    "\n",
    "def count_column_types(spark_df):\n",
    "    \"\"\"Count number of columns per type\"\"\"\n",
    "    return pd.DataFrame(spark_df.dtypes).groupby(1, as_index=False)[0].agg({'count':'count', 'names': lambda x: \" | \".join(set(x))}).rename(columns={1:\"type\"})\n",
    "\n",
    "count_column_types(imaging_df)"
   ]
  },
  {
   "cell_type": "markdown",
   "metadata": {},
   "source": [
    "###  Statement 7 :- For each year group, the client would like to visualize the most frequent diagnosis code (with its frequency). (DF)\n",
    "\n",
    "#### 7.1 DATA ANALYSIS\n",
    "Approach adapted:-\n",
    "* Step1:- Convert the age from decimal to int.\n",
    "* Step2:- Finding diagnosis_code count for each diagnosis_code and year_age ( df_a) \n",
    "* Step3:- Finding maximum code count for each year group (df_b).\n",
    "* Step4:- Inner join (df_a) and (df_b) where code_count = max_code_count & year_group = year_group\n",
    "--> [Year_group, diagnosis_code, mx_count]"
   ]
  },
  {
   "cell_type": "code",
   "execution_count": 46,
   "metadata": {},
   "outputs": [],
   "source": [
    "import pyspark.sql.functions as F\n",
    "from pyspark.sql.functions import count, col\n",
    "from pyspark.sql import Row"
   ]
  },
  {
   "cell_type": "markdown",
   "metadata": {},
   "source": [
    "#### Step 1:- Converting the age from decimal to int"
   ]
  },
  {
   "cell_type": "code",
   "execution_count": 47,
   "metadata": {},
   "outputs": [
    {
     "name": "stdout",
     "output_type": "stream",
     "text": [
      "+----------+--------------+----------------+----------+\n",
      "|patient_id|diagnosis_code|   diagnosis_age|Year_group|\n",
      "+----------+--------------+----------------+----------+\n",
      "| 00008RINR|    315.320000|2.18430371791803|         2|\n",
      "| 00008RINR|    315.320000|2.80033330216659|         2|\n",
      "| 00008RINR|    315.320000| 2.8222365762732|         2|\n",
      "| 00008RINR|    315.320000|5.64822705794013|         5|\n",
      "| 00008RINR|    315.320000|5.68655778752176|         5|\n",
      "+----------+--------------+----------------+----------+\n",
      "only showing top 5 rows\n",
      "\n"
     ]
    }
   ],
   "source": [
    "df_7_1 = diagnoses_df.withColumn(\"Year_group\", diagnoses_df.diagnosis_age.cast('int'))\n",
    "df_7_1.show(5)"
   ]
  },
  {
   "cell_type": "markdown",
   "metadata": {},
   "source": [
    "#### Step 2:-  Counting the diagnosis_code for each age group and diagnosis_code"
   ]
  },
  {
   "cell_type": "code",
   "execution_count": 48,
   "metadata": {},
   "outputs": [
    {
     "name": "stdout",
     "output_type": "stream",
     "text": [
      "+--------------+----------+----------+\n",
      "|diagnosis_code|Year_group|code_count|\n",
      "+--------------+----------+----------+\n",
      "|    381.700000|        85|         6|\n",
      "|        H69.00|        85|         6|\n",
      "|        H66.90|        85|         4|\n",
      "|    382.900000|        85|         4|\n",
      "|         H90.6|        85|         3|\n",
      "+--------------+----------+----------+\n",
      "only showing top 5 rows\n",
      "\n"
     ]
    }
   ],
   "source": [
    "df_7_2 = df_7_1.groupby('diagnosis_code','Year_group').agg(count('diagnosis_code').alias(\"code_count\")).orderBy(col('Year_group').desc(),col('code_count').desc())\n",
    "df_7_2.show(5)"
   ]
  },
  {
   "cell_type": "markdown",
   "metadata": {},
   "source": [
    "#### Step 3:- Selecting Year_group and code count"
   ]
  },
  {
   "cell_type": "code",
   "execution_count": 49,
   "metadata": {},
   "outputs": [
    {
     "name": "stdout",
     "output_type": "stream",
     "text": [
      "+----------+----------+\n",
      "|Year_group|code_count|\n",
      "+----------+----------+\n",
      "|        85|         6|\n",
      "|        85|         6|\n",
      "|        85|         4|\n",
      "|        85|         4|\n",
      "|        85|         3|\n",
      "+----------+----------+\n",
      "only showing top 5 rows\n",
      "\n"
     ]
    }
   ],
   "source": [
    "df_7_3 = df_7_2.select('Year_group','code_count')\n",
    "df_7_3.show(5)"
   ]
  },
  {
   "cell_type": "markdown",
   "metadata": {},
   "source": [
    "#### Step 4 :- Finding maximum code count for each year_group\n",
    "*      a. Output as RDD\n",
    "*      b. Converting from RDD to Dataframe"
   ]
  },
  {
   "cell_type": "code",
   "execution_count": 50,
   "metadata": {},
   "outputs": [
    {
     "name": "stdout",
     "output_type": "stream",
     "text": [
      "+----------+----------------------------+\n",
      "|Year_group|max_code_count_by_Year_group|\n",
      "+----------+----------------------------+\n",
      "|         0|                      148071|\n",
      "|         2|                       72800|\n",
      "|         1|                       54298|\n",
      "|         3|                       48738|\n",
      "|         5|                       40079|\n",
      "+----------+----------------------------+\n",
      "only showing top 5 rows\n",
      "\n"
     ]
    }
   ],
   "source": [
    "RDD_7_1 = df_7_3.groupby('Year_group').max('code_count').withColumnRenamed('max(code_count)', 'max_code_count_by_Year_group').sort(col(\"max_code_count_by_Year_group\").desc())\n",
    "#RDD_7_1.take(10)\n",
    "\n",
    "df_7_4 = RDD_7_1.toDF('Year_group','max_code_count_by_Year_group')\n",
    "df_7_4.show(5)"
   ]
  },
  {
   "cell_type": "markdown",
   "metadata": {},
   "source": [
    "#### Step 5 :-  Inner join (condition: year_group and code_count)\n",
    "NOTES\n",
    " * There are many negative year_groups, which might refer to evaluation been done when the patient\n",
    " is in the whomb of the mother. However, further investigation must be conducted to understand \n",
    " its true meaning. For analysis and visualisation, the negative ages have been filtered out.\n"
   ]
  },
  {
   "cell_type": "code",
   "execution_count": 51,
   "metadata": {},
   "outputs": [
    {
     "name": "stdout",
     "output_type": "stream",
     "text": [
      "+--------------+----------+----------+\n",
      "|diagnosis_code|Year_group|code_count|\n",
      "+--------------+----------+----------+\n",
      "|         V20.2|         0|    148071|\n",
      "|         V20.2|         1|     54298|\n",
      "|    382.900000|         2|     72800|\n",
      "|         V20.2|         3|     48738|\n",
      "|    382.900000|         4|     12547|\n",
      "+--------------+----------+----------+\n",
      "only showing top 5 rows\n",
      "\n"
     ]
    }
   ],
   "source": [
    "df_7_5 = df_7_4.join(df_7_2,[(df_7_4.Year_group == df_7_2.Year_group) & (df_7_4.max_code_count_by_Year_group == df_7_2.code_count)], how = \"inner\").drop(df_7_4.Year_group).orderBy(col('Year_group'),col('code_count').desc())\n",
    "RDD_7_2 = df_7_5.drop(df_7_5.max_code_count_by_Year_group).where('Year_group >= 0')\n",
    "df_7_6 = RDD_7_2.toDF('diagnosis_code','Year_group','code_count')\n",
    "df_7_6.show(5)"
   ]
  },
  {
   "cell_type": "markdown",
   "metadata": {},
   "source": [
    "#### 7.2 DATA VISUALISATION\n",
    "Approach: \n",
    "* Step 1:-Creating pandas dataframe\n",
    "* Step 2:-Plotting from pandas dataframe\n",
    "* Step 3:-Saving the solutions in pandas df to csv file\n",
    "* Step 4:-Plotting the bar graphs using multiple age range "
   ]
  },
  {
   "cell_type": "code",
   "execution_count": 52,
   "metadata": {},
   "outputs": [],
   "source": [
    "import seaborn as sns\n",
    "import matplotlib.pyplot as plt\n",
    "import seaborn as sns\n",
    "import numpy as np"
   ]
  },
  {
   "cell_type": "markdown",
   "metadata": {},
   "source": [
    "#### Step 1:- Converting the existing spark df to pandas df"
   ]
  },
  {
   "cell_type": "code",
   "execution_count": 53,
   "metadata": {},
   "outputs": [
    {
     "data": {
      "text/html": [
       "<div>\n",
       "<style scoped>\n",
       "    .dataframe tbody tr th:only-of-type {\n",
       "        vertical-align: middle;\n",
       "    }\n",
       "\n",
       "    .dataframe tbody tr th {\n",
       "        vertical-align: top;\n",
       "    }\n",
       "\n",
       "    .dataframe thead th {\n",
       "        text-align: right;\n",
       "    }\n",
       "</style>\n",
       "<table border=\"1\" class=\"dataframe\">\n",
       "  <thead>\n",
       "    <tr style=\"text-align: right;\">\n",
       "      <th></th>\n",
       "      <th>diagnosis_code</th>\n",
       "      <th>Year_group</th>\n",
       "      <th>code_count</th>\n",
       "    </tr>\n",
       "  </thead>\n",
       "  <tbody>\n",
       "    <tr>\n",
       "      <th>0</th>\n",
       "      <td>V20.2</td>\n",
       "      <td>0</td>\n",
       "      <td>148071</td>\n",
       "    </tr>\n",
       "    <tr>\n",
       "      <th>1</th>\n",
       "      <td>V20.2</td>\n",
       "      <td>1</td>\n",
       "      <td>54298</td>\n",
       "    </tr>\n",
       "    <tr>\n",
       "      <th>2</th>\n",
       "      <td>382.900000</td>\n",
       "      <td>2</td>\n",
       "      <td>72800</td>\n",
       "    </tr>\n",
       "    <tr>\n",
       "      <th>3</th>\n",
       "      <td>V20.2</td>\n",
       "      <td>3</td>\n",
       "      <td>48738</td>\n",
       "    </tr>\n",
       "    <tr>\n",
       "      <th>4</th>\n",
       "      <td>382.900000</td>\n",
       "      <td>4</td>\n",
       "      <td>12547</td>\n",
       "    </tr>\n",
       "    <tr>\n",
       "      <th>5</th>\n",
       "      <td>V20.2</td>\n",
       "      <td>5</td>\n",
       "      <td>40079</td>\n",
       "    </tr>\n",
       "    <tr>\n",
       "      <th>6</th>\n",
       "      <td>381.810000</td>\n",
       "      <td>6</td>\n",
       "      <td>7526</td>\n",
       "    </tr>\n",
       "    <tr>\n",
       "      <th>7</th>\n",
       "      <td>V20.2</td>\n",
       "      <td>7</td>\n",
       "      <td>17284</td>\n",
       "    </tr>\n",
       "    <tr>\n",
       "      <th>8</th>\n",
       "      <td>V20.2</td>\n",
       "      <td>8</td>\n",
       "      <td>17314</td>\n",
       "    </tr>\n",
       "    <tr>\n",
       "      <th>9</th>\n",
       "      <td>V20.2</td>\n",
       "      <td>9</td>\n",
       "      <td>14998</td>\n",
       "    </tr>\n",
       "    <tr>\n",
       "      <th>10</th>\n",
       "      <td>V20.2</td>\n",
       "      <td>10</td>\n",
       "      <td>10611</td>\n",
       "    </tr>\n",
       "    <tr>\n",
       "      <th>11</th>\n",
       "      <td>V20.2</td>\n",
       "      <td>11</td>\n",
       "      <td>10563</td>\n",
       "    </tr>\n",
       "    <tr>\n",
       "      <th>12</th>\n",
       "      <td>V20.2</td>\n",
       "      <td>12</td>\n",
       "      <td>9960</td>\n",
       "    </tr>\n",
       "    <tr>\n",
       "      <th>13</th>\n",
       "      <td>V20.2</td>\n",
       "      <td>13</td>\n",
       "      <td>8213</td>\n",
       "    </tr>\n",
       "    <tr>\n",
       "      <th>14</th>\n",
       "      <td>V20.2</td>\n",
       "      <td>14</td>\n",
       "      <td>4170</td>\n",
       "    </tr>\n",
       "    <tr>\n",
       "      <th>15</th>\n",
       "      <td>V20.2</td>\n",
       "      <td>15</td>\n",
       "      <td>2123</td>\n",
       "    </tr>\n",
       "    <tr>\n",
       "      <th>16</th>\n",
       "      <td>V20.2</td>\n",
       "      <td>16</td>\n",
       "      <td>2759</td>\n",
       "    </tr>\n",
       "    <tr>\n",
       "      <th>17</th>\n",
       "      <td>V20.2</td>\n",
       "      <td>17</td>\n",
       "      <td>2615</td>\n",
       "    </tr>\n",
       "    <tr>\n",
       "      <th>18</th>\n",
       "      <td>389.180000</td>\n",
       "      <td>18</td>\n",
       "      <td>1506</td>\n",
       "    </tr>\n",
       "    <tr>\n",
       "      <th>19</th>\n",
       "      <td>277.000000</td>\n",
       "      <td>19</td>\n",
       "      <td>1245</td>\n",
       "    </tr>\n",
       "    <tr>\n",
       "      <th>20</th>\n",
       "      <td>389.180000</td>\n",
       "      <td>20</td>\n",
       "      <td>646</td>\n",
       "    </tr>\n",
       "    <tr>\n",
       "      <th>21</th>\n",
       "      <td>277.000000</td>\n",
       "      <td>21</td>\n",
       "      <td>388</td>\n",
       "    </tr>\n",
       "    <tr>\n",
       "      <th>22</th>\n",
       "      <td>277.000000</td>\n",
       "      <td>22</td>\n",
       "      <td>747</td>\n",
       "    </tr>\n",
       "    <tr>\n",
       "      <th>23</th>\n",
       "      <td>277.020000</td>\n",
       "      <td>23</td>\n",
       "      <td>527</td>\n",
       "    </tr>\n",
       "    <tr>\n",
       "      <th>24</th>\n",
       "      <td>277.020000</td>\n",
       "      <td>24</td>\n",
       "      <td>482</td>\n",
       "    </tr>\n",
       "    <tr>\n",
       "      <th>25</th>\n",
       "      <td>E84.0</td>\n",
       "      <td>25</td>\n",
       "      <td>221</td>\n",
       "    </tr>\n",
       "    <tr>\n",
       "      <th>26</th>\n",
       "      <td>E84.0</td>\n",
       "      <td>26</td>\n",
       "      <td>258</td>\n",
       "    </tr>\n",
       "    <tr>\n",
       "      <th>27</th>\n",
       "      <td>E84.0</td>\n",
       "      <td>27</td>\n",
       "      <td>346</td>\n",
       "    </tr>\n",
       "    <tr>\n",
       "      <th>28</th>\n",
       "      <td>277.000000</td>\n",
       "      <td>28</td>\n",
       "      <td>224</td>\n",
       "    </tr>\n",
       "    <tr>\n",
       "      <th>29</th>\n",
       "      <td>277.000000</td>\n",
       "      <td>29</td>\n",
       "      <td>140</td>\n",
       "    </tr>\n",
       "    <tr>\n",
       "      <th>...</th>\n",
       "      <td>...</td>\n",
       "      <td>...</td>\n",
       "      <td>...</td>\n",
       "    </tr>\n",
       "    <tr>\n",
       "      <th>101</th>\n",
       "      <td>381.700000</td>\n",
       "      <td>74</td>\n",
       "      <td>2</td>\n",
       "    </tr>\n",
       "    <tr>\n",
       "      <th>102</th>\n",
       "      <td>388.400000</td>\n",
       "      <td>74</td>\n",
       "      <td>2</td>\n",
       "    </tr>\n",
       "    <tr>\n",
       "      <th>103</th>\n",
       "      <td>H69.00</td>\n",
       "      <td>74</td>\n",
       "      <td>2</td>\n",
       "    </tr>\n",
       "    <tr>\n",
       "      <th>104</th>\n",
       "      <td>H61.22</td>\n",
       "      <td>74</td>\n",
       "      <td>2</td>\n",
       "    </tr>\n",
       "    <tr>\n",
       "      <th>105</th>\n",
       "      <td>H90.3</td>\n",
       "      <td>74</td>\n",
       "      <td>2</td>\n",
       "    </tr>\n",
       "    <tr>\n",
       "      <th>106</th>\n",
       "      <td>H93.292</td>\n",
       "      <td>74</td>\n",
       "      <td>2</td>\n",
       "    </tr>\n",
       "    <tr>\n",
       "      <th>107</th>\n",
       "      <td>H69.02</td>\n",
       "      <td>74</td>\n",
       "      <td>2</td>\n",
       "    </tr>\n",
       "    <tr>\n",
       "      <th>108</th>\n",
       "      <td>362.740000</td>\n",
       "      <td>75</td>\n",
       "      <td>2</td>\n",
       "    </tr>\n",
       "    <tr>\n",
       "      <th>109</th>\n",
       "      <td>H35.52</td>\n",
       "      <td>75</td>\n",
       "      <td>2</td>\n",
       "    </tr>\n",
       "    <tr>\n",
       "      <th>110</th>\n",
       "      <td>Z87.898</td>\n",
       "      <td>75</td>\n",
       "      <td>2</td>\n",
       "    </tr>\n",
       "    <tr>\n",
       "      <th>111</th>\n",
       "      <td>381.700000</td>\n",
       "      <td>75</td>\n",
       "      <td>2</td>\n",
       "    </tr>\n",
       "    <tr>\n",
       "      <th>112</th>\n",
       "      <td>H90.3</td>\n",
       "      <td>75</td>\n",
       "      <td>2</td>\n",
       "    </tr>\n",
       "    <tr>\n",
       "      <th>113</th>\n",
       "      <td>H69.02</td>\n",
       "      <td>75</td>\n",
       "      <td>2</td>\n",
       "    </tr>\n",
       "    <tr>\n",
       "      <th>114</th>\n",
       "      <td>H90.3</td>\n",
       "      <td>76</td>\n",
       "      <td>6</td>\n",
       "    </tr>\n",
       "    <tr>\n",
       "      <th>115</th>\n",
       "      <td>H69.03</td>\n",
       "      <td>77</td>\n",
       "      <td>6</td>\n",
       "    </tr>\n",
       "    <tr>\n",
       "      <th>116</th>\n",
       "      <td>H69.02</td>\n",
       "      <td>78</td>\n",
       "      <td>1</td>\n",
       "    </tr>\n",
       "    <tr>\n",
       "      <th>117</th>\n",
       "      <td>381.700000</td>\n",
       "      <td>78</td>\n",
       "      <td>1</td>\n",
       "    </tr>\n",
       "    <tr>\n",
       "      <th>118</th>\n",
       "      <td>H93.13</td>\n",
       "      <td>79</td>\n",
       "      <td>4</td>\n",
       "    </tr>\n",
       "    <tr>\n",
       "      <th>119</th>\n",
       "      <td>H90.3</td>\n",
       "      <td>79</td>\n",
       "      <td>4</td>\n",
       "    </tr>\n",
       "    <tr>\n",
       "      <th>120</th>\n",
       "      <td>H69.03</td>\n",
       "      <td>81</td>\n",
       "      <td>2</td>\n",
       "    </tr>\n",
       "    <tr>\n",
       "      <th>121</th>\n",
       "      <td>381.700000</td>\n",
       "      <td>81</td>\n",
       "      <td>2</td>\n",
       "    </tr>\n",
       "    <tr>\n",
       "      <th>122</th>\n",
       "      <td>H69.00</td>\n",
       "      <td>81</td>\n",
       "      <td>2</td>\n",
       "    </tr>\n",
       "    <tr>\n",
       "      <th>123</th>\n",
       "      <td>H90.3</td>\n",
       "      <td>81</td>\n",
       "      <td>2</td>\n",
       "    </tr>\n",
       "    <tr>\n",
       "      <th>124</th>\n",
       "      <td>381.700000</td>\n",
       "      <td>83</td>\n",
       "      <td>4</td>\n",
       "    </tr>\n",
       "    <tr>\n",
       "      <th>125</th>\n",
       "      <td>381.810000</td>\n",
       "      <td>83</td>\n",
       "      <td>4</td>\n",
       "    </tr>\n",
       "    <tr>\n",
       "      <th>126</th>\n",
       "      <td>389.100000</td>\n",
       "      <td>83</td>\n",
       "      <td>4</td>\n",
       "    </tr>\n",
       "    <tr>\n",
       "      <th>127</th>\n",
       "      <td>381.700000</td>\n",
       "      <td>84</td>\n",
       "      <td>10</td>\n",
       "    </tr>\n",
       "    <tr>\n",
       "      <th>128</th>\n",
       "      <td>389.100000</td>\n",
       "      <td>84</td>\n",
       "      <td>10</td>\n",
       "    </tr>\n",
       "    <tr>\n",
       "      <th>129</th>\n",
       "      <td>381.700000</td>\n",
       "      <td>85</td>\n",
       "      <td>6</td>\n",
       "    </tr>\n",
       "    <tr>\n",
       "      <th>130</th>\n",
       "      <td>H69.00</td>\n",
       "      <td>85</td>\n",
       "      <td>6</td>\n",
       "    </tr>\n",
       "  </tbody>\n",
       "</table>\n",
       "<p>131 rows × 3 columns</p>\n",
       "</div>"
      ],
      "text/plain": [
       "    diagnosis_code  Year_group  code_count\n",
       "0    V20.2          0           148071    \n",
       "1    V20.2          1           54298     \n",
       "2    382.900000     2           72800     \n",
       "3    V20.2          3           48738     \n",
       "4    382.900000     4           12547     \n",
       "5    V20.2          5           40079     \n",
       "6    381.810000     6           7526      \n",
       "7    V20.2          7           17284     \n",
       "8    V20.2          8           17314     \n",
       "9    V20.2          9           14998     \n",
       "10   V20.2          10          10611     \n",
       "11   V20.2          11          10563     \n",
       "12   V20.2          12          9960      \n",
       "13   V20.2          13          8213      \n",
       "14   V20.2          14          4170      \n",
       "15   V20.2          15          2123      \n",
       "16   V20.2          16          2759      \n",
       "17   V20.2          17          2615      \n",
       "18   389.180000     18          1506      \n",
       "19   277.000000     19          1245      \n",
       "20   389.180000     20          646       \n",
       "21   277.000000     21          388       \n",
       "22   277.000000     22          747       \n",
       "23   277.020000     23          527       \n",
       "24   277.020000     24          482       \n",
       "25   E84.0          25          221       \n",
       "26   E84.0          26          258       \n",
       "27   E84.0          27          346       \n",
       "28   277.000000     28          224       \n",
       "29   277.000000     29          140       \n",
       "..          ...     ..          ...       \n",
       "101  381.700000     74          2         \n",
       "102  388.400000     74          2         \n",
       "103  H69.00         74          2         \n",
       "104  H61.22         74          2         \n",
       "105  H90.3          74          2         \n",
       "106  H93.292        74          2         \n",
       "107  H69.02         74          2         \n",
       "108  362.740000     75          2         \n",
       "109  H35.52         75          2         \n",
       "110  Z87.898        75          2         \n",
       "111  381.700000     75          2         \n",
       "112  H90.3          75          2         \n",
       "113  H69.02         75          2         \n",
       "114  H90.3          76          6         \n",
       "115  H69.03         77          6         \n",
       "116  H69.02         78          1         \n",
       "117  381.700000     78          1         \n",
       "118  H93.13         79          4         \n",
       "119  H90.3          79          4         \n",
       "120  H69.03         81          2         \n",
       "121  381.700000     81          2         \n",
       "122  H69.00         81          2         \n",
       "123  H90.3          81          2         \n",
       "124  381.700000     83          4         \n",
       "125  381.810000     83          4         \n",
       "126  389.100000     83          4         \n",
       "127  381.700000     84          10        \n",
       "128  389.100000     84          10        \n",
       "129  381.700000     85          6         \n",
       "130  H69.00         85          6         \n",
       "\n",
       "[131 rows x 3 columns]"
      ]
     },
     "execution_count": 53,
     "metadata": {},
     "output_type": "execute_result"
    }
   ],
   "source": [
    "pandas_df_7 = df_7_6.toPandas()\n",
    "pandas_df_7"
   ]
  },
  {
   "cell_type": "markdown",
   "metadata": {},
   "source": [
    "#### Step 2:- Visualisation using plots (using full data)"
   ]
  },
  {
   "cell_type": "code",
   "execution_count": 54,
   "metadata": {},
   "outputs": [
    {
     "data": {
      "text/plain": [
       "<matplotlib.axes._subplots.AxesSubplot at 0x7f389541a990>"
      ]
     },
     "execution_count": 54,
     "metadata": {},
     "output_type": "execute_result"
    },
    {
     "data": {
      "image/png": "[encoded data removed]",
      "text/plain": [
       "<Figure size 864x288 with 1 Axes>"
      ]
     },
     "metadata": {
      "needs_background": "light"
     },
     "output_type": "display_data"
    }
   ],
   "source": [
    "viz_7_1 = pandas_df_7.plot.scatter (x = 'Year_group',\n",
    "                           y = 'code_count',\n",
    "                             figsize=(12,4),\n",
    "                             title = 'Maximum number of diagnoses assigned with year_group')\n",
    "viz_7_1"
   ]
  },
  {
   "cell_type": "markdown",
   "metadata": {},
   "source": [
    "#### Step 3 :- Saving the solution as .csv file"
   ]
  },
  {
   "cell_type": "code",
   "execution_count": null,
   "metadata": {},
   "outputs": [],
   "source": [
    "filename_7 = \"/home/cloudera/Desktop/assignment/data_result_df/DF_7.csv\"\n",
    "pandas_df_7.to_csv(filename_7, index = False, header = True)"
   ]
  },
  {
   "cell_type": "markdown",
   "metadata": {},
   "source": [
    "##### Definition 7.1.1 DF\n",
    "* For creating dataframes based on inout age range"
   ]
  },
  {
   "cell_type": "code",
   "execution_count": 55,
   "metadata": {},
   "outputs": [],
   "source": [
    "#-------------- Definition 7.1.1 DF -----------\n",
    "def age_filter_1(pandas_df,age) :\n",
    "    bol_age_df = pandas_df['Year_group'] >= age\n",
    "    age_df = pandas_df[bol_age_df]\n",
    "    return (age_df)\n",
    "\n",
    "def age_filter_2(pandas_df,age1,age2):\n",
    "    bol_age1_df = pandas_df['Year_group'] >= age1\n",
    "    bol_age2_df = pandas_df['Year_group'] <= age2\n",
    "    age_df = pandas_df[bol_age1_df & bol_age2_df ]\n",
    "    return age_df\n",
    "\n",
    "def age_filter_3(pandas_df,age) :\n",
    "    bol_age_df = pandas_df['Year_group'] <= age\n",
    "    age_df = pandas_df[bol_age_df]\n",
    "    return (age_df)"
   ]
  },
  {
   "cell_type": "markdown",
   "metadata": {},
   "source": [
    "#### Step 4:- Create smaller dataframes based on age range using definition 7.1.1"
   ]
  },
  {
   "cell_type": "code",
   "execution_count": 56,
   "metadata": {},
   "outputs": [
    {
     "data": {
      "image/png": "[encoded data removed]",
      "text/plain": [
       "<Figure size 864x288 with 1 Axes>"
      ]
     },
     "metadata": {
      "needs_background": "light"
     },
     "output_type": "display_data"
    }
   ],
   "source": [
    "# --> a.ii Under 15 years\n",
    "under15years = age_filter_2(pandas_df_7,0,15)\n",
    "\n",
    "# --> Plot graph\n",
    "plt.figure(figsize=(12, 4))\n",
    "sns.barplot(x=\"Year_group\", y=\"code_count\",\n",
    "            hue=\"diagnosis_code\",\n",
    "            data=under15years\n",
    "           ).set_title(\"Maximum number of diagnoses assigned to patients under 15 years\");\n"
   ]
  },
  {
   "cell_type": "code",
   "execution_count": 57,
   "metadata": {},
   "outputs": [
    {
     "data": {
      "image/png": "[encoded data removed]",
      "text/plain": [
       "<Figure size 864x288 with 1 Axes>"
      ]
     },
     "metadata": {
      "needs_background": "light"
     },
     "output_type": "display_data"
    }
   ],
   "source": [
    "# --> a.iii 15 to 35 years\n",
    "Age15to35 = age_filter_2(pandas_df_7,16,35)\n",
    "\n",
    "plt.figure(figsize=(12, 4))\n",
    "sns.barplot(x=\"Year_group\", y=\"code_count\",\n",
    "            hue=\"diagnosis_code\",\n",
    "            data=Age15to35\n",
    "           ).set_title(\"Maximum number of diagnoses assigned to patients between the age 15 to 35 years\");\n"
   ]
  },
  {
   "cell_type": "code",
   "execution_count": 58,
   "metadata": {},
   "outputs": [
    {
     "data": {
      "image/png": "[encoded data removed]",
      "text/plain": [
       "<Figure size 864x360 with 1 Axes>"
      ]
     },
     "metadata": {
      "needs_background": "light"
     },
     "output_type": "display_data"
    }
   ],
   "source": [
    "# --> a.iv 36 to 50 years\n",
    "Age36to50 = age_filter_2(pandas_df_7,36,50)\n",
    "\n",
    "plt.figure(figsize=(12, 5))\n",
    "sns.barplot(x=\"Year_group\", y=\"code_count\",\n",
    "            hue=\"diagnosis_code\",\n",
    "            data=Age36to50\n",
    "           ).set_title(\"Maximum number of diagnoses assigned to patients between the age 36 to 50 years\");\n"
   ]
  },
  {
   "cell_type": "code",
   "execution_count": 59,
   "metadata": {},
   "outputs": [
    {
     "data": {
      "image/png": "[encoded data removed]",
      "text/plain": [
       "<Figure size 864x288 with 1 Axes>"
      ]
     },
     "metadata": {
      "needs_background": "light"
     },
     "output_type": "display_data"
    }
   ],
   "source": [
    "# --> a.v 51 to 56 years\n",
    "Age51to56 = age_filter_2(pandas_df_7,51,56)\n",
    "#print(Age25to34)\n",
    "\n",
    "plt.figure(figsize=(12, 4))\n",
    "sns.barplot(x=\"Year_group\", y=\"code_count\",\n",
    "            hue=\"diagnosis_code\",\n",
    "            data=Age51to56\n",
    "           ).set_title(\"Maximum number of diagnoses assigned to patients between the age 51 to 56 years\");"
   ]
  },
  {
   "cell_type": "code",
   "execution_count": 60,
   "metadata": {},
   "outputs": [
    {
     "data": {
      "image/png": "[encoded data removed]",
      "text/plain": [
       "<Figure size 864x432 with 1 Axes>"
      ]
     },
     "metadata": {
      "needs_background": "light"
     },
     "output_type": "display_data"
    }
   ],
   "source": [
    "# --> a.v 57 to 58 years\n",
    "Age57to58 = age_filter_2(pandas_df_7,57,58)\n",
    "#print(Age25to34)\n",
    "\n",
    "plt.figure(figsize=(12, 6))\n",
    "sns.barplot(x=\"Year_group\", y=\"code_count\",\n",
    "            hue=\"diagnosis_code\",\n",
    "            data=Age57to58\n",
    "           ).set_title(\"Maximum number of diagnoses assigned to patients between the age 51 to 56 years\");"
   ]
  },
  {
   "cell_type": "code",
   "execution_count": 61,
   "metadata": {},
   "outputs": [
    {
     "data": {
      "image/png": "[encoded data removed]",
      "text/plain": [
       "<Figure size 864x360 with 1 Axes>"
      ]
     },
     "metadata": {
      "needs_background": "light"
     },
     "output_type": "display_data"
    }
   ],
   "source": [
    "# --> a.vii 59 to 68 years\n",
    "Age59to68 = age_filter_2(pandas_df_7,59,68)\n",
    "\n",
    "plt.figure(figsize=(12, 5))\n",
    "sns.barplot(x=\"Year_group\", y=\"code_count\",\n",
    "            hue=\"diagnosis_code\",\n",
    "            data=Age59to68\n",
    "           ).set_title(\"Maximum number of diagnoses assigned to patients between the age 59 to 68 years\");\n"
   ]
  },
  {
   "cell_type": "code",
   "execution_count": 62,
   "metadata": {},
   "outputs": [
    {
     "data": {
      "image/png": "[encoded data removed]",
      "text/plain": [
       "<Figure size 864x360 with 1 Axes>"
      ]
     },
     "metadata": {
      "needs_background": "light"
     },
     "output_type": "display_data"
    }
   ],
   "source": [
    "# --> a.vii 69 to 74 years\n",
    "Age69to74 = age_filter_2(pandas_df_7,69,74)\n",
    "#print(Age69to74)\n",
    "\n",
    "plt.figure(figsize=(12, 5))\n",
    "sns.barplot(x=\"Year_group\", y=\"code_count\",\n",
    "            hue=\"diagnosis_code\",\n",
    "            data=Age69to74\n",
    "           ).set_title(\"Maximum number of diagnoses assigned to patients between the age 69 to 74 years\");\n"
   ]
  },
  {
   "cell_type": "code",
   "execution_count": 63,
   "metadata": {},
   "outputs": [
    {
     "data": {
      "image/png": "[encoded data removed]",
      "text/plain": [
       "<Figure size 864x360 with 1 Axes>"
      ]
     },
     "metadata": {
      "needs_background": "light"
     },
     "output_type": "display_data"
    }
   ],
   "source": [
    "# --> a.ix Above 75 years\n",
    "Above75years = age_filter_1(pandas_df_7,75)\n",
    "\n",
    "plt.figure(figsize=(12, 5))\n",
    "sns.barplot(x=\"Year_group\", y=\"code_count\",\n",
    "            hue=\"diagnosis_code\",\n",
    "            data=Above75years\n",
    "           ).set_title(\"Maximum number of diagnoses assigned to patients above 75 years\");# --> a.ix Above 75 years\n"
   ]
  },
  {
   "cell_type": "code",
   "execution_count": null,
   "metadata": {},
   "outputs": [],
   "source": [
    "# ======================================\n",
    "#   Uncomment to visualise pandas dataframe\n",
    "# ======================================\n",
    "\n",
    "#DF7_7_Under15years\n",
    "#DF7_7_Age15to35\n",
    "#DF7_7_Age36to50 \n",
    "#DF7_7_Age51to56\n",
    "#DF7_7_Age57to58\n",
    "#DF7_7_Age69to74 \n",
    "#DF7_7_Above75years"
   ]
  }
 ],
 "metadata": {
  "kernelspec": {
   "display_name": "Python 2",
   "language": "python",
   "name": "python2"
  },
  "language_info": {
   "codemirror_mode": {
    "name": "ipython",
    "version": 2
   },
   "file_extension": ".py",
   "mimetype": "text/x-python",
   "name": "python",
   "nbconvert_exporter": "python",
   "pygments_lexer": "ipython2",
   "version": "2.7.16"
  }
 },
 "nbformat": 4,
 "nbformat_minor": 2
}
